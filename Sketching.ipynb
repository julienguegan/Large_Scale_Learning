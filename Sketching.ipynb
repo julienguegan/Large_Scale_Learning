{
 "cells": [
  {
   "cell_type": "markdown",
   "metadata": {},
   "source": [
    "# IA317: Large-scale machine learning\n",
    "# Sketching"
   ]
  },
  {
   "cell_type": "markdown",
   "metadata": {},
   "source": [
    "In this lab, you will learn to work with [Min Hash](https://en.wikipedia.org/wiki/MinHash), a simple and efficient sketching algorithm to get approximate nearest neighbors for binary (sparse) data. You will find below some functions to build hashing tables and to find approximate $k$-nearest neighbors using Min Hash."
   ]
  },
  {
   "cell_type": "markdown",
   "metadata": {},
   "source": [
    "## Import"
   ]
  },
  {
   "cell_type": "code",
   "execution_count": 1,
   "metadata": {
    "ExecuteTime": {
     "end_time": "2020-01-05T19:33:24.360090Z",
     "start_time": "2020-01-05T19:33:22.697066Z"
    }
   },
   "outputs": [],
   "source": [
    "import numpy as np\n",
    "from scipy import sparse\n",
    "from sklearn.datasets import fetch_20newsgroups\n",
    "from sklearn.feature_extraction.text import CountVectorizer\n",
    "from scipy.sparse import csr_matrix"
   ]
  },
  {
   "cell_type": "markdown",
   "metadata": {},
   "source": [
    "## Instructions"
   ]
  },
  {
   "cell_type": "markdown",
   "metadata": {},
   "source": [
    "Please provide short answers to the questions at the bottom of the notebook. Most involve Python coding. Add as many cells as necessary (code and text). \n",
    "\n",
    "This lab is not graded but you might upload it on [eCampus](https://ecampus.paris-saclay.fr/course/view.php?id=18426) if you wish. Before that, make sure to:\n",
    "* Delete all useless cells (tests, etc.)\n",
    "* Check that **your code is running and does not produce any errors**. You might restart the kernel and run all cells at the end of the lab to check that this is indeed the case. \n",
    "* Keep the outputs."
   ]
  },
  {
   "cell_type": "markdown",
   "metadata": {},
   "source": [
    "## Data"
   ]
  },
  {
   "cell_type": "markdown",
   "metadata": {},
   "source": [
    "The lab is based on the [20newsgroups](http://qwone.com/~jason/20Newsgroups/) dataset."
   ]
  },
  {
   "cell_type": "code",
   "execution_count": 2,
   "metadata": {
    "ExecuteTime": {
     "end_time": "2020-01-05T19:33:24.878952Z",
     "start_time": "2020-01-05T19:33:24.364408Z"
    }
   },
   "outputs": [],
   "source": [
    "dataset_train = fetch_20newsgroups(subset='train')"
   ]
  },
  {
   "cell_type": "code",
   "execution_count": 3,
   "metadata": {
    "ExecuteTime": {
     "end_time": "2020-01-05T19:33:24.890483Z",
     "start_time": "2020-01-05T19:33:24.880890Z"
    }
   },
   "outputs": [],
   "source": [
    "target_names = dataset_train.target_names"
   ]
  },
  {
   "cell_type": "code",
   "execution_count": 4,
   "metadata": {
    "ExecuteTime": {
     "end_time": "2020-01-05T19:33:25.097243Z",
     "start_time": "2020-01-05T19:33:24.893243Z"
    },
    "scrolled": true
   },
   "outputs": [
    {
     "name": "stdout",
     "output_type": "stream",
     "text": [
      "20\n"
     ]
    }
   ],
   "source": [
    "print(len(target_names))"
   ]
  },
  {
   "cell_type": "code",
   "execution_count": 5,
   "metadata": {
    "ExecuteTime": {
     "end_time": "2020-01-05T19:33:25.290373Z",
     "start_time": "2020-01-05T19:33:25.100053Z"
    }
   },
   "outputs": [
    {
     "name": "stdout",
     "output_type": "stream",
     "text": [
      "['alt.atheism', 'comp.graphics', 'comp.os.ms-windows.misc', 'comp.sys.ibm.pc.hardware', 'comp.sys.mac.hardware', 'comp.windows.x', 'misc.forsale', 'rec.autos', 'rec.motorcycles', 'rec.sport.baseball', 'rec.sport.hockey', 'sci.crypt', 'sci.electronics', 'sci.med', 'sci.space', 'soc.religion.christian', 'talk.politics.guns', 'talk.politics.mideast', 'talk.politics.misc', 'talk.religion.misc']\n"
     ]
    }
   ],
   "source": [
    "print(target_names)"
   ]
  },
  {
   "cell_type": "code",
   "execution_count": 6,
   "metadata": {
    "ExecuteTime": {
     "end_time": "2020-01-05T19:33:25.480778Z",
     "start_time": "2020-01-05T19:33:25.295404Z"
    }
   },
   "outputs": [
    {
     "name": "stdout",
     "output_type": "stream",
     "text": [
      "From: lerxst@wam.umd.edu (where's my thing)\n",
      "Subject: WHAT car is this!?\n",
      "Nntp-Posting-Host: rac3.wam.umd.edu\n",
      "Organization: University of Maryland, College Park\n",
      "Lines: 15\n",
      "\n",
      " I was wondering if anyone out there could enlighten me on this car I saw\n",
      "the other day. It was a 2-door sports car, looked to be from the late 60s/\n",
      "early 70s. It was called a Bricklin. The doors were really small. In addition,\n",
      "the front bumper was separate from the rest of the body. This is \n",
      "all I know. If anyone can tellme a model name, engine specs, years\n",
      "of production, where this car is made, history, or whatever info you\n",
      "have on this funky looking car, please e-mail.\n",
      "\n",
      "Thanks,\n",
      "- IL\n",
      "   ---- brought to you by your neighborhood Lerxst ----\n",
      "\n",
      "\n",
      "\n",
      "\n",
      "\n"
     ]
    }
   ],
   "source": [
    "print(dataset_train.data[0])"
   ]
  },
  {
   "cell_type": "code",
   "execution_count": 7,
   "metadata": {
    "ExecuteTime": {
     "end_time": "2020-01-05T19:33:25.669576Z",
     "start_time": "2020-01-05T19:33:25.486098Z"
    }
   },
   "outputs": [],
   "source": [
    "y_train = dataset_train.target"
   ]
  },
  {
   "cell_type": "code",
   "execution_count": 8,
   "metadata": {
    "ExecuteTime": {
     "end_time": "2020-01-05T19:33:25.839398Z",
     "start_time": "2020-01-05T19:33:25.673752Z"
    },
    "scrolled": false
   },
   "outputs": [
    {
     "name": "stdout",
     "output_type": "stream",
     "text": [
      "rec.autos\n"
     ]
    }
   ],
   "source": [
    "print(target_names[y_train[0]])"
   ]
  },
  {
   "cell_type": "code",
   "execution_count": 9,
   "metadata": {
    "ExecuteTime": {
     "end_time": "2020-01-05T19:33:26.105334Z",
     "start_time": "2020-01-05T19:33:25.843847Z"
    }
   },
   "outputs": [
    {
     "data": {
      "text/plain": [
       "(array([ 0,  1,  2,  3,  4,  5,  6,  7,  8,  9, 10, 11, 12, 13, 14, 15, 16,\n",
       "        17, 18, 19]),\n",
       " array([480, 584, 591, 590, 578, 593, 585, 594, 598, 597, 600, 595, 591,\n",
       "        594, 593, 599, 546, 564, 465, 377], dtype=int64))"
      ]
     },
     "execution_count": 9,
     "metadata": {},
     "output_type": "execute_result"
    }
   ],
   "source": [
    "np.unique(y_train, return_counts=True)"
   ]
  },
  {
   "cell_type": "code",
   "execution_count": 10,
   "metadata": {
    "ExecuteTime": {
     "end_time": "2020-01-05T19:33:26.821523Z",
     "start_time": "2020-01-05T19:33:26.110987Z"
    }
   },
   "outputs": [],
   "source": [
    "dataset_test = fetch_20newsgroups(subset='test')"
   ]
  },
  {
   "cell_type": "code",
   "execution_count": 11,
   "metadata": {
    "ExecuteTime": {
     "end_time": "2020-01-05T19:33:26.832597Z",
     "start_time": "2020-01-05T19:33:26.821523Z"
    }
   },
   "outputs": [],
   "source": [
    "y_test = dataset_test.target"
   ]
  },
  {
   "cell_type": "markdown",
   "metadata": {},
   "source": [
    "## Vectorization"
   ]
  },
  {
   "cell_type": "markdown",
   "metadata": {},
   "source": [
    "The dataset is vectorized and binarized."
   ]
  },
  {
   "cell_type": "code",
   "execution_count": 12,
   "metadata": {
    "ExecuteTime": {
     "end_time": "2020-01-05T19:33:32.893163Z",
     "start_time": "2020-01-05T19:33:26.833411Z"
    }
   },
   "outputs": [
    {
     "data": {
      "text/plain": [
       "CountVectorizer(analyzer='word', binary=False, decode_error='strict',\n",
       "                dtype=<class 'numpy.int64'>, encoding='utf-8', input='content',\n",
       "                lowercase=True, max_df=0.2, max_features=None, min_df=5,\n",
       "                ngram_range=(1, 1), preprocessor=None, stop_words='english',\n",
       "                strip_accents=None, token_pattern='(?u)\\\\b\\\\w\\\\w+\\\\b',\n",
       "                tokenizer=None, vocabulary=None)"
      ]
     },
     "execution_count": 12,
     "metadata": {},
     "output_type": "execute_result"
    }
   ],
   "source": [
    "tf_vectorizer = CountVectorizer(min_df=5, max_df=0.2, stop_words='english')\n",
    "tf_vectorizer.fit(dataset_train.data)"
   ]
  },
  {
   "cell_type": "code",
   "execution_count": 13,
   "metadata": {
    "ExecuteTime": {
     "end_time": "2020-01-05T19:33:41.461112Z",
     "start_time": "2020-01-05T19:33:32.896154Z"
    }
   },
   "outputs": [],
   "source": [
    "X_train = tf_vectorizer.transform(dataset_train.data)\n",
    "X_test = tf_vectorizer.transform(dataset_test.data)"
   ]
  },
  {
   "cell_type": "code",
   "execution_count": 14,
   "metadata": {
    "ExecuteTime": {
     "end_time": "2020-01-05T19:33:41.492636Z",
     "start_time": "2020-01-05T19:33:41.464795Z"
    }
   },
   "outputs": [],
   "source": [
    "X_train.data = np.ones(len(X_train.data))\n",
    "X_test.data = np.ones(len(X_test.data))"
   ]
  },
  {
   "cell_type": "code",
   "execution_count": 15,
   "metadata": {
    "ExecuteTime": {
     "end_time": "2020-01-05T19:33:41.613341Z",
     "start_time": "2020-01-05T19:33:41.497857Z"
    }
   },
   "outputs": [
    {
     "data": {
      "text/plain": [
       "(11314, 25614)"
      ]
     },
     "execution_count": 15,
     "metadata": {},
     "output_type": "execute_result"
    }
   ],
   "source": [
    "X_train.shape"
   ]
  },
  {
   "cell_type": "code",
   "execution_count": 16,
   "metadata": {
    "ExecuteTime": {
     "end_time": "2020-01-05T19:33:41.730013Z",
     "start_time": "2020-01-05T19:33:41.617865Z"
    }
   },
   "outputs": [
    {
     "data": {
      "text/plain": [
       "(7532, 25614)"
      ]
     },
     "execution_count": 16,
     "metadata": {},
     "output_type": "execute_result"
    }
   ],
   "source": [
    "X_test.shape"
   ]
  },
  {
   "cell_type": "markdown",
   "metadata": {},
   "source": [
    "## Min Hash"
   ]
  },
  {
   "cell_type": "markdown",
   "metadata": {},
   "source": [
    "Here are some useful functions for Min Hash sketching."
   ]
  },
  {
   "cell_type": "code",
   "execution_count": 17,
   "metadata": {
    "ExecuteTime": {
     "end_time": "2020-01-05T19:33:41.856999Z",
     "start_time": "2020-01-05T19:33:41.732961Z"
    }
   },
   "outputs": [],
   "source": [
    "def jaccard_similarity(x, X):\n",
    "    '''Get Jaccard similarities between a target and a set of samples.\n",
    "    \n",
    "    Parameters\n",
    "    ----------\n",
    "    x : np.ndarray\n",
    "        Vector of size d.\n",
    "    X : np.ndarray or sparse csr matrix.\n",
    "        Data, as array of shape (n,d).\n",
    "        \n",
    "    Returns\n",
    "    -------\n",
    "    sims : np.ndarray\n",
    "        Jaccard similarities, as a vector of size n.\n",
    "    '''\n",
    "    \n",
    "    inter = X.dot(x)\n",
    "    union = np.sum(x) + X.dot(np.ones(X.shape[1])) - inter\n",
    "    sims  = inter / union\n",
    "    \n",
    "    return sims"
   ]
  },
  {
   "cell_type": "code",
   "execution_count": 18,
   "metadata": {
    "ExecuteTime": {
     "end_time": "2020-01-05T19:33:41.986105Z",
     "start_time": "2020-01-05T19:33:41.863734Z"
    }
   },
   "outputs": [],
   "source": [
    "def get_permutations(d, L = 100):\n",
    "    '''Get permutations.\n",
    "    \n",
    "    Parameters\n",
    "    ----------\n",
    "    d : int\n",
    "        Dimension (number of indices to shuffle).\n",
    "    L : int\n",
    "        Number of permutations.\n",
    "        \n",
    "    Returns\n",
    "    -------\n",
    "    Permutations : np.ndarray\n",
    "        Permutations as array of shape (L,d)\n",
    "    '''\n",
    "    permutations = []\n",
    "    for l in range(L):\n",
    "        index = np.arange(d)\n",
    "        np.random.shuffle(index)    \n",
    "        permutations.append(list(index))\n",
    "    return np.array(permutations)"
   ]
  },
  {
   "cell_type": "code",
   "execution_count": 19,
   "metadata": {
    "ExecuteTime": {
     "end_time": "2020-01-05T19:33:42.124626Z",
     "start_time": "2020-01-05T19:33:41.987090Z"
    }
   },
   "outputs": [],
   "source": [
    "def get_signature(X, permutations):\n",
    "    '''Compute the MinHash of each sample.\n",
    "    \n",
    "    Parameters\n",
    "    ----------\n",
    "    X : sparse csr matrix.\n",
    "        Data (binary features), shape (n, d).\n",
    "    permutations : np.ndarray\n",
    "        Permutations as array of shape (L,d)\n",
    "        \n",
    "    Returns\n",
    "    -------\n",
    "    signature : np.ndarray\n",
    "        MinHash signature as array of shape (n, L)\n",
    "    '''\n",
    "    n = X.shape[1]\n",
    "    L = permutations.shape[0]\n",
    "    signatures = np.zeros((L,n))\n",
    "    for l in np.arange(0, L):\n",
    "        X = X[:, permutations[l, :]]\n",
    "        d = np.append([0], np.diff(X.indptr)) # nombre de 1 à chaque ligne\n",
    "        C = np.cumsum(d)[:-1] # indices des positions de chaque premiers 1 pour chaque ligne\n",
    "        pos_1st = X.indices[C] # position du premier 1 ligne pour chaque ligne\n",
    "        pos_min = np.argmin(pos_1st)  # numero de la ligne qui a le 1 qui apparait le plus tôt\n",
    "        signatures[l,:] = X.getrow(pos_min).todense() \n",
    "    \n",
    "    return signatures"
   ]
  },
  {
   "cell_type": "code",
   "execution_count": 20,
   "metadata": {
    "ExecuteTime": {
     "end_time": "2020-01-05T19:33:42.254274Z",
     "start_time": "2020-01-05T19:33:42.130890Z"
    }
   },
   "outputs": [],
   "source": [
    "def get_hash_tables(signature):\n",
    "    '''Build hash tables.\n",
    "    \n",
    "    Parameters\n",
    "    ----------\n",
    "    signature : np.ndarray\n",
    "        Data signature as array of shape (n, L)\n",
    "        \n",
    "    Returns\n",
    "    -------\n",
    "    hash_tables : list of dict\n",
    "        List of L hash tables\n",
    "    '''    \n",
    "    hash_tables = []\n",
    "    for sig in signature.T:\n",
    "        hash_tables.append({s: list(np.argwhere(sig == s).ravel()) for s in np.unique(sig)})\n",
    "    return hash_tables"
   ]
  },
  {
   "cell_type": "code",
   "execution_count": 34,
   "metadata": {
    "ExecuteTime": {
     "end_time": "2020-01-05T19:36:10.170778Z",
     "start_time": "2020-01-05T19:36:10.152412Z"
    }
   },
   "outputs": [],
   "source": [
    "def get_approximate_knn(signature_test, hash_tables, X_train, X_test, k = 3, factor = 10):\n",
    "    '''Get approximate k-nearest neighbors (for Jaccard distance).\n",
    "    \n",
    "    Parameters\n",
    "    ----------\n",
    "    signature_test : np.ndarray\n",
    "        Data signature as array of shape (n_test, L).\n",
    "    hash_tables : list of dict\n",
    "        List of L hash tables (based on train set).\n",
    "    X_train : np.ndarray or sparse csr matrix\n",
    "        Training data, shape (n_train, d).\n",
    "    X_test : np.ndarray or sparse csr matrix\n",
    "        Test data, shape (n_test, d)\n",
    "    k : int\n",
    "        Number of nearest neighbors.\n",
    "    factor : int\n",
    "        Multiplicative factor. \n",
    "        Nearest neighbors are searched in a list of factor * k samples.\n",
    "        \n",
    "    Returns\n",
    "    -------\n",
    "    nn : np.ndarray\n",
    "        Approximate k-nearest neighbors, as arrays of shape (n_test, k).\n",
    "        Each entry is in range(n_train)\n",
    "    '''    \n",
    "    nn_list = []\n",
    "    for i, sig in enumerate(signature_test):\n",
    "        # search potential nearest neighbors\n",
    "        neighbors = []\n",
    "        for j, key in enumerate(sig):\n",
    "            if key in hash_tables[j]:\n",
    "                neighbors += hash_tables[j][key]\n",
    "        values, counts = np.unique(neighbors, return_counts = True) \n",
    "        # compute actual nearest neighbors\n",
    "        if len(values) >= k:\n",
    "            indices = values[np.argsort(-counts)][:factor * k]\n",
    "            unit_vector = np.zeros(X_test.shape[0])\n",
    "            print('i:',i)\n",
    "            print(unit_vector.shape)\n",
    "            unit_vector[i] = 1\n",
    "            x_test = X_test.T.dot(unit_vector)\n",
    "            print(x_test)\n",
    "            print(np.argmax(jaccard_similarity(x_test, X_train[indices])))\n",
    "            nn_list.append(indices[np.argsort(-jaccard_similarity(x_test, X_train[indices]))[:k]])\n",
    "        else:\n",
    "            # complete with random values if necessary\n",
    "            nn_list.append(np.array(list(values) + list(np.random.choice(X_train.shape[0], size = k - len(values)))))\n",
    "    return np.array(nn_list)"
   ]
  },
  {
   "cell_type": "code",
   "execution_count": 22,
   "metadata": {
    "ExecuteTime": {
     "end_time": "2020-01-05T19:33:42.488101Z",
     "start_time": "2020-01-05T19:33:42.381495Z"
    }
   },
   "outputs": [],
   "source": [
    "def knn_classifier(nn, y_train):\n",
    "    '''Classification based on list of k-nearest neighbors.\n",
    "    \n",
    "    Parameters\n",
    "    ----------\n",
    "    nn_list : np.ndarray\n",
    "        k-nearest neighbors, as arrays of shape (n_test, k).\n",
    "        Each entry is in range(n_train)\n",
    "    y_train : np.ndarray\n",
    "        Target labels of the train set, array of shape (n_train,).\n",
    "        \n",
    "    Returns\n",
    "    -------\n",
    "    y_pred : np.ndarray\n",
    "        Predicted labels of the test set, array of shape (n_test,).\n",
    "    '''    \n",
    "    y_pred = []\n",
    "    for nn_ in nn:\n",
    "        labels, counts = np.unique(y_train[nn_], return_counts=True)\n",
    "        y_pred.append(labels[np.argmax(counts)])\n",
    "    return np.array(y_pred)"
   ]
  },
  {
   "cell_type": "markdown",
   "metadata": {},
   "source": [
    "## Questions"
   ]
  },
  {
   "cell_type": "markdown",
   "metadata": {},
   "source": [
    "Unless otherwise specified, the considered metric is the [Jaccard distance](https://en.wikipedia.org/wiki/Jaccard_index)."
   ]
  },
  {
   "cell_type": "markdown",
   "metadata": {},
   "source": [
    "1. Complete the ``jaccard_similarity`` function. Make sure that your code does not produce any dense matrix.<br>\n",
    "What is the nearest neighbor of the following sentence in the training set? What is the corresponding newsgroup?"
   ]
  },
  {
   "cell_type": "code",
   "execution_count": 23,
   "metadata": {
    "ExecuteTime": {
     "end_time": "2020-01-05T19:33:42.608404Z",
     "start_time": "2020-01-05T19:33:42.492594Z"
    }
   },
   "outputs": [],
   "source": [
    "sentence = \"Ice hockey is a team sport played on ice, in which two teams of skaters use their sticks to shoot a puck into their opponent's net to score points.\""
   ]
  },
  {
   "cell_type": "code",
   "execution_count": 24,
   "metadata": {
    "ExecuteTime": {
     "end_time": "2020-01-05T19:33:42.739192Z",
     "start_time": "2020-01-05T19:33:42.612393Z"
    }
   },
   "outputs": [
    {
     "name": "stdout",
     "output_type": "stream",
     "text": [
      "Ice hockey is a team sport played on ice, in which two teams of skaters use their sticks to shoot a puck into their opponent's net to score points.\n"
     ]
    }
   ],
   "source": [
    "print(sentence)"
   ]
  },
  {
   "cell_type": "code",
   "execution_count": 25,
   "metadata": {
    "ExecuteTime": {
     "end_time": "2020-01-05T19:33:42.853263Z",
     "start_time": "2020-01-05T19:33:42.768563Z"
    }
   },
   "outputs": [],
   "source": [
    "# sparse matrix\n",
    "X_sample = tf_vectorizer.transform([sentence])\n",
    "X_sample.data = (X_sample.data > 0)"
   ]
  },
  {
   "cell_type": "code",
   "execution_count": 26,
   "metadata": {
    "ExecuteTime": {
     "end_time": "2020-01-05T19:33:43.021062Z",
     "start_time": "2020-01-05T19:33:42.864037Z"
    }
   },
   "outputs": [],
   "source": [
    "# dense vector\n",
    "x_sample = np.array(X_sample.todense()).flatten()"
   ]
  },
  {
   "cell_type": "code",
   "execution_count": 27,
   "metadata": {
    "ExecuteTime": {
     "end_time": "2020-01-05T19:33:43.164859Z",
     "start_time": "2020-01-05T19:33:43.028341Z"
    }
   },
   "outputs": [],
   "source": [
    "s = jaccard_similarity(x_sample, X_train)"
   ]
  },
  {
   "cell_type": "code",
   "execution_count": 28,
   "metadata": {
    "ExecuteTime": {
     "end_time": "2020-01-05T19:33:43.321872Z",
     "start_time": "2020-01-05T19:33:43.170758Z"
    }
   },
   "outputs": [
    {
     "name": "stdout",
     "output_type": "stream",
     "text": [
      "From: chuck@mks.com (Chuck Lownie)\n",
      "Subject: Re: Tie Breaker....(Isles and Devils)\n",
      "Organization: Mortice Kern Systems Inc., Waterloo, Ontario, CANADA\n",
      "Lines: 27\n",
      "\n",
      "In article <lrw509f@rpi.edu> wangr@rpi.edu writes:\n",
      ">\tAre people here stupid or what??? It is a tie breaker, of cause they\n",
      ">have to have the same record. How can people be sooooo stuppid to put win as\n",
      ">first in the list for tie breaker??? If it is a tie breaker, how can there be\n",
      ">different record???? Man, I thought people in this net are good with hockey.\n",
      ">I might not be great in Math, but tell me how can two teams ahve the same points\n",
      ">with different record??? Man...retard!!!!!! Can't believe people actually put\n",
      ">win as first in a tie breaker......\n",
      ">\n",
      ">\n",
      "\n",
      "\n",
      "I didn't see any smilies in this message so.......\n",
      "\n",
      "                W     T    L    PTs\n",
      "   Team A      50    30    4    104\n",
      "   Team B      52    32    0    104\n",
      "\n",
      "\n",
      "There you go.  Two teams that tie in points without identical records.\n",
      "\n",
      "\n",
      "-- \n",
      "\n",
      "\n",
      "\n",
      "\n",
      "\n"
     ]
    }
   ],
   "source": [
    "s_max = np.argmax(s)\n",
    "print(dataset_train.data[s_max])"
   ]
  },
  {
   "cell_type": "markdown",
   "metadata": {},
   "source": [
    "2. Find the common words between the above sentence and its nearest neighbor."
   ]
  },
  {
   "cell_type": "code",
   "execution_count": 29,
   "metadata": {
    "ExecuteTime": {
     "end_time": "2020-01-05T19:33:43.525599Z",
     "start_time": "2020-01-05T19:33:43.327228Z"
    }
   },
   "outputs": [
    {
     "name": "stdout",
     "output_type": "stream",
     "text": [
      "['hockey' 'net' 'points' 'team' 'teams']\n"
     ]
    }
   ],
   "source": [
    "feat_names = tf_vectorizer.get_feature_names()\n",
    "\n",
    "nn    = np.array(X_train[s_max,:].todense().ravel())\n",
    "inter = np.argwhere((nn * x_sample) == 1)[:,1]\n",
    "print(np.array(feat_names)[inter])"
   ]
  },
  {
   "cell_type": "markdown",
   "metadata": {},
   "source": [
    "3. Complete the function ``get_signature``.<br>\n",
    "Get 3 nearest neighbors of the above sentence using Min Hash with 100 permutations.<br>\n",
    "Display the corresponding newsgroups."
   ]
  },
  {
   "cell_type": "code",
   "execution_count": 30,
   "metadata": {
    "ExecuteTime": {
     "end_time": "2020-01-05T19:33:44.708938Z",
     "start_time": "2020-01-05T19:33:43.530740Z"
    }
   },
   "outputs": [],
   "source": [
    "d = X_train.shape[1]\n",
    "permutations = get_permutations(d)"
   ]
  },
  {
   "cell_type": "code",
   "execution_count": 31,
   "metadata": {
    "ExecuteTime": {
     "end_time": "2020-01-05T19:33:48.443279Z",
     "start_time": "2020-01-05T19:33:44.709949Z"
    }
   },
   "outputs": [],
   "source": [
    "signature_train = get_signature(X_train, permutations)\n",
    "hash_tables = get_hash_tables(signature_train)"
   ]
  },
  {
   "cell_type": "code",
   "execution_count": 32,
   "metadata": {
    "ExecuteTime": {
     "end_time": "2020-01-05T19:33:48.832298Z",
     "start_time": "2020-01-05T19:33:48.445585Z"
    }
   },
   "outputs": [],
   "source": [
    "signature_sample = get_signature(X_sample, permutations)"
   ]
  },
  {
   "cell_type": "code",
   "execution_count": 35,
   "metadata": {
    "ExecuteTime": {
     "end_time": "2020-01-05T19:36:17.226755Z",
     "start_time": "2020-01-05T19:36:15.723343Z"
    }
   },
   "outputs": [
    {
     "name": "stdout",
     "output_type": "stream",
     "text": [
      "(11314, 25614)\n",
      "(1, 25614)\n",
      "(25614, 1)\n",
      "i: 0\n",
      "(1,)\n",
      "[0. 0. 0. ... 0. 0. 0.]\n",
      "11\n",
      "i: 1\n",
      "(1,)\n"
     ]
    },
    {
     "ename": "IndexError",
     "evalue": "index 1 is out of bounds for axis 0 with size 1",
     "output_type": "error",
     "traceback": [
      "\u001b[1;31m---------------------------------------------------------------------------\u001b[0m",
      "\u001b[1;31mIndexError\u001b[0m                                Traceback (most recent call last)",
      "\u001b[1;32m<ipython-input-35-4a148b72aa58>\u001b[0m in \u001b[0;36m<module>\u001b[1;34m\u001b[0m\n\u001b[0;32m      3\u001b[0m \u001b[0mprint\u001b[0m\u001b[1;33m(\u001b[0m\u001b[0mX_sample\u001b[0m\u001b[1;33m.\u001b[0m\u001b[0mT\u001b[0m\u001b[1;33m.\u001b[0m\u001b[0mshape\u001b[0m\u001b[1;33m)\u001b[0m\u001b[1;33m\u001b[0m\u001b[1;33m\u001b[0m\u001b[0m\n\u001b[0;32m      4\u001b[0m \u001b[1;33m\u001b[0m\u001b[0m\n\u001b[1;32m----> 5\u001b[1;33m \u001b[0mget_approximate_knn\u001b[0m\u001b[1;33m(\u001b[0m\u001b[0msignature_sample\u001b[0m\u001b[1;33m,\u001b[0m \u001b[0mhash_tables\u001b[0m\u001b[1;33m,\u001b[0m \u001b[0mX_train\u001b[0m\u001b[1;33m,\u001b[0m \u001b[0mX_sample\u001b[0m\u001b[1;33m,\u001b[0m \u001b[0mk\u001b[0m \u001b[1;33m=\u001b[0m \u001b[1;36m3\u001b[0m\u001b[1;33m,\u001b[0m \u001b[0mfactor\u001b[0m \u001b[1;33m=\u001b[0m \u001b[1;36m10\u001b[0m\u001b[1;33m)\u001b[0m\u001b[1;33m\u001b[0m\u001b[1;33m\u001b[0m\u001b[0m\n\u001b[0m",
      "\u001b[1;32m<ipython-input-34-63da4c42fb95>\u001b[0m in \u001b[0;36mget_approximate_knn\u001b[1;34m(signature_test, hash_tables, X_train, X_test, k, factor)\u001b[0m\n\u001b[0;32m     38\u001b[0m             \u001b[0mprint\u001b[0m\u001b[1;33m(\u001b[0m\u001b[1;34m'i:'\u001b[0m\u001b[1;33m,\u001b[0m\u001b[0mi\u001b[0m\u001b[1;33m)\u001b[0m\u001b[1;33m\u001b[0m\u001b[1;33m\u001b[0m\u001b[0m\n\u001b[0;32m     39\u001b[0m             \u001b[0mprint\u001b[0m\u001b[1;33m(\u001b[0m\u001b[0munit_vector\u001b[0m\u001b[1;33m.\u001b[0m\u001b[0mshape\u001b[0m\u001b[1;33m)\u001b[0m\u001b[1;33m\u001b[0m\u001b[1;33m\u001b[0m\u001b[0m\n\u001b[1;32m---> 40\u001b[1;33m             \u001b[0munit_vector\u001b[0m\u001b[1;33m[\u001b[0m\u001b[0mi\u001b[0m\u001b[1;33m]\u001b[0m \u001b[1;33m=\u001b[0m \u001b[1;36m1\u001b[0m\u001b[1;33m\u001b[0m\u001b[1;33m\u001b[0m\u001b[0m\n\u001b[0m\u001b[0;32m     41\u001b[0m             \u001b[0mx_test\u001b[0m \u001b[1;33m=\u001b[0m \u001b[0mX_test\u001b[0m\u001b[1;33m.\u001b[0m\u001b[0mT\u001b[0m\u001b[1;33m.\u001b[0m\u001b[0mdot\u001b[0m\u001b[1;33m(\u001b[0m\u001b[0munit_vector\u001b[0m\u001b[1;33m)\u001b[0m\u001b[1;33m\u001b[0m\u001b[1;33m\u001b[0m\u001b[0m\n\u001b[0;32m     42\u001b[0m             \u001b[0mprint\u001b[0m\u001b[1;33m(\u001b[0m\u001b[0mx_test\u001b[0m\u001b[1;33m)\u001b[0m\u001b[1;33m\u001b[0m\u001b[1;33m\u001b[0m\u001b[0m\n",
      "\u001b[1;31mIndexError\u001b[0m: index 1 is out of bounds for axis 0 with size 1"
     ]
    }
   ],
   "source": [
    "print(X_train.shape)\n",
    "print(X_sample.shape)\n",
    "print(X_sample.T.shape)\n",
    "\n",
    "get_approximate_knn(signature_sample, hash_tables, X_train, X_sample, k = 3, factor = 10)"
   ]
  },
  {
   "cell_type": "markdown",
   "metadata": {},
   "source": [
    "4. What is the accuracy of (approximate) 3-nn classification using Min Hash with 100 permutations?<br>\n",
    "Compare with the exact 3-nn classification based on (a) the Hamming distance, (b) the cosine similarity after SVD.<br>\n",
    "Comment the results."
   ]
  },
  {
   "cell_type": "code",
   "execution_count": null,
   "metadata": {},
   "outputs": [],
   "source": []
  },
  {
   "cell_type": "markdown",
   "metadata": {},
   "source": [
    "5. (optional) Test the impact on time complexity and accuracy of grouping MinHash functions in batches (e.g., 1 key of the hash table given by 2 MinHash values)."
   ]
  },
  {
   "cell_type": "code",
   "execution_count": null,
   "metadata": {
    "ExecuteTime": {
     "end_time": "2020-01-05T19:37:15.438709Z",
     "start_time": "2020-01-05T19:37:15.428706Z"
    }
   },
   "outputs": [],
   "source": []
  }
 ],
 "metadata": {
  "kernelspec": {
   "display_name": "Python 3",
   "language": "python",
   "name": "python3"
  },
  "language_info": {
   "codemirror_mode": {
    "name": "ipython",
    "version": 3
   },
   "file_extension": ".py",
   "mimetype": "text/x-python",
   "name": "python",
   "nbconvert_exporter": "python",
   "pygments_lexer": "ipython3",
   "version": "3.7.4"
  },
  "toc": {
   "base_numbering": 1,
   "nav_menu": {},
   "number_sections": true,
   "sideBar": true,
   "skip_h1_title": false,
   "title_cell": "Table of Contents",
   "title_sidebar": "Contents",
   "toc_cell": false,
   "toc_position": {
    "height": "calc(100% - 180px)",
    "left": "10px",
    "top": "150px",
    "width": "212.542px"
   },
   "toc_section_display": true,
   "toc_window_display": false
  },
  "varInspector": {
   "cols": {
    "lenName": 16,
    "lenType": 16,
    "lenVar": 40
   },
   "kernels_config": {
    "python": {
     "delete_cmd_postfix": "",
     "delete_cmd_prefix": "del ",
     "library": "var_list.py",
     "varRefreshCmd": "print(var_dic_list())"
    },
    "r": {
     "delete_cmd_postfix": ") ",
     "delete_cmd_prefix": "rm(",
     "library": "var_list.r",
     "varRefreshCmd": "cat(var_dic_list()) "
    }
   },
   "types_to_exclude": [
    "module",
    "function",
    "builtin_function_or_method",
    "instance",
    "_Feature"
   ],
   "window_display": false
  }
 },
 "nbformat": 4,
 "nbformat_minor": 2
}
