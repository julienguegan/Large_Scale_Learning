{
 "cells": [
  {
   "cell_type": "markdown",
   "metadata": {
    "colab_type": "text",
    "id": "5BnGYg5FYcTb"
   },
   "source": [
    "<h1><center>Practice of Large Scale Machine Learning - TP1 Avazu<center></h1>\n",
    "<h2><center>IA317<center></h2>\n"
   ]
  },
  {
   "cell_type": "markdown",
   "metadata": {
    "colab_type": "text",
    "id": "N2QU9Lk5YcTk"
   },
   "source": [
    "# Introduction\n",
    "\n",
    "In online advertising, click-through rate (CTR) is a very important metric for evaluating ad performance. As a result, click prediction systems are essential and widely used for sponsored search and real-time bidding. The goal of this TP is to build and test prediction models on 11 days of Avazu data.\n",
    "\n",
    "#### For any remark or suggestion, please feel free to contact us at: \n",
    "#### pascal.bianchi@telecom-paris.fr\n",
    "#### nidham.gazagnadou@telecom-paris.fr\n",
    "#### kevin.elgui@telecom-paris.fr"
   ]
  },
  {
   "cell_type": "code",
   "execution_count": 1,
   "metadata": {
    "ExecuteTime": {
     "end_time": "2019-12-19T12:13:50.531166Z",
     "start_time": "2019-12-19T12:13:50.528172Z"
    },
    "colab": {
     "base_uri": "https://localhost:8080/",
     "height": 34
    },
    "colab_type": "code",
    "executionInfo": {
     "elapsed": 351,
     "status": "ok",
     "timestamp": 1574331080529,
     "user": {
      "displayName": "Kevin LU",
      "photoUrl": "https://lh4.googleusercontent.com/-GxkgY9Zv9Kw/AAAAAAAAAAI/AAAAAAAAALA/Tm2AUOxvUnE/s64/photo.jpg",
      "userId": "05340889451112320894"
     },
     "user_tz": -60
    },
    "id": "z2yZusf12lgP",
    "outputId": "d877dcfe-2f3d-434a-c76e-598d5d002cc6"
   },
   "outputs": [],
   "source": [
    "import sys\n",
    "import os\n",
    "#from google.colab import drive\n",
    "\n",
    "#drive.mount('/content/gdrive')\n",
    "#root_path = './../'  # your new root path\n",
    "\n",
    "#sys.path.append(os.path.join(root_path, 'notebooks')) # for importing from utils.py"
   ]
  },
  {
   "cell_type": "markdown",
   "metadata": {
    "colab_type": "text",
    "id": "vxsbsRu7YcTo"
   },
   "source": [
    "<font color=\"red\">**Question:**\n",
    "    Import the needed packages: numpy, pandas etc..\n",
    "</font>"
   ]
  },
  {
   "cell_type": "code",
   "execution_count": 2,
   "metadata": {
    "ExecuteTime": {
     "end_time": "2019-12-19T12:13:57.967499Z",
     "start_time": "2019-12-19T12:13:51.871544Z"
    },
    "colab": {},
    "colab_type": "code",
    "id": "T60UC4foYcTr"
   },
   "outputs": [],
   "source": [
    "import numpy as np\n",
    "import pandas as pd\n",
    "import matplotlib.pyplot as plt\n",
    "import seaborn as sns\n",
    "import datetime\n",
    "%matplotlib inline"
   ]
  },
  {
   "cell_type": "code",
   "execution_count": 3,
   "metadata": {
    "ExecuteTime": {
     "end_time": "2019-12-19T12:13:58.043103Z",
     "start_time": "2019-12-19T12:13:58.008196Z"
    },
    "colab": {
     "base_uri": "https://localhost:8080/",
     "height": 507
    },
    "colab_type": "code",
    "executionInfo": {
     "elapsed": 6820,
     "status": "error",
     "timestamp": 1574331131693,
     "user": {
      "displayName": "Kevin LU",
      "photoUrl": "https://lh4.googleusercontent.com/-GxkgY9Zv9Kw/AAAAAAAAAAI/AAAAAAAAALA/Tm2AUOxvUnE/s64/photo.jpg",
      "userId": "05340889451112320894"
     },
     "user_tz": -60
    },
    "id": "Fz9emRwgHPNC",
    "outputId": "b0e72faa-75af-4f2c-e332-0b67ce2f811c"
   },
   "outputs": [],
   "source": [
    "## Try to run de cell\n",
    "from utils import plotlift"
   ]
  },
  {
   "cell_type": "markdown",
   "metadata": {
    "colab_type": "text",
    "id": "1xrsFhCiYcT5"
   },
   "source": [
    "# The dataset"
   ]
  },
  {
   "cell_type": "markdown",
   "metadata": {
    "colab_type": "text",
    "id": "eOZWhU4lYcT9"
   },
   "source": [
    "<font color=\"red\">**Question:**\n",
    "    Load the data *'data_tp/train-1000000'* into a pandas DataFrame. Use the function 'os.path.join()' to indicate the full path. Then, display the first lines with the \".head()\" method.\n",
    "    <br>\n",
    "</font>\n",
    "**Remark**: the features meaning is available at https://www.kaggle.com/c/avazu-ctr-prediction/data"
   ]
  },
  {
   "cell_type": "code",
   "execution_count": 4,
   "metadata": {
    "ExecuteTime": {
     "end_time": "2019-12-19T12:14:30.321730Z",
     "start_time": "2019-12-19T12:14:26.718130Z"
    },
    "colab": {},
    "colab_type": "code",
    "id": "tWvQXG4uYcUB"
   },
   "outputs": [],
   "source": [
    "df = pd.read_csv( 'data_tp/train-1000000' )"
   ]
  },
  {
   "cell_type": "code",
   "execution_count": 5,
   "metadata": {
    "ExecuteTime": {
     "end_time": "2019-12-19T12:14:30.939273Z",
     "start_time": "2019-12-19T12:14:30.907359Z"
    },
    "colab": {},
    "colab_type": "code",
    "id": "uLSo2y32YcUK"
   },
   "outputs": [
    {
     "data": {
      "text/html": [
       "<div>\n",
       "<style scoped>\n",
       "    .dataframe tbody tr th:only-of-type {\n",
       "        vertical-align: middle;\n",
       "    }\n",
       "\n",
       "    .dataframe tbody tr th {\n",
       "        vertical-align: top;\n",
       "    }\n",
       "\n",
       "    .dataframe thead th {\n",
       "        text-align: right;\n",
       "    }\n",
       "</style>\n",
       "<table border=\"1\" class=\"dataframe\">\n",
       "  <thead>\n",
       "    <tr style=\"text-align: right;\">\n",
       "      <th></th>\n",
       "      <th>id</th>\n",
       "      <th>click</th>\n",
       "      <th>hour</th>\n",
       "      <th>C1</th>\n",
       "      <th>banner_pos</th>\n",
       "      <th>site_id</th>\n",
       "      <th>site_domain</th>\n",
       "      <th>site_category</th>\n",
       "      <th>app_id</th>\n",
       "      <th>app_domain</th>\n",
       "      <th>...</th>\n",
       "      <th>device_type</th>\n",
       "      <th>device_conn_type</th>\n",
       "      <th>C14</th>\n",
       "      <th>C15</th>\n",
       "      <th>C16</th>\n",
       "      <th>C17</th>\n",
       "      <th>C18</th>\n",
       "      <th>C19</th>\n",
       "      <th>C20</th>\n",
       "      <th>C21</th>\n",
       "    </tr>\n",
       "  </thead>\n",
       "  <tbody>\n",
       "    <tr>\n",
       "      <td>0</td>\n",
       "      <td>3.983206e+18</td>\n",
       "      <td>0</td>\n",
       "      <td>14102915</td>\n",
       "      <td>1005</td>\n",
       "      <td>1</td>\n",
       "      <td>e151e245</td>\n",
       "      <td>7e091613</td>\n",
       "      <td>f028772b</td>\n",
       "      <td>ecad2386</td>\n",
       "      <td>7801e8d9</td>\n",
       "      <td>...</td>\n",
       "      <td>1</td>\n",
       "      <td>2</td>\n",
       "      <td>4687</td>\n",
       "      <td>320</td>\n",
       "      <td>50</td>\n",
       "      <td>423</td>\n",
       "      <td>2</td>\n",
       "      <td>39</td>\n",
       "      <td>100148</td>\n",
       "      <td>32</td>\n",
       "    </tr>\n",
       "    <tr>\n",
       "      <td>1</td>\n",
       "      <td>7.756884e+18</td>\n",
       "      <td>0</td>\n",
       "      <td>14103007</td>\n",
       "      <td>1002</td>\n",
       "      <td>0</td>\n",
       "      <td>cb809abf</td>\n",
       "      <td>74acf31a</td>\n",
       "      <td>50e219e0</td>\n",
       "      <td>ecad2386</td>\n",
       "      <td>7801e8d9</td>\n",
       "      <td>...</td>\n",
       "      <td>0</td>\n",
       "      <td>0</td>\n",
       "      <td>17894</td>\n",
       "      <td>320</td>\n",
       "      <td>50</td>\n",
       "      <td>2039</td>\n",
       "      <td>2</td>\n",
       "      <td>39</td>\n",
       "      <td>100077</td>\n",
       "      <td>32</td>\n",
       "    </tr>\n",
       "    <tr>\n",
       "      <td>2</td>\n",
       "      <td>6.941774e+17</td>\n",
       "      <td>0</td>\n",
       "      <td>14102711</td>\n",
       "      <td>1005</td>\n",
       "      <td>0</td>\n",
       "      <td>85f751fd</td>\n",
       "      <td>c4e18dd6</td>\n",
       "      <td>50e219e0</td>\n",
       "      <td>e9739828</td>\n",
       "      <td>df32afa9</td>\n",
       "      <td>...</td>\n",
       "      <td>1</td>\n",
       "      <td>0</td>\n",
       "      <td>22684</td>\n",
       "      <td>320</td>\n",
       "      <td>50</td>\n",
       "      <td>2619</td>\n",
       "      <td>1</td>\n",
       "      <td>163</td>\n",
       "      <td>100055</td>\n",
       "      <td>71</td>\n",
       "    </tr>\n",
       "    <tr>\n",
       "      <td>3</td>\n",
       "      <td>2.664154e+18</td>\n",
       "      <td>1</td>\n",
       "      <td>14102903</td>\n",
       "      <td>1005</td>\n",
       "      <td>0</td>\n",
       "      <td>85f751fd</td>\n",
       "      <td>c4e18dd6</td>\n",
       "      <td>50e219e0</td>\n",
       "      <td>a5184c22</td>\n",
       "      <td>b8d325c3</td>\n",
       "      <td>...</td>\n",
       "      <td>1</td>\n",
       "      <td>0</td>\n",
       "      <td>23222</td>\n",
       "      <td>320</td>\n",
       "      <td>50</td>\n",
       "      <td>2676</td>\n",
       "      <td>0</td>\n",
       "      <td>35</td>\n",
       "      <td>100176</td>\n",
       "      <td>221</td>\n",
       "    </tr>\n",
       "    <tr>\n",
       "      <td>4</td>\n",
       "      <td>1.480510e+19</td>\n",
       "      <td>0</td>\n",
       "      <td>14102902</td>\n",
       "      <td>1005</td>\n",
       "      <td>1</td>\n",
       "      <td>791b5571</td>\n",
       "      <td>fd13bc73</td>\n",
       "      <td>f028772b</td>\n",
       "      <td>ecad2386</td>\n",
       "      <td>7801e8d9</td>\n",
       "      <td>...</td>\n",
       "      <td>1</td>\n",
       "      <td>0</td>\n",
       "      <td>8330</td>\n",
       "      <td>320</td>\n",
       "      <td>50</td>\n",
       "      <td>761</td>\n",
       "      <td>3</td>\n",
       "      <td>175</td>\n",
       "      <td>100081</td>\n",
       "      <td>23</td>\n",
       "    </tr>\n",
       "  </tbody>\n",
       "</table>\n",
       "<p>5 rows × 24 columns</p>\n",
       "</div>"
      ],
      "text/plain": [
       "             id  click      hour    C1  banner_pos   site_id site_domain  \\\n",
       "0  3.983206e+18      0  14102915  1005           1  e151e245    7e091613   \n",
       "1  7.756884e+18      0  14103007  1002           0  cb809abf    74acf31a   \n",
       "2  6.941774e+17      0  14102711  1005           0  85f751fd    c4e18dd6   \n",
       "3  2.664154e+18      1  14102903  1005           0  85f751fd    c4e18dd6   \n",
       "4  1.480510e+19      0  14102902  1005           1  791b5571    fd13bc73   \n",
       "\n",
       "  site_category    app_id app_domain  ... device_type device_conn_type    C14  \\\n",
       "0      f028772b  ecad2386   7801e8d9  ...           1                2   4687   \n",
       "1      50e219e0  ecad2386   7801e8d9  ...           0                0  17894   \n",
       "2      50e219e0  e9739828   df32afa9  ...           1                0  22684   \n",
       "3      50e219e0  a5184c22   b8d325c3  ...           1                0  23222   \n",
       "4      f028772b  ecad2386   7801e8d9  ...           1                0   8330   \n",
       "\n",
       "   C15  C16   C17  C18  C19     C20  C21  \n",
       "0  320   50   423    2   39  100148   32  \n",
       "1  320   50  2039    2   39  100077   32  \n",
       "2  320   50  2619    1  163  100055   71  \n",
       "3  320   50  2676    0   35  100176  221  \n",
       "4  320   50   761    3  175  100081   23  \n",
       "\n",
       "[5 rows x 24 columns]"
      ]
     },
     "execution_count": 5,
     "metadata": {},
     "output_type": "execute_result"
    }
   ],
   "source": [
    "df.head() # Fill here"
   ]
  },
  {
   "cell_type": "markdown",
   "metadata": {
    "colab_type": "text",
    "id": "Cbg9-3qRYcUQ"
   },
   "source": [
    "<font color=\"red\">**Question:**\n",
    "    What is the 'click' frequency in the dataset?\n",
    "    <br>\n",
    "    Hint: 'click' is a binary output (0 or 1)\n",
    "</font>"
   ]
  },
  {
   "cell_type": "code",
   "execution_count": 6,
   "metadata": {
    "ExecuteTime": {
     "end_time": "2019-12-19T12:14:31.529726Z",
     "start_time": "2019-12-19T12:14:31.521747Z"
    },
    "colab": {},
    "colab_type": "code",
    "id": "l-1q2lVuYcUS"
   },
   "outputs": [
    {
     "data": {
      "text/plain": [
       "0.169971"
      ]
     },
     "execution_count": 6,
     "metadata": {},
     "output_type": "execute_result"
    }
   ],
   "source": [
    "df['click'].sum() / len(df) # Fill here"
   ]
  },
  {
   "cell_type": "markdown",
   "metadata": {
    "colab_type": "text",
    "id": "OTyZBmSrKR1z"
   },
   "source": [
    "<font color=\"blue\">\n",
    "The Click frequency is 0.169971\n",
    "</font>"
   ]
  },
  {
   "cell_type": "markdown",
   "metadata": {
    "colab_type": "text",
    "id": "6dFgRBOeYcUY"
   },
   "source": [
    "We note that the Avazu dataset is very unbalanced. The 'click' class represents less than a fifth of the whole database. We already know that a classifier always predicting 'click'=0 will have good preformances in terms of error rate (around 0.17). The ROC and lift curves will be better performance metrics."
   ]
  },
  {
   "cell_type": "markdown",
   "metadata": {
    "colab_type": "text",
    "id": "BFGwt6vTYcUa"
   },
   "source": [
    "<font color=\"red\">**Question:**\n",
    "    What are the categorical features? Using the 'df.nunique()' method, compute the number of distincts values for each of these features.\n",
    "</font>"
   ]
  },
  {
   "cell_type": "code",
   "execution_count": 10,
   "metadata": {
    "ExecuteTime": {
     "end_time": "2019-12-19T12:20:45.392416Z",
     "start_time": "2019-12-19T12:20:44.595648Z"
    },
    "colab": {},
    "colab_type": "code",
    "id": "2eLXMTTkYcUb"
   },
   "outputs": [
    {
     "data": {
      "text/plain": [
       "site_id            2651\n",
       "site_domain        2871\n",
       "site_category        22\n",
       "app_id             3157\n",
       "app_domain          198\n",
       "app_category         26\n",
       "device_id        150501\n",
       "device_ip        555248\n",
       "device_model       5168\n",
       "dtype: int64"
      ]
     },
     "execution_count": 10,
     "metadata": {},
     "output_type": "execute_result"
    }
   ],
   "source": [
    "categorical_features = df.loc[:,df.dtypes == 'object']\n",
    "categorical_features.nunique()"
   ]
  },
  {
   "cell_type": "markdown",
   "metadata": {
    "colab_type": "text",
    "id": "0lirn-2rfmn_"
   },
   "source": [
    "<font color=\"blue\">\n",
    "The categorical features are : site_id, site_domain, site_category, app_id, app_domain, app_category, device_id, device_ip,  device_model    \n",
    "</font>"
   ]
  },
  {
   "cell_type": "markdown",
   "metadata": {
    "colab_type": "text",
    "id": "OGJwlJ6VYcUj"
   },
   "source": [
    "<font color=\"red\">**Question:**\n",
    "    If one does a dummy encoding of all categorical variables, what would be the dimension of the model?\n",
    "    In other words: what would be the dimension of our big feature vector encoded with dummies. \n",
    "    <br>\n",
    "    Hint: if you have just 1 feature with 3 categories A, B and C, you would have a vector of dimension 3 (or 2 if you use drop_first=True).\n",
    "</font>"
   ]
  },
  {
   "cell_type": "code",
   "execution_count": 11,
   "metadata": {
    "ExecuteTime": {
     "end_time": "2019-12-19T12:20:49.632710Z",
     "start_time": "2019-12-19T12:20:48.973765Z"
    },
    "colab": {},
    "colab_type": "code",
    "id": "DL2wN3tXYcUk"
   },
   "outputs": [
    {
     "data": {
      "text/plain": [
       "719842"
      ]
     },
     "execution_count": 11,
     "metadata": {},
     "output_type": "execute_result"
    }
   ],
   "source": [
    "categorical_features.nunique().sum()"
   ]
  },
  {
   "cell_type": "markdown",
   "metadata": {
    "colab_type": "text",
    "id": "4sfr6kkTfn1_"
   },
   "source": [
    "<font color=\"blue\"> New vector dimension will be 719842. </font>"
   ]
  },
  {
   "cell_type": "markdown",
   "metadata": {
    "colab_type": "text",
    "id": "_PYpWlX6YcUq"
   },
   "source": [
    "<font color=\"red\">**Question:**\n",
    "    Analyze the 'hour' column: which format is used? How can we transform/simply this feature?\n",
    "</font>"
   ]
  },
  {
   "cell_type": "code",
   "execution_count": 12,
   "metadata": {
    "ExecuteTime": {
     "end_time": "2019-12-19T12:20:53.759235Z",
     "start_time": "2019-12-19T12:20:53.752254Z"
    },
    "colab": {},
    "colab_type": "code",
    "id": "zfbvfYBfYcUr",
    "scrolled": true
   },
   "outputs": [
    {
     "name": "stdout",
     "output_type": "stream",
     "text": [
      "0    14102915\n",
      "1    14103007\n",
      "2    14102711\n",
      "3    14102903\n",
      "4    14102902\n",
      "Name: hour, dtype: int64\n",
      "999995    14102602\n",
      "999996    14102101\n",
      "999997    14102318\n",
      "999998    14102908\n",
      "999999    14102600\n",
      "Name: hour, dtype: int64\n"
     ]
    }
   ],
   "source": [
    "print(df['hour'].head()) # Fill here\n",
    "print(df['hour'].tail()) # Fill here"
   ]
  },
  {
   "cell_type": "markdown",
   "metadata": {
    "colab_type": "text",
    "id": "Wyc_XCRmfoWk"
   },
   "source": [
    "<font color=\"blue\"> The time format is YYMMDDHH. </font>"
   ]
  },
  {
   "cell_type": "markdown",
   "metadata": {
    "colab_type": "text",
    "id": "oTQo-GPRYcUw"
   },
   "source": [
    "<font color=\"red\">**Question:**\n",
    "    Run and understand the following script.\n",
    "</font>"
   ]
  },
  {
   "cell_type": "code",
   "execution_count": 13,
   "metadata": {
    "ExecuteTime": {
     "end_time": "2019-12-19T12:21:05.148255Z",
     "start_time": "2019-12-19T12:21:05.139277Z"
    },
    "colab": {},
    "colab_type": "code",
    "id": "kOKSh2RjYcUz"
   },
   "outputs": [
    {
     "data": {
      "text/plain": [
       "(2, 15)"
      ]
     },
     "execution_count": 13,
     "metadata": {},
     "output_type": "execute_result"
    }
   ],
   "source": [
    "import datetime\n",
    "\n",
    "def datesplit(originalDate):\n",
    "    originalDate = str(originalDate)    \n",
    "    year  = int(\"20\" + originalDate[0:2])\n",
    "    month = int(originalDate[2:4])\n",
    "    day   = int(originalDate[4:6])\n",
    "    hour  = int(originalDate[6:8])\n",
    "    \n",
    "    return datetime.datetime(year, month, day, hour)\n",
    "\n",
    "# Exemple :\n",
    "datesplit(14102915).weekday(), datesplit(14102915).hour"
   ]
  },
  {
   "cell_type": "markdown",
   "metadata": {
    "colab_type": "text",
    "id": "CrRiyg01YcU4"
   },
   "source": [
    "<font color=\"red\">**Question:**\n",
    "    Using the \".apply( ... )\" method, create a 'weekday' for the day of the week. Then, replace the 'hour' column by the hour.\n",
    "</font>"
   ]
  },
  {
   "cell_type": "markdown",
   "metadata": {
    "colab_type": "text",
    "id": "hFhI2HFgYcU6"
   },
   "source": [
    "To answer this question you have to understand that applies takes a function as argument\n",
    "<br>\n",
    "\"lambda x: ... \" is used to create local unamed function of x\n",
    "<br>\n",
    "Check the documentation: https://docs.python.org/3/tutorial/controlflow.html#lambda-expressions"
   ]
  },
  {
   "cell_type": "code",
   "execution_count": 14,
   "metadata": {
    "ExecuteTime": {
     "end_time": "2019-12-19T12:21:41.638922Z",
     "start_time": "2019-12-19T12:21:36.677254Z"
    },
    "colab": {},
    "colab_type": "code",
    "id": "nDWxoncVYcU7"
   },
   "outputs": [],
   "source": [
    "df['weekday'] = df['hour'].apply(lambda x: datesplit(x).weekday() ) # Fill here\n",
    "df['hour'] = df['hour'].apply(lambda x: datesplit(x).hour ) # Fill here"
   ]
  },
  {
   "cell_type": "markdown",
   "metadata": {
    "colab_type": "text",
    "id": "t7e9LOv6YcU_"
   },
   "source": [
    "<font color=\"red\">**Question:**\n",
    "    Using the \".groupby( ... )\" method, visualize the influence of the hour and of the day on the 'click' frequency (take the \".mean()\"!). To do so, plot 'click' vs 'hour' and 'click' vs 'weekday' curves.\n",
    "    <br>\n",
    "    Precise the name of the axes.\n",
    "</font>"
   ]
  },
  {
   "cell_type": "code",
   "execution_count": 15,
   "metadata": {
    "ExecuteTime": {
     "end_time": "2019-12-19T12:21:43.139536Z",
     "start_time": "2019-12-19T12:21:42.416885Z"
    },
    "colab": {},
    "colab_type": "code",
    "id": "QD2kpLa-YcVF"
   },
   "outputs": [
    {
     "data": {
      "image/png": "[encoded data removed]",
      "text/plain": [
       "<Figure size 432x288 with 1 Axes>"
      ]
     },
     "metadata": {
      "needs_background": "light"
     },
     "output_type": "display_data"
    }
   ],
   "source": [
    "plt.plot(df.groupby(['hour']).mean()['click']); # Fill here for the influence of the hour"
   ]
  },
  {
   "cell_type": "code",
   "execution_count": 16,
   "metadata": {
    "ExecuteTime": {
     "end_time": "2019-12-19T12:21:44.257443Z",
     "start_time": "2019-12-19T12:21:43.726819Z"
    },
    "colab": {},
    "colab_type": "code",
    "id": "o3fFdYYTYcVW"
   },
   "outputs": [
    {
     "data": {
      "image/png": "[encoded data removed]",
      "text/plain": [
       "<Figure size 432x288 with 1 Axes>"
      ]
     },
     "metadata": {
      "needs_background": "light"
     },
     "output_type": "display_data"
    }
   ],
   "source": [
    "plt.plot(df.groupby(['weekday']).mean()['click']); # Fill here for the influence of the day"
   ]
  },
  {
   "cell_type": "markdown",
   "metadata": {
    "colab_type": "text",
    "id": "Aw0uqHqTYcVd"
   },
   "source": [
    "# Preliminary work and first model"
   ]
  },
  {
   "cell_type": "markdown",
   "metadata": {
    "colab_type": "text",
    "id": "6hlQCIDoYcVf"
   },
   "source": [
    "Start by understanding the features with few modalities:\n",
    "'hour', 'weekday', 'C1', 'banner_pos', 'site_category', 'app_category', 'device_type', 'device_conn_type', 'C15', 'C16', 'C18', 'C21'."
   ]
  },
  {
   "cell_type": "markdown",
   "metadata": {
    "colab_type": "text",
    "id": "pl8OmuiOYcVg"
   },
   "source": [
    "<font color=\"red\">**Question:**\n",
    "    For instance, inspect the columns 'C15' (dimension of the advert) and 'site_category': visualize the clicks mean.\n",
    "</font>"
   ]
  },
  {
   "cell_type": "code",
   "execution_count": 17,
   "metadata": {
    "ExecuteTime": {
     "end_time": "2019-12-19T12:21:51.871201Z",
     "start_time": "2019-12-19T12:21:51.343094Z"
    },
    "colab": {},
    "colab_type": "code",
    "id": "T0_3X-c3YcVi"
   },
   "outputs": [
    {
     "data": {
      "image/png": "[encoded data removed]",
      "text/plain": [
       "<Figure size 432x288 with 1 Axes>"
      ]
     },
     "metadata": {
      "needs_background": "light"
     },
     "output_type": "display_data"
    }
   ],
   "source": [
    "plt.plot(df.groupby(['C15']).mean()['click']); # Fill here for the influence of the day"
   ]
  },
  {
   "cell_type": "code",
   "execution_count": 18,
   "metadata": {
    "ExecuteTime": {
     "end_time": "2019-12-19T12:21:53.056998Z",
     "start_time": "2019-12-19T12:21:52.463299Z"
    },
    "colab": {},
    "colab_type": "code",
    "id": "BjHI9kpZYcVm"
   },
   "outputs": [
    {
     "data": {
      "image/png": "[encoded data removed]",
      "text/plain": [
       "<Figure size 432x288 with 1 Axes>"
      ]
     },
     "metadata": {
      "needs_background": "light"
     },
     "output_type": "display_data"
    }
   ],
   "source": [
    "plt.plot(df.groupby(['site_category']).mean()['click']); # Fill here: inspect 'site_category' using '.groupby'"
   ]
  },
  {
   "cell_type": "markdown",
   "metadata": {
    "colab_type": "text",
    "id": "MLfdMT-qYcVr"
   },
   "source": [
    "<font color=\"red\">**Question:**\n",
    "    Some site categories have a null click rate. Why? Display the 'count()' of each modality.\n",
    "    <br><br>\n",
    "    Hint: you can use the method \".value_counts()\"\n",
    "</font>"
   ]
  },
  {
   "cell_type": "code",
   "execution_count": 19,
   "metadata": {
    "ExecuteTime": {
     "end_time": "2019-12-19T12:22:45.554213Z",
     "start_time": "2019-12-19T12:22:45.193414Z"
    },
    "colab": {},
    "colab_type": "code",
    "id": "0FkctWqDYcVt"
   },
   "outputs": [
    {
     "data": {
      "text/plain": [
       "site_category  click\n",
       "0569f928       0           406\n",
       "               1            23\n",
       "28905ebd       0        144146\n",
       "               1         37874\n",
       "335d28a8       0          3050\n",
       "               1           301\n",
       "3e814130       0         54159\n",
       "               1         21508\n",
       "42a36e14       0            48\n",
       "               1            14\n",
       "50e219e0       0        356335\n",
       "               1         52586\n",
       "5378d028       0            11\n",
       "70fb0e29       0           520\n",
       "               1            88\n",
       "72722551       0           636\n",
       "               1            40\n",
       "75fa27f6       0          3561\n",
       "               1           446\n",
       "76b2941d       0          2481\n",
       "               1            92\n",
       "8fd0aea4       0           186\n",
       "               1             3\n",
       "9ccfa2ea       0             5\n",
       "a818d37a       0            81\n",
       "bcf865d9       0            16\n",
       "c0dd3be3       0           894\n",
       "               1           132\n",
       "c706e647       0             1\n",
       "da34532e       0             1\n",
       "dedf689d       1           331\n",
       "               0           293\n",
       "e787de0e       0            28\n",
       "f028772b       0        257026\n",
       "               1         56313\n",
       "f66779e6       0          6145\n",
       "               1           220\n",
       "Name: click, dtype: int64"
      ]
     },
     "execution_count": 19,
     "metadata": {},
     "output_type": "execute_result"
    }
   ],
   "source": [
    "df.groupby(['site_category'])['click'].value_counts()# Fill here"
   ]
  },
  {
   "cell_type": "markdown",
   "metadata": {},
   "source": [
    "<font color=\"blue\"> Some site category have no click at all, that's why the click rate is null (cf previous plot). </font>"
   ]
  },
  {
   "cell_type": "markdown",
   "metadata": {
    "colab_type": "text",
    "id": "ru25QWd0YcVy"
   },
   "source": [
    "It is practical to visualize both columns in parallel:"
   ]
  },
  {
   "cell_type": "code",
   "execution_count": 20,
   "metadata": {
    "ExecuteTime": {
     "end_time": "2019-12-19T12:26:13.697513Z",
     "start_time": "2019-12-19T12:26:12.627670Z"
    },
    "colab": {},
    "colab_type": "code",
    "id": "9JwsJNMGYcV0"
   },
   "outputs": [
    {
     "data": {
      "text/html": [
       "<div>\n",
       "<style scoped>\n",
       "    .dataframe tbody tr th:only-of-type {\n",
       "        vertical-align: middle;\n",
       "    }\n",
       "\n",
       "    .dataframe tbody tr th {\n",
       "        vertical-align: top;\n",
       "    }\n",
       "\n",
       "    .dataframe thead th {\n",
       "        text-align: right;\n",
       "    }\n",
       "</style>\n",
       "<table border=\"1\" class=\"dataframe\">\n",
       "  <thead>\n",
       "    <tr style=\"text-align: right;\">\n",
       "      <th></th>\n",
       "      <th>mean</th>\n",
       "      <th>count</th>\n",
       "    </tr>\n",
       "    <tr>\n",
       "      <th>C1</th>\n",
       "      <th></th>\n",
       "      <th></th>\n",
       "    </tr>\n",
       "  </thead>\n",
       "  <tbody>\n",
       "    <tr>\n",
       "      <td>1005</td>\n",
       "      <td>0.169474</td>\n",
       "      <td>918606.0</td>\n",
       "    </tr>\n",
       "    <tr>\n",
       "      <td>1002</td>\n",
       "      <td>0.211157</td>\n",
       "      <td>54907.0</td>\n",
       "    </tr>\n",
       "    <tr>\n",
       "      <td>1010</td>\n",
       "      <td>0.095497</td>\n",
       "      <td>22409.0</td>\n",
       "    </tr>\n",
       "    <tr>\n",
       "      <td>1012</td>\n",
       "      <td>0.177295</td>\n",
       "      <td>2854.0</td>\n",
       "    </tr>\n",
       "    <tr>\n",
       "      <td>1007</td>\n",
       "      <td>0.035591</td>\n",
       "      <td>871.0</td>\n",
       "    </tr>\n",
       "    <tr>\n",
       "      <td>1001</td>\n",
       "      <td>0.027027</td>\n",
       "      <td>222.0</td>\n",
       "    </tr>\n",
       "    <tr>\n",
       "      <td>1008</td>\n",
       "      <td>0.106870</td>\n",
       "      <td>131.0</td>\n",
       "    </tr>\n",
       "  </tbody>\n",
       "</table>\n",
       "</div>"
      ],
      "text/plain": [
       "          mean     count\n",
       "C1                      \n",
       "1005  0.169474  918606.0\n",
       "1002  0.211157   54907.0\n",
       "1010  0.095497   22409.0\n",
       "1012  0.177295    2854.0\n",
       "1007  0.035591     871.0\n",
       "1001  0.027027     222.0\n",
       "1008  0.106870     131.0"
      ]
     },
     "execution_count": 20,
     "metadata": {},
     "output_type": "execute_result"
    }
   ],
   "source": [
    "col = 'C1'\n",
    "a = pd.DataFrame([df.groupby(col).mean()['click'], df.groupby(col).count()['click']]).transpose()\n",
    "a.columns = ['mean', 'count']\n",
    "a.sort_values(by='count', ascending=False)"
   ]
  },
  {
   "cell_type": "markdown",
   "metadata": {
    "colab_type": "text",
    "id": "5iAVEnE4YcV5"
   },
   "source": [
    "<font color=\"red\">**Question:**\n",
    "    Divide the dataset into a training and test set with sklearn (use the following options: test_size=0.1, random_state=100).\n",
    "    <br>\n",
    "    Warning: do not use 'id' as a feature.\n",
    "</font>"
   ]
  },
  {
   "cell_type": "code",
   "execution_count": 21,
   "metadata": {
    "ExecuteTime": {
     "end_time": "2019-12-19T12:28:02.416463Z",
     "start_time": "2019-12-19T12:27:59.779432Z"
    },
    "colab": {},
    "colab_type": "code",
    "id": "7Mc0hmCsYcV7"
   },
   "outputs": [],
   "source": [
    "from sklearn.model_selection import train_test_split\n",
    "X = df.drop(columns=['id','click'])\n",
    "y = df['click']\n",
    "Xtrain, Xtest, ytrain, ytest = train_test_split(X, y, test_size=0.1, random_state=100)"
   ]
  },
  {
   "cell_type": "markdown",
   "metadata": {
    "colab_type": "text",
    "id": "y94Vsm-wYcV_"
   },
   "source": [
    "# First work on a reduced number of features"
   ]
  },
  {
   "cell_type": "markdown",
   "metadata": {
    "colab_type": "text",
    "id": "HffuIJthYcV_"
   },
   "source": [
    "<font color=\"red\">**Question:**\n",
    "    Put in a list the selected columns: 'hour', 'weekday', 'C1', 'banner_pos', 'site_category', 'app_category', 'device_type', 'device_conn_type', 'C15', 'C16', 'C18', 'C21'.\n",
    "</font>"
   ]
  },
  {
   "cell_type": "code",
   "execution_count": 22,
   "metadata": {
    "ExecuteTime": {
     "end_time": "2019-12-19T12:28:12.948765Z",
     "start_time": "2019-12-19T12:28:12.943778Z"
    },
    "colab": {},
    "colab_type": "code",
    "id": "b87fxoxuYcWB"
   },
   "outputs": [],
   "source": [
    "some_columns = ['hour', 'weekday', 'C1', 'banner_pos', 'site_category', 'app_category', \n",
    "                'device_type', 'device_conn_type', 'C15', 'C16', 'C18', 'C21']"
   ]
  },
  {
   "cell_type": "markdown",
   "metadata": {
    "colab_type": "text",
    "id": "bZQ0i2YMYcWD"
   },
   "source": [
    "<font color=\"red\"> \n",
    "- Importer CategoricalEncoder de sklearn.preprocessing.  \n",
    "- Fitter le CategoricalEncoder sur les données de train restreintes aux colonnes ci-dessus.  \n",
    "- Transformer les données de train et de test en dummies.\n",
    "</font>\n",
    "\n",
    "Pas besoin selon la version de sklearn"
   ]
  },
  {
   "cell_type": "markdown",
   "metadata": {
    "colab_type": "text",
    "id": "bLD-KxNcYcWF"
   },
   "source": [
    "<font color=\"red\">**Question:**\n",
    "    <br> - Import OneHotEncoder from sklearn.preprocessing\n",
    "    <br> - Transform the training and the test data restricted to the selected columns\n",
    "</font>"
   ]
  },
  {
   "cell_type": "code",
   "execution_count": 23,
   "metadata": {
    "ExecuteTime": {
     "end_time": "2019-12-19T12:28:16.280492Z",
     "start_time": "2019-12-19T12:28:16.276504Z"
    },
    "colab": {},
    "colab_type": "code",
    "id": "GDx0mpYYYcWG"
   },
   "outputs": [],
   "source": [
    "from sklearn.preprocessing import OneHotEncoder #CategoricalEncoder\n",
    "ohe = OneHotEncoder(handle_unknown='ignore')"
   ]
  },
  {
   "cell_type": "code",
   "execution_count": 24,
   "metadata": {
    "ExecuteTime": {
     "end_time": "2019-12-19T12:28:23.430337Z",
     "start_time": "2019-12-19T12:28:20.632302Z"
    }
   },
   "outputs": [],
   "source": [
    "ohe.fit(Xtrain[some_columns])\n",
    "Xtrain_oh = ohe.transform(Xtrain[some_columns]).toarray() # fit the transformation of Xtrain restricted to selected columns\n",
    "Xtest_oh = ohe.transform(Xtest[some_columns]).toarray() # and transform Xtest restricted to selected columns"
   ]
  },
  {
   "cell_type": "markdown",
   "metadata": {
    "colab_type": "text",
    "id": "FN5GjuyzYcWI"
   },
   "source": [
    "<font color=\"red\">**Question:**\n",
    "    What is the new number of features?\n",
    "</font>"
   ]
  },
  {
   "cell_type": "code",
   "execution_count": 25,
   "metadata": {
    "ExecuteTime": {
     "end_time": "2019-12-19T12:28:25.343612Z",
     "start_time": "2019-12-19T12:28:25.337629Z"
    },
    "colab": {},
    "colab_type": "code",
    "id": "Syvv31BuYcWL"
   },
   "outputs": [
    {
     "data": {
      "text/plain": [
       "(900000, 183)"
      ]
     },
     "execution_count": 25,
     "metadata": {},
     "output_type": "execute_result"
    }
   ],
   "source": [
    "Xtrain_oh.shape"
   ]
  },
  {
   "cell_type": "markdown",
   "metadata": {
    "colab_type": "text",
    "id": "X2JQVVfTi4Zs"
   },
   "source": [
    "<font color=\"blue\"> There are 183 features. </font>"
   ]
  },
  {
   "cell_type": "markdown",
   "metadata": {
    "colab_type": "text",
    "id": "HUWRg9VaYcWQ"
   },
   "source": [
    "<font color=\"red\">**Question:**\n",
    "    Visualize the first row of the design matrix you have got. Do not forget to convert it into a \"numpy.array\" using the method \".toarray()\".\n",
    "</font>"
   ]
  },
  {
   "cell_type": "code",
   "execution_count": 23,
   "metadata": {
    "ExecuteTime": {
     "end_time": "2019-12-15T15:23:05.191520Z",
     "start_time": "2019-12-15T15:23:05.041405Z"
    },
    "colab": {},
    "colab_type": "code",
    "id": "KteEhxlwYcWR"
   },
   "outputs": [
    {
     "data": {
      "text/plain": [
       "array([0., 0., 0., 0., 0., 0., 0., 0., 0., 0., 0., 0., 0., 0., 0., 0., 0.,\n",
       "       0., 0., 0., 0., 0., 1., 0., 0., 1., 0., 0., 0., 0., 0., 0., 0., 1.,\n",
       "       0., 0., 0., 0., 1., 0., 0., 0., 0., 0., 0., 0., 0., 0., 0., 0., 1.,\n",
       "       0., 0., 0., 0., 0., 0., 0., 0., 0., 0., 0., 0., 0., 0., 0., 0., 0.,\n",
       "       0., 0., 0., 0., 0., 0., 0., 0., 0., 0., 0., 0., 0., 0., 0., 0., 0.,\n",
       "       0., 0., 0., 0., 0., 0., 0., 1., 0., 1., 0., 0., 0., 0., 1., 0., 0.,\n",
       "       0., 0., 0., 1., 0., 0., 0., 0., 0., 0., 1., 0., 0., 0., 0., 0., 0.,\n",
       "       1., 0., 0., 0., 0., 0., 0., 0., 0., 0., 0., 0., 0., 0., 0., 0., 0.,\n",
       "       0., 0., 0., 0., 0., 0., 0., 0., 0., 1., 0., 0., 0., 0., 0., 0., 0.,\n",
       "       0., 0., 0., 0., 0., 0., 0., 0., 0., 0., 0., 0., 0., 0., 0., 0., 0.,\n",
       "       0., 0., 0., 0., 0., 0., 0., 0., 0., 0., 0., 0., 0.])"
      ]
     },
     "execution_count": 23,
     "metadata": {},
     "output_type": "execute_result"
    }
   ],
   "source": [
    "Xtrain_oh[1,:]"
   ]
  },
  {
   "cell_type": "markdown",
   "metadata": {
    "colab_type": "text",
    "id": "GcIpiLHYYcWU"
   },
   "source": [
    "<font color=\"red\">**Question:**\n",
    "    Import and fit a logistic regression model on your the encoded data.\n",
    "</font>"
   ]
  },
  {
   "cell_type": "code",
   "execution_count": 26,
   "metadata": {
    "ExecuteTime": {
     "end_time": "2019-12-19T12:29:38.503993Z",
     "start_time": "2019-12-19T12:29:06.582377Z"
    },
    "colab": {},
    "colab_type": "code",
    "id": "r8a0SxavYcWV"
   },
   "outputs": [
    {
     "data": {
      "text/plain": [
       "LogisticRegression(C=1.0, class_weight=None, dual=False, fit_intercept=True,\n",
       "                   intercept_scaling=1, l1_ratio=None, max_iter=100,\n",
       "                   multi_class='warn', n_jobs=None, penalty='l2',\n",
       "                   random_state=None, solver='liblinear', tol=0.0001, verbose=0,\n",
       "                   warm_start=False)"
      ]
     },
     "execution_count": 26,
     "metadata": {},
     "output_type": "execute_result"
    }
   ],
   "source": [
    "from sklearn.linear_model import LogisticRegression\n",
    "lr = LogisticRegression(solver='liblinear')\n",
    "lr.fit(Xtrain_oh, ytrain)"
   ]
  },
  {
   "cell_type": "markdown",
   "metadata": {
    "colab_type": "text",
    "id": "0iuQIQj-YcWZ"
   },
   "source": [
    "<font color=\"red\">**Question:**\n",
    "    With '.predict' and 'predict_proba', display the hard and soft decision you get on test data.\n",
    "</font>"
   ]
  },
  {
   "cell_type": "code",
   "execution_count": 27,
   "metadata": {
    "ExecuteTime": {
     "end_time": "2019-12-19T12:29:40.532504Z",
     "start_time": "2019-12-19T12:29:40.399655Z"
    },
    "colab": {},
    "colab_type": "code",
    "id": "TYiTfHIWYcWa"
   },
   "outputs": [],
   "source": [
    "hard = lr.predict(Xtest_oh)\n",
    "soft = lr.predict_proba(Xtest_oh)"
   ]
  },
  {
   "cell_type": "code",
   "execution_count": 28,
   "metadata": {
    "ExecuteTime": {
     "end_time": "2019-12-19T12:29:48.256714Z",
     "start_time": "2019-12-19T12:29:48.241279Z"
    }
   },
   "outputs": [
    {
     "name": "stdout",
     "output_type": "stream",
     "text": [
      "soft: [[0.75810331 0.24189669]\n",
      " [0.73404558 0.26595442]\n",
      " [0.79690021 0.20309979]\n",
      " ...\n",
      " [0.79251826 0.20748174]\n",
      " [0.78570489 0.21429511]\n",
      " [0.87847646 0.12152354]]\n",
      "hard: [0 0 0 ... 0 0 0]\n"
     ]
    }
   ],
   "source": [
    "print('soft:',soft)\n",
    "print('hard:',hard)"
   ]
  },
  {
   "cell_type": "markdown",
   "metadata": {
    "colab_type": "text",
    "id": "npfzy9N3YcWc"
   },
   "source": [
    "<font color=\"red\">**Question:**\n",
    "    Compute the probability of error using sklearn.metrics 'accuracy_score' function. Comment.\n",
    "</font>"
   ]
  },
  {
   "cell_type": "code",
   "execution_count": 29,
   "metadata": {
    "ExecuteTime": {
     "end_time": "2019-12-19T12:29:58.641407Z",
     "start_time": "2019-12-19T12:29:58.623426Z"
    },
    "colab": {},
    "colab_type": "code",
    "id": "hIB33gPiYcWd"
   },
   "outputs": [
    {
     "data": {
      "text/plain": [
       "0.83043"
      ]
     },
     "execution_count": 29,
     "metadata": {},
     "output_type": "execute_result"
    }
   ],
   "source": [
    "from sklearn.metrics import accuracy_score\n",
    "accuracy_score(ytest, hard)"
   ]
  },
  {
   "cell_type": "markdown",
   "metadata": {
    "colab_type": "text",
    "id": "Pdi72JJUoYb_"
   },
   "source": [
    "<font color=\"blue\"> It is quite a good score but the dataset is unbalanced, there too few click in comparaison with the no-click. </font>"
   ]
  },
  {
   "cell_type": "markdown",
   "metadata": {
    "colab_type": "text",
    "id": "ER4oZTUjYcWf"
   },
   "source": [
    "<font color=\"red\">**Question:**\n",
    "    Plot the ROC curve. Then compute the log loss and the Area Under the Curve ROC.\n",
    "</font>"
   ]
  },
  {
   "cell_type": "code",
   "execution_count": 30,
   "metadata": {
    "ExecuteTime": {
     "end_time": "2019-12-19T12:32:13.786754Z",
     "start_time": "2019-12-19T12:32:13.578008Z"
    },
    "colab": {},
    "colab_type": "code",
    "id": "Mj-LeKtqYcWf"
   },
   "outputs": [
    {
     "data": {
      "image/png": "[encoded data removed]",
      "text/plain": [
       "<Figure size 432x288 with 1 Axes>"
      ]
     },
     "metadata": {
      "needs_background": "light"
     },
     "output_type": "display_data"
    }
   ],
   "source": [
    "from sklearn.metrics import roc_curve\n",
    "\n",
    "false_pos_rate, true_pos_rate, _ = roc_curve(ytest, soft[:,1])\n",
    "plt.plot(false_pos_rate, true_pos_rate)\n",
    "\n",
    "plt.grid()\n",
    "plt.plot([0, 1], [0, 1], 'r--')\n",
    "plt.xlabel('False Positive Rate', fontsize=16)\n",
    "plt.ylabel('True Positive Rate', fontsize=16)\n",
    "plt.title('ROC curve', fontsize=20)\n",
    "plt.show()"
   ]
  },
  {
   "cell_type": "code",
   "execution_count": 31,
   "metadata": {
    "ExecuteTime": {
     "end_time": "2019-12-19T12:32:38.922052Z",
     "start_time": "2019-12-19T12:32:38.688564Z"
    },
    "colab": {},
    "colab_type": "code",
    "id": "RNxlXhDhYcWi"
   },
   "outputs": [
    {
     "data": {
      "text/plain": [
       "(0.42512237241698536, 0.6762770683130889)"
      ]
     },
     "execution_count": 31,
     "metadata": {},
     "output_type": "execute_result"
    }
   ],
   "source": [
    "from sklearn.metrics import log_loss , roc_auc_score\n",
    "\n",
    "log_loss(ytest, soft[:,1]), roc_auc_score(ytest, soft[:,1])"
   ]
  },
  {
   "cell_type": "markdown",
   "metadata": {
    "colab_type": "text",
    "id": "KPbreB3bYcWl"
   },
   "source": [
    "<font color=\"red\">**Question:**\n",
    "    Import the 'plot_lift' function from 'utils.py' and plot the lift curve. What is the lift of the first fifth of the population identified by the test?\n",
    "</font>"
   ]
  },
  {
   "cell_type": "code",
   "execution_count": 32,
   "metadata": {
    "ExecuteTime": {
     "end_time": "2019-12-19T12:34:28.117088Z",
     "start_time": "2019-12-19T12:34:27.698336Z"
    },
    "colab": {},
    "colab_type": "code",
    "id": "0VxLpfo9YcWl"
   },
   "outputs": [
    {
     "data": {
      "image/png": "[encoded data removed]",
      "text/plain": [
       "<Figure size 432x288 with 1 Axes>"
      ]
     },
     "metadata": {
      "needs_background": "light"
     },
     "output_type": "display_data"
    }
   ],
   "source": [
    "from utils import plotlift\n",
    "\n",
    "plotlift(ytest, soft[:,1] )\n",
    "# The following line just plots a vertical line for you to answer the second part of the question\n",
    "plt.axvline(x= 0.2 , linestyle='--', color='r') # Fill here\n",
    "plt.text\n",
    "plt.xlabel('Proportion of the dataset', fontsize=16)\n",
    "plt.ylabel('Lift', fontsize=16)\n",
    "plt.title('Lift curve', fontsize=20)\n",
    "plt.show()"
   ]
  },
  {
   "cell_type": "markdown",
   "metadata": {
    "colab_type": "text",
    "id": "WM_lg75foaLV"
   },
   "source": [
    "<font color=\"blue\"> The lift for the 1st fifth of the population is around 1,75. </font>"
   ]
  },
  {
   "cell_type": "markdown",
   "metadata": {
    "colab_type": "text",
    "id": "cF3oNg2BYcWo"
   },
   "source": [
    "# Complete model"
   ]
  },
  {
   "cell_type": "markdown",
   "metadata": {
    "colab_type": "text",
    "id": "guGisntUYcWo"
   },
   "source": [
    "As an example, we now focus on the 'site_id' column.\n",
    "\n",
    "<font color=\"red\">**Question:**\n",
    "    <br> - For each modality, compute the number of occurrences in the dataset and the average of clicks for this modality \n",
    "    <br> - With 'sns.jointplot', represent the set of points (count, mean) for each modality\n",
    "</font>"
   ]
  },
  {
   "cell_type": "code",
   "execution_count": 33,
   "metadata": {
    "ExecuteTime": {
     "end_time": "2019-12-19T12:36:59.247824Z",
     "start_time": "2019-12-19T12:36:59.243836Z"
    },
    "colab": {},
    "colab_type": "code",
    "id": "EWjvCk-JYcWp"
   },
   "outputs": [],
   "source": [
    "import seaborn as sns"
   ]
  },
  {
   "cell_type": "code",
   "execution_count": 36,
   "metadata": {
    "ExecuteTime": {
     "end_time": "2019-12-19T12:39:43.422412Z",
     "start_time": "2019-12-19T12:39:40.723252Z"
    },
    "colab": {},
    "colab_type": "code",
    "id": "T__2itFfYcWr"
   },
   "outputs": [
    {
     "data": {
      "image/png": "[encoded data removed]",
      "text/plain": [
       "<Figure size 432x432 with 3 Axes>"
      ]
     },
     "metadata": {
      "needs_background": "light"
     },
     "output_type": "display_data"
    },
    {
     "data": {
      "image/png": "[encoded data removed]",
      "text/plain": [
       "<Figure size 432x432 with 3 Axes>"
      ]
     },
     "metadata": {
      "needs_background": "light"
     },
     "output_type": "display_data"
    }
   ],
   "source": [
    "col = 'site_id'\n",
    "a = pd.DataFrame([df.groupby(col).mean()['click'], df.groupby(col).count()['click']]).transpose()\n",
    "a.columns = ['mean', 'n_val']\n",
    "sns.jointplot(a['n_val'], a['mean'], alpha=0.25);\n",
    "thres = 10000\n",
    "sns.jointplot(a[a['n_val']<thres]['n_val'], a[a['n_val']<thres]['mean'], alpha=0.25);"
   ]
  },
  {
   "cell_type": "markdown",
   "metadata": {
    "colab_type": "text",
    "id": "g8_LIRbIYcWt"
   },
   "source": [
    "<font color=\"red\">**Question:**\n",
    "    In the above commands, what does the alpha parameter stand for?\n",
    "</font>"
   ]
  },
  {
   "cell_type": "markdown",
   "metadata": {
    "colab_type": "text",
    "id": "4BBai06xp8eh"
   },
   "source": [
    "<font color=\"blue\"> Alpha represent the opacity of the points. And we note that where opacity is higher, it is because points are overlapping. </font>"
   ]
  },
  {
   "cell_type": "markdown",
   "metadata": {
    "colab_type": "text",
    "id": "HNp0HTLAYcWv"
   },
   "source": [
    "Several sites with a lot of occurrences in the dataset have a click frequency very different from the mean. It is relevant to keep the column 'site_id' at least for the modalities for which 'count' is very high.\n",
    "\n",
    "<font color=\"red\">**Question:**\n",
    "    Do the same work on the 'device_id' column. What do you notice? What could be the isolated point?\n",
    "</font>"
   ]
  },
  {
   "cell_type": "code",
   "execution_count": 37,
   "metadata": {
    "ExecuteTime": {
     "end_time": "2019-12-19T12:41:40.918758Z",
     "start_time": "2019-12-19T12:41:28.987426Z"
    },
    "colab": {},
    "colab_type": "code",
    "id": "bLhTwP7yYcWw"
   },
   "outputs": [
    {
     "data": {
      "image/png": "[encoded data removed]",
      "text/plain": [
       "<Figure size 432x432 with 3 Axes>"
      ]
     },
     "metadata": {
      "needs_background": "light"
     },
     "output_type": "display_data"
    },
    {
     "data": {
      "image/png": "[encoded data removed]",
      "text/plain": [
       "<Figure size 432x432 with 3 Axes>"
      ]
     },
     "metadata": {
      "needs_background": "light"
     },
     "output_type": "display_data"
    }
   ],
   "source": [
    "col = 'device_id' # Fill here\n",
    "a = pd.DataFrame([df.groupby(col).mean()['click'], df.groupby(col).count()['click']]).transpose()\n",
    "a.columns = ['mean', 'n_val']\n",
    "sns.jointplot(a['n_val'], a['mean'], alpha=0.25);\n",
    "thres = 10000\n",
    "sns.jointplot(a[a['n_val']<thres]['n_val'], a[a['n_val']<thres]['mean'], alpha=0.25);"
   ]
  },
  {
   "cell_type": "markdown",
   "metadata": {
    "colab_type": "text",
    "id": "HxFRNmVyqI3v"
   },
   "source": [
    "<font color=\"blue\"> The unique spot values corresponds to people which devices block the users information so the website associate a standard ID to these users. That's why, the unique spot values have a big n_value. </font>"
   ]
  },
  {
   "cell_type": "markdown",
   "metadata": {
    "colab_type": "text",
    "id": "q3_evYNkYcWy"
   },
   "source": [
    "<font color=\"red\">**Question**:   \n",
    "    In the column df['device_id'], spot the value V corresponding to the largest number of 'count' (using '.value_counts' method). Create a new column df['user'] defined as follows:\n",
    "</font>\n",
    "$$\n",
    "\\text{user} = \\left\\{\\begin{array}[h]{ll} \\text{device_ip + device_model} & \\text{if device_id = V}\\\\ \\text{device_id} & \\text{else.}\\end{array}\\right.\n",
    "$$"
   ]
  },
  {
   "cell_type": "code",
   "execution_count": 38,
   "metadata": {
    "ExecuteTime": {
     "end_time": "2019-12-19T12:45:10.001703Z",
     "start_time": "2019-12-19T12:45:09.365733Z"
    },
    "colab": {},
    "colab_type": "code",
    "id": "6_KH9aypYcWz"
   },
   "outputs": [],
   "source": [
    "V = df['device_id'].value_counts().idxmax() # Fill here\n",
    "df['user'] = (df['device_ip'] + df['device_model']) * (df['device_id']==V) + df['device_id'] * (df['device_id']!=V)"
   ]
  },
  {
   "cell_type": "markdown",
   "metadata": {
    "colab_type": "text",
    "id": "9irHlnubYcW2"
   },
   "source": [
    "<font color=\"red\">**Question**:\n",
    "    Drop the following columns: 'device_id', 'device_model' and 'device_ip'\n",
    "</font>"
   ]
  },
  {
   "cell_type": "code",
   "execution_count": 39,
   "metadata": {
    "ExecuteTime": {
     "end_time": "2019-12-19T12:45:35.990926Z",
     "start_time": "2019-12-19T12:45:35.606229Z"
    },
    "colab": {},
    "colab_type": "code",
    "id": "0EfKNjkIYcW3",
    "scrolled": true
   },
   "outputs": [],
   "source": [
    "df = df.drop(['device_id','device_model','device_ip'], axis=1)"
   ]
  },
  {
   "cell_type": "markdown",
   "metadata": {
    "colab_type": "text",
    "id": "Re0avpAtYcW7"
   },
   "source": [
    "<font color=\"red\">**Question**:\n",
    "    One could look at the similarity between 'site_id' and 'site_domain'. Merge those columns into a new 'site' column (using the '+' operator)  and delete the old 'site_id' and 'site_domain' columns.\n",
    "</font>"
   ]
  },
  {
   "cell_type": "code",
   "execution_count": 40,
   "metadata": {
    "ExecuteTime": {
     "end_time": "2019-12-19T12:45:42.343064Z",
     "start_time": "2019-12-19T12:45:41.834436Z"
    },
    "colab": {},
    "colab_type": "code",
    "id": "RPrMudxPYcW7",
    "scrolled": true
   },
   "outputs": [],
   "source": [
    "df['site'] = df['site_id'] + df['site_domain']\n",
    "df = df.drop(['site_id', 'site_domain'], axis=1)"
   ]
  },
  {
   "cell_type": "markdown",
   "metadata": {
    "colab_type": "text",
    "id": "qBWWV6pnYcW_"
   },
   "source": [
    "<font color=\"red\">**Question**:\n",
    "    Once again, split the modified DataFrame 'df' into a train and a test set (with options: test_size=0.1 and random_state=100).\n",
    "    <br>\n",
    "    Warning: do not use 'id' as a feature.\n",
    "</font>"
   ]
  },
  {
   "cell_type": "code",
   "execution_count": 41,
   "metadata": {
    "ExecuteTime": {
     "end_time": "2019-12-19T12:45:52.219469Z",
     "start_time": "2019-12-19T12:45:51.246181Z"
    },
    "colab": {},
    "colab_type": "code",
    "id": "XmJrvxlEYcXA"
   },
   "outputs": [],
   "source": [
    "X = df.drop(['id','click'], axis=1)\n",
    "y = df['click']\n",
    "Xtrain, Xtest, ytrain, ytest = train_test_split(X, y, test_size=0.1, random_state=100)"
   ]
  },
  {
   "cell_type": "code",
   "execution_count": 42,
   "metadata": {
    "ExecuteTime": {
     "end_time": "2019-12-19T12:45:53.049707Z",
     "start_time": "2019-12-19T12:45:53.042725Z"
    }
   },
   "outputs": [
    {
     "data": {
      "text/plain": [
       "(900000, 20)"
      ]
     },
     "execution_count": 42,
     "metadata": {},
     "output_type": "execute_result"
    }
   ],
   "source": [
    "Xtrain.shape"
   ]
  },
  {
   "cell_type": "markdown",
   "metadata": {
    "colab_type": "text",
    "id": "b7zoMXC5YcXC"
   },
   "source": [
    "<font color=\"red\">**Question**:\n",
    "    Define a OneHotEncoder and then, 'fit_transform' the train set.\n",
    "</font>"
   ]
  },
  {
   "cell_type": "code",
   "execution_count": 43,
   "metadata": {
    "ExecuteTime": {
     "end_time": "2019-12-19T12:46:34.139112Z",
     "start_time": "2019-12-19T12:46:27.838571Z"
    },
    "colab": {},
    "colab_type": "code",
    "id": "U4RSRj7LYcXC"
   },
   "outputs": [],
   "source": [
    "ohe = OneHotEncoder(handle_unknown='ignore')\n",
    "Xtrain_oh = ohe.fit_transform(Xtrain) # Fill here"
   ]
  },
  {
   "cell_type": "markdown",
   "metadata": {
    "colab_type": "text",
    "id": "9p2yNLblYcXF"
   },
   "source": [
    "<font color=\"red\">**Question**:\n",
    "    Transform the test set. If an error occurs, analyze it and try to solve it by modifying the parameter \"handle_unkown\" of the OneHotEncoder. \n",
    "    <br>\n",
    "    Explain your the problem you encouter and how you solved it. \n",
    "</font>"
   ]
  },
  {
   "cell_type": "code",
   "execution_count": 44,
   "metadata": {
    "ExecuteTime": {
     "end_time": "2019-12-19T12:46:36.536133Z",
     "start_time": "2019-12-19T12:46:35.508939Z"
    },
    "colab": {},
    "colab_type": "code",
    "id": "7MeYRj1IYcXG"
   },
   "outputs": [],
   "source": [
    "Xtest_oh = ohe.transform(Xtest) # Fill here"
   ]
  },
  {
   "cell_type": "markdown",
   "metadata": {
    "colab_type": "text",
    "id": "zKXtU2rBwAd-"
   },
   "source": [
    "<font color=\"blue\"> The test dataset has categorical features that don't appear in the train dataset, the parameter \"handle_unknown='ignore'\" permit to solve this problem by ignoring these features. </font>"
   ]
  },
  {
   "cell_type": "markdown",
   "metadata": {
    "colab_type": "text",
    "id": "lrihsX2dYcXH"
   },
   "source": [
    "<font color=\"red\">**Question**:\n",
    "    What is the new number of features?\n",
    "</font>"
   ]
  },
  {
   "cell_type": "code",
   "execution_count": 45,
   "metadata": {
    "ExecuteTime": {
     "end_time": "2019-12-19T12:47:53.928711Z",
     "start_time": "2019-12-19T12:47:53.922728Z"
    },
    "colab": {},
    "colab_type": "code",
    "id": "8HF2CHhxYcXI"
   },
   "outputs": [
    {
     "data": {
      "text/plain": [
       "713334"
      ]
     },
     "execution_count": 45,
     "metadata": {},
     "output_type": "execute_result"
    }
   ],
   "source": [
    "Xtest_oh.shape[1]"
   ]
  },
  {
   "cell_type": "markdown",
   "metadata": {
    "colab_type": "text",
    "id": "lZ9kHweWwDEt"
   },
   "source": [
    "<font color=\"blue\"> There are 713334 features. </font>"
   ]
  },
  {
   "cell_type": "markdown",
   "metadata": {
    "colab_type": "text",
    "id": "KTjjUA6JYcXJ"
   },
   "source": [
    "<font color=\"red\">**Question**:\n",
    "    How many modalities have been seen more than a 100 times?\n",
    "</font>"
   ]
  },
  {
   "cell_type": "code",
   "execution_count": 46,
   "metadata": {
    "ExecuteTime": {
     "end_time": "2019-12-19T12:48:42.377422Z",
     "start_time": "2019-12-19T12:48:42.190192Z"
    },
    "colab": {},
    "colab_type": "code",
    "id": "Egt0JgByYcXK"
   },
   "outputs": [
    {
     "data": {
      "text/plain": [
       "1971"
      ]
     },
     "execution_count": 46,
     "metadata": {},
     "output_type": "execute_result"
    }
   ],
   "source": [
    "# The following 'n_ones' vector below gives the number of '1' in each column/modality of the Xtrain_oh design matrix.\n",
    "n_ones = np.array(Xtrain_oh.sum(axis=0))\n",
    "np.sum(n_ones> 100) # Fill here using 'n_ones'"
   ]
  },
  {
   "cell_type": "markdown",
   "metadata": {
    "colab_type": "text",
    "id": "3bNDd-2dwD3_"
   },
   "source": [
    "<font color=\"blue\"> There are only 1971 modalities which have been seen more than 100 times. </font>"
   ]
  },
  {
   "cell_type": "markdown",
   "metadata": {
    "colab_type": "text",
    "id": "U0h74pNxYcXN"
   },
   "source": [
    "The list 'cols_to_keep' below is used to store the indices of the modalities seen more than a 100 times. \n",
    "\n",
    "<font color=\"red\">**Question**:\n",
    "    How does the `enumerate` function work?\n",
    "</font>"
   ]
  },
  {
   "cell_type": "code",
   "execution_count": 47,
   "metadata": {
    "ExecuteTime": {
     "end_time": "2019-12-19T12:48:50.829055Z",
     "start_time": "2019-12-19T12:48:50.770213Z"
    },
    "colab": {},
    "colab_type": "code",
    "id": "_YknbprTYcXO"
   },
   "outputs": [],
   "source": [
    "useful = np.array(n_ones>100)[0]\n",
    "cols_to_keep = [i for i,b in enumerate(useful) if b]"
   ]
  },
  {
   "cell_type": "markdown",
   "metadata": {
    "colab_type": "text",
    "id": "xMCS7vM9yjt0"
   },
   "source": [
    "<font color=\"blue\"> The enumerate function associate the index of the columns which have been seen more than 100 times. </font>"
   ]
  },
  {
   "cell_type": "markdown",
   "metadata": {
    "colab_type": "text",
    "id": "X0fiY2NBYcXP"
   },
   "source": [
    "<font color=\"red\">**Question**:\n",
    "    Using only our restriction on the 'cols_to_keep' columns, retrain a logistic regression model and compare its performance in terms of 'log_loss' and 'roc_auc_curve'.\n",
    "</font>"
   ]
  },
  {
   "cell_type": "code",
   "execution_count": 48,
   "metadata": {
    "ExecuteTime": {
     "end_time": "2019-12-19T12:50:35.202311Z",
     "start_time": "2019-12-19T12:49:26.434653Z"
    },
    "colab": {},
    "colab_type": "code",
    "id": "ajFA_JMJYcXR"
   },
   "outputs": [
    {
     "data": {
      "text/plain": [
       "(0.40115580757357305, 0.7385966313684806)"
      ]
     },
     "execution_count": 48,
     "metadata": {},
     "output_type": "execute_result"
    }
   ],
   "source": [
    "lr = LogisticRegression(solver='liblinear')\n",
    "lr.fit(Xtrain_oh[:,cols_to_keep], ytrain)\n",
    "soft = lr.predict_proba(Xtest_oh[:,cols_to_keep])\n",
    "log_loss(ytest, soft[:,1]), roc_auc_score(ytest, soft[:,1])"
   ]
  },
  {
   "cell_type": "markdown",
   "metadata": {
    "colab_type": "text",
    "id": "lahZdWm6YcXT"
   },
   "source": [
    "# Gradient Boosting Decision Trees"
   ]
  },
  {
   "cell_type": "markdown",
   "metadata": {
    "colab_type": "text",
    "id": "RkeyRzzmYcXU"
   },
   "source": [
    "<font color=\"red\">**Question**:\n",
    "    <br> - Import GradientBoostingClassifier from scikit learn. \n",
    "    <br> - Initialize it using 50 estimators and a learning rate of 0.8. Set 'verbose=True' to monitor the progress of the training step.\n",
    "    <br> - Fit it on the same columns 'cols_to_keep' of Xtrain_oh than for the previous logistic regression.\n",
    "    <br> - Evaluate its performance as in the previous step.\n",
    "</font>"
   ]
  },
  {
   "cell_type": "code",
   "execution_count": 46,
   "metadata": {
    "ExecuteTime": {
     "end_time": "2019-12-15T15:25:32.524444Z",
     "start_time": "2019-12-15T15:25:30.559346Z"
    },
    "colab": {},
    "colab_type": "code",
    "id": "H8XZdPUXYcXV"
   },
   "outputs": [],
   "source": [
    "from sklearn.ensemble import GradientBoostingClassifier\n",
    "gb = GradientBoostingClassifier(n_estimators=50, learning_rate=0.8, verbose=True) # Fill here"
   ]
  },
  {
   "cell_type": "code",
   "execution_count": 47,
   "metadata": {
    "ExecuteTime": {
     "end_time": "2019-12-15T15:29:27.499516Z",
     "start_time": "2019-12-15T15:25:32.527371Z"
    },
    "colab": {},
    "colab_type": "code",
    "id": "et4JbJETYcXb"
   },
   "outputs": [
    {
     "name": "stdout",
     "output_type": "stream",
     "text": [
      "      Iter       Train Loss   Remaining Time \n",
      "         1           0.8743            4.18m\n",
      "         2           0.8646            4.05m\n",
      "         3           0.8583            4.50m\n",
      "         4           0.8535            4.27m\n",
      "         5           0.8503            4.09m\n",
      "         6           0.8464            3.95m\n",
      "         7           0.8441            3.82m\n",
      "         8           0.8418            3.68m\n",
      "         9           0.8404            3.54m\n",
      "        10           0.8383            3.42m\n",
      "        20           0.8282            2.43m\n",
      "        30           0.8234            1.59m\n",
      "        40           0.8190           47.17s\n",
      "        50           0.8163            0.00s\n"
     ]
    },
    {
     "data": {
      "text/plain": [
       "GradientBoostingClassifier(criterion='friedman_mse', init=None,\n",
       "                           learning_rate=0.8, loss='deviance', max_depth=3,\n",
       "                           max_features=None, max_leaf_nodes=None,\n",
       "                           min_impurity_decrease=0.0, min_impurity_split=None,\n",
       "                           min_samples_leaf=1, min_samples_split=2,\n",
       "                           min_weight_fraction_leaf=0.0, n_estimators=50,\n",
       "                           n_iter_no_change=None, presort='auto',\n",
       "                           random_state=None, subsample=1.0, tol=0.0001,\n",
       "                           validation_fraction=0.1, verbose=True,\n",
       "                           warm_start=False)"
      ]
     },
     "execution_count": 47,
     "metadata": {},
     "output_type": "execute_result"
    }
   ],
   "source": [
    "gb.fit(Xtrain_oh[:,cols_to_keep], ytrain)"
   ]
  },
  {
   "cell_type": "code",
   "execution_count": 48,
   "metadata": {
    "ExecuteTime": {
     "end_time": "2019-12-15T15:29:27.741572Z",
     "start_time": "2019-12-15T15:29:27.502445Z"
    },
    "colab": {},
    "colab_type": "code",
    "id": "2mD8vNR-YcXd"
   },
   "outputs": [
    {
     "data": {
      "text/plain": [
       "(0.4091871736006742, 0.7251893509766301)"
      ]
     },
     "execution_count": 48,
     "metadata": {},
     "output_type": "execute_result"
    }
   ],
   "source": [
    "soft = gb.predict_proba(Xtest_oh[:,cols_to_keep])\n",
    "log_loss(ytest, soft[:,1]), roc_auc_score(ytest, soft[:,1])"
   ]
  },
  {
   "cell_type": "markdown",
   "metadata": {
    "colab_type": "text",
    "id": "LwRasRUrYcXe"
   },
   "source": [
    "<font color=\"red\">**Question**:\n",
    "    What does the 'gb.estimators_' output?\n",
    "</font>"
   ]
  },
  {
   "cell_type": "code",
   "execution_count": 49,
   "metadata": {
    "ExecuteTime": {
     "end_time": "2019-12-15T15:29:27.776708Z",
     "start_time": "2019-12-15T15:29:27.743525Z"
    },
    "colab": {},
    "colab_type": "code",
    "id": "93aySiwVYcXf"
   },
   "outputs": [
    {
     "data": {
      "text/plain": [
       "array([[DecisionTreeRegressor(criterion='friedman_mse', max_depth=3, max_features=None,\n",
       "                      max_leaf_nodes=None, min_impurity_decrease=0.0,\n",
       "                      min_impurity_split=None, min_samples_leaf=1,\n",
       "                      min_samples_split=2, min_weight_fraction_leaf=0.0,\n",
       "                      presort='auto',\n",
       "                      random_state=<mtrand.RandomState object at 0x000002960D231728>,\n",
       "                      splitter='best')],\n",
       "       [DecisionTreeRegressor(criterion='friedman_mse', max_depth=3, max_features=None,\n",
       "                      max_leaf_nodes=None, min_impurity_decrease=0.0,\n",
       "                      min_impurity_split=None, min_samples_leaf=1,\n",
       "                      min_samples_split=2, min_weight_fraction_leaf=0.0,\n",
       "                      presort='auto',\n",
       "                      random_state=<mtrand.RandomState object at 0x000002960D231728>,\n",
       "                      splitter='best')],\n",
       "       [DecisionTreeRegressor(criterion='friedman_mse', max_depth=3, max_features=None,\n",
       "                      max_leaf_nodes=None, min_impurity_decrease=0.0,\n",
       "                      min_impurity_split=None, min_samples_leaf=1,\n",
       "                      min_samples_split=2, min_weight_fraction_leaf=0.0,\n",
       "                      presort='auto',\n",
       "                      random_state=<mtrand.RandomState object at 0x000002960D231728>,\n",
       "                      splitter='best')],\n",
       "       [DecisionTreeRegressor(criterion='friedman_mse', max_depth=3, max_features=None,\n",
       "                      max_leaf_nodes=None, min_impurity_decrease=0.0,\n",
       "                      min_impurity_split=None, min_samples_leaf=1,\n",
       "                      min_samples_split=2, min_weight_fraction_leaf=0.0,\n",
       "                      presort='auto',\n",
       "                      random_state=<mtrand.RandomState object at 0x000002960D231728>,\n",
       "                      splitter='best')],\n",
       "       [DecisionTreeRegressor(criterion='friedman_mse', max_depth=3, max_features=None,\n",
       "                      max_leaf_nodes=None, min_impurity_decrease=0.0,\n",
       "                      min_impurity_split=None, min_samples_leaf=1,\n",
       "                      min_samples_split=2, min_weight_fraction_leaf=0.0,\n",
       "                      presort='auto',\n",
       "                      random_state=<mtrand.RandomState object at 0x000002960D231728>,\n",
       "                      splitter='best')],\n",
       "       [DecisionTreeRegressor(criterion='friedman_mse', max_depth=3, max_features=None,\n",
       "                      max_leaf_nodes=None, min_impurity_decrease=0.0,\n",
       "                      min_impurity_split=None, min_samples_leaf=1,\n",
       "                      min_samples_split=2, min_weight_fraction_leaf=0.0,\n",
       "                      presort='auto',\n",
       "                      random_state=<mtrand.RandomState object at 0x000002960D231728>,\n",
       "                      splitter='best')],\n",
       "       [DecisionTreeRegressor(criterion='friedman_mse', max_depth=3, max_features=None,\n",
       "                      max_leaf_nodes=None, min_impurity_decrease=0.0,\n",
       "                      min_impurity_split=None, min_samples_leaf=1,\n",
       "                      min_samples_split=2, min_weight_fraction_leaf=0.0,\n",
       "                      presort='auto',\n",
       "                      random_state=<mtrand.RandomState object at 0x000002960D231728>,\n",
       "                      splitter='best')],\n",
       "       [DecisionTreeRegressor(criterion='friedman_mse', max_depth=3, max_features=None,\n",
       "                      max_leaf_nodes=None, min_impurity_decrease=0.0,\n",
       "                      min_impurity_split=None, min_samples_leaf=1,\n",
       "                      min_samples_split=2, min_weight_fraction_leaf=0.0,\n",
       "                      presort='auto',\n",
       "                      random_state=<mtrand.RandomState object at 0x000002960D231728>,\n",
       "                      splitter='best')],\n",
       "       [DecisionTreeRegressor(criterion='friedman_mse', max_depth=3, max_features=None,\n",
       "                      max_leaf_nodes=None, min_impurity_decrease=0.0,\n",
       "                      min_impurity_split=None, min_samples_leaf=1,\n",
       "                      min_samples_split=2, min_weight_fraction_leaf=0.0,\n",
       "                      presort='auto',\n",
       "                      random_state=<mtrand.RandomState object at 0x000002960D231728>,\n",
       "                      splitter='best')],\n",
       "       [DecisionTreeRegressor(criterion='friedman_mse', max_depth=3, max_features=None,\n",
       "                      max_leaf_nodes=None, min_impurity_decrease=0.0,\n",
       "                      min_impurity_split=None, min_samples_leaf=1,\n",
       "                      min_samples_split=2, min_weight_fraction_leaf=0.0,\n",
       "                      presort='auto',\n",
       "                      random_state=<mtrand.RandomState object at 0x000002960D231728>,\n",
       "                      splitter='best')],\n",
       "       [DecisionTreeRegressor(criterion='friedman_mse', max_depth=3, max_features=None,\n",
       "                      max_leaf_nodes=None, min_impurity_decrease=0.0,\n",
       "                      min_impurity_split=None, min_samples_leaf=1,\n",
       "                      min_samples_split=2, min_weight_fraction_leaf=0.0,\n",
       "                      presort='auto',\n",
       "                      random_state=<mtrand.RandomState object at 0x000002960D231728>,\n",
       "                      splitter='best')],\n",
       "       [DecisionTreeRegressor(criterion='friedman_mse', max_depth=3, max_features=None,\n",
       "                      max_leaf_nodes=None, min_impurity_decrease=0.0,\n",
       "                      min_impurity_split=None, min_samples_leaf=1,\n",
       "                      min_samples_split=2, min_weight_fraction_leaf=0.0,\n",
       "                      presort='auto',\n",
       "                      random_state=<mtrand.RandomState object at 0x000002960D231728>,\n",
       "                      splitter='best')],\n",
       "       [DecisionTreeRegressor(criterion='friedman_mse', max_depth=3, max_features=None,\n",
       "                      max_leaf_nodes=None, min_impurity_decrease=0.0,\n",
       "                      min_impurity_split=None, min_samples_leaf=1,\n",
       "                      min_samples_split=2, min_weight_fraction_leaf=0.0,\n",
       "                      presort='auto',\n",
       "                      random_state=<mtrand.RandomState object at 0x000002960D231728>,\n",
       "                      splitter='best')],\n",
       "       [DecisionTreeRegressor(criterion='friedman_mse', max_depth=3, max_features=None,\n",
       "                      max_leaf_nodes=None, min_impurity_decrease=0.0,\n",
       "                      min_impurity_split=None, min_samples_leaf=1,\n",
       "                      min_samples_split=2, min_weight_fraction_leaf=0.0,\n",
       "                      presort='auto',\n",
       "                      random_state=<mtrand.RandomState object at 0x000002960D231728>,\n",
       "                      splitter='best')],\n",
       "       [DecisionTreeRegressor(criterion='friedman_mse', max_depth=3, max_features=None,\n",
       "                      max_leaf_nodes=None, min_impurity_decrease=0.0,\n",
       "                      min_impurity_split=None, min_samples_leaf=1,\n",
       "                      min_samples_split=2, min_weight_fraction_leaf=0.0,\n",
       "                      presort='auto',\n",
       "                      random_state=<mtrand.RandomState object at 0x000002960D231728>,\n",
       "                      splitter='best')],\n",
       "       [DecisionTreeRegressor(criterion='friedman_mse', max_depth=3, max_features=None,\n",
       "                      max_leaf_nodes=None, min_impurity_decrease=0.0,\n",
       "                      min_impurity_split=None, min_samples_leaf=1,\n",
       "                      min_samples_split=2, min_weight_fraction_leaf=0.0,\n",
       "                      presort='auto',\n",
       "                      random_state=<mtrand.RandomState object at 0x000002960D231728>,\n",
       "                      splitter='best')],\n",
       "       [DecisionTreeRegressor(criterion='friedman_mse', max_depth=3, max_features=None,\n",
       "                      max_leaf_nodes=None, min_impurity_decrease=0.0,\n",
       "                      min_impurity_split=None, min_samples_leaf=1,\n",
       "                      min_samples_split=2, min_weight_fraction_leaf=0.0,\n",
       "                      presort='auto',\n",
       "                      random_state=<mtrand.RandomState object at 0x000002960D231728>,\n",
       "                      splitter='best')],\n",
       "       [DecisionTreeRegressor(criterion='friedman_mse', max_depth=3, max_features=None,\n",
       "                      max_leaf_nodes=None, min_impurity_decrease=0.0,\n",
       "                      min_impurity_split=None, min_samples_leaf=1,\n",
       "                      min_samples_split=2, min_weight_fraction_leaf=0.0,\n",
       "                      presort='auto',\n",
       "                      random_state=<mtrand.RandomState object at 0x000002960D231728>,\n",
       "                      splitter='best')],\n",
       "       [DecisionTreeRegressor(criterion='friedman_mse', max_depth=3, max_features=None,\n",
       "                      max_leaf_nodes=None, min_impurity_decrease=0.0,\n",
       "                      min_impurity_split=None, min_samples_leaf=1,\n",
       "                      min_samples_split=2, min_weight_fraction_leaf=0.0,\n",
       "                      presort='auto',\n",
       "                      random_state=<mtrand.RandomState object at 0x000002960D231728>,\n",
       "                      splitter='best')],\n",
       "       [DecisionTreeRegressor(criterion='friedman_mse', max_depth=3, max_features=None,\n",
       "                      max_leaf_nodes=None, min_impurity_decrease=0.0,\n",
       "                      min_impurity_split=None, min_samples_leaf=1,\n",
       "                      min_samples_split=2, min_weight_fraction_leaf=0.0,\n",
       "                      presort='auto',\n",
       "                      random_state=<mtrand.RandomState object at 0x000002960D231728>,\n",
       "                      splitter='best')],\n",
       "       [DecisionTreeRegressor(criterion='friedman_mse', max_depth=3, max_features=None,\n",
       "                      max_leaf_nodes=None, min_impurity_decrease=0.0,\n",
       "                      min_impurity_split=None, min_samples_leaf=1,\n",
       "                      min_samples_split=2, min_weight_fraction_leaf=0.0,\n",
       "                      presort='auto',\n",
       "                      random_state=<mtrand.RandomState object at 0x000002960D231728>,\n",
       "                      splitter='best')],\n",
       "       [DecisionTreeRegressor(criterion='friedman_mse', max_depth=3, max_features=None,\n",
       "                      max_leaf_nodes=None, min_impurity_decrease=0.0,\n",
       "                      min_impurity_split=None, min_samples_leaf=1,\n",
       "                      min_samples_split=2, min_weight_fraction_leaf=0.0,\n",
       "                      presort='auto',\n",
       "                      random_state=<mtrand.RandomState object at 0x000002960D231728>,\n",
       "                      splitter='best')],\n",
       "       [DecisionTreeRegressor(criterion='friedman_mse', max_depth=3, max_features=None,\n",
       "                      max_leaf_nodes=None, min_impurity_decrease=0.0,\n",
       "                      min_impurity_split=None, min_samples_leaf=1,\n",
       "                      min_samples_split=2, min_weight_fraction_leaf=0.0,\n",
       "                      presort='auto',\n",
       "                      random_state=<mtrand.RandomState object at 0x000002960D231728>,\n",
       "                      splitter='best')],\n",
       "       [DecisionTreeRegressor(criterion='friedman_mse', max_depth=3, max_features=None,\n",
       "                      max_leaf_nodes=None, min_impurity_decrease=0.0,\n",
       "                      min_impurity_split=None, min_samples_leaf=1,\n",
       "                      min_samples_split=2, min_weight_fraction_leaf=0.0,\n",
       "                      presort='auto',\n",
       "                      random_state=<mtrand.RandomState object at 0x000002960D231728>,\n",
       "                      splitter='best')],\n",
       "       [DecisionTreeRegressor(criterion='friedman_mse', max_depth=3, max_features=None,\n",
       "                      max_leaf_nodes=None, min_impurity_decrease=0.0,\n",
       "                      min_impurity_split=None, min_samples_leaf=1,\n",
       "                      min_samples_split=2, min_weight_fraction_leaf=0.0,\n",
       "                      presort='auto',\n",
       "                      random_state=<mtrand.RandomState object at 0x000002960D231728>,\n",
       "                      splitter='best')],\n",
       "       [DecisionTreeRegressor(criterion='friedman_mse', max_depth=3, max_features=None,\n",
       "                      max_leaf_nodes=None, min_impurity_decrease=0.0,\n",
       "                      min_impurity_split=None, min_samples_leaf=1,\n",
       "                      min_samples_split=2, min_weight_fraction_leaf=0.0,\n",
       "                      presort='auto',\n",
       "                      random_state=<mtrand.RandomState object at 0x000002960D231728>,\n",
       "                      splitter='best')],\n",
       "       [DecisionTreeRegressor(criterion='friedman_mse', max_depth=3, max_features=None,\n",
       "                      max_leaf_nodes=None, min_impurity_decrease=0.0,\n",
       "                      min_impurity_split=None, min_samples_leaf=1,\n",
       "                      min_samples_split=2, min_weight_fraction_leaf=0.0,\n",
       "                      presort='auto',\n",
       "                      random_state=<mtrand.RandomState object at 0x000002960D231728>,\n",
       "                      splitter='best')],\n",
       "       [DecisionTreeRegressor(criterion='friedman_mse', max_depth=3, max_features=None,\n",
       "                      max_leaf_nodes=None, min_impurity_decrease=0.0,\n",
       "                      min_impurity_split=None, min_samples_leaf=1,\n",
       "                      min_samples_split=2, min_weight_fraction_leaf=0.0,\n",
       "                      presort='auto',\n",
       "                      random_state=<mtrand.RandomState object at 0x000002960D231728>,\n",
       "                      splitter='best')],\n",
       "       [DecisionTreeRegressor(criterion='friedman_mse', max_depth=3, max_features=None,\n",
       "                      max_leaf_nodes=None, min_impurity_decrease=0.0,\n",
       "                      min_impurity_split=None, min_samples_leaf=1,\n",
       "                      min_samples_split=2, min_weight_fraction_leaf=0.0,\n",
       "                      presort='auto',\n",
       "                      random_state=<mtrand.RandomState object at 0x000002960D231728>,\n",
       "                      splitter='best')],\n",
       "       [DecisionTreeRegressor(criterion='friedman_mse', max_depth=3, max_features=None,\n",
       "                      max_leaf_nodes=None, min_impurity_decrease=0.0,\n",
       "                      min_impurity_split=None, min_samples_leaf=1,\n",
       "                      min_samples_split=2, min_weight_fraction_leaf=0.0,\n",
       "                      presort='auto',\n",
       "                      random_state=<mtrand.RandomState object at 0x000002960D231728>,\n",
       "                      splitter='best')],\n",
       "       [DecisionTreeRegressor(criterion='friedman_mse', max_depth=3, max_features=None,\n",
       "                      max_leaf_nodes=None, min_impurity_decrease=0.0,\n",
       "                      min_impurity_split=None, min_samples_leaf=1,\n",
       "                      min_samples_split=2, min_weight_fraction_leaf=0.0,\n",
       "                      presort='auto',\n",
       "                      random_state=<mtrand.RandomState object at 0x000002960D231728>,\n",
       "                      splitter='best')],\n",
       "       [DecisionTreeRegressor(criterion='friedman_mse', max_depth=3, max_features=None,\n",
       "                      max_leaf_nodes=None, min_impurity_decrease=0.0,\n",
       "                      min_impurity_split=None, min_samples_leaf=1,\n",
       "                      min_samples_split=2, min_weight_fraction_leaf=0.0,\n",
       "                      presort='auto',\n",
       "                      random_state=<mtrand.RandomState object at 0x000002960D231728>,\n",
       "                      splitter='best')],\n",
       "       [DecisionTreeRegressor(criterion='friedman_mse', max_depth=3, max_features=None,\n",
       "                      max_leaf_nodes=None, min_impurity_decrease=0.0,\n",
       "                      min_impurity_split=None, min_samples_leaf=1,\n",
       "                      min_samples_split=2, min_weight_fraction_leaf=0.0,\n",
       "                      presort='auto',\n",
       "                      random_state=<mtrand.RandomState object at 0x000002960D231728>,\n",
       "                      splitter='best')],\n",
       "       [DecisionTreeRegressor(criterion='friedman_mse', max_depth=3, max_features=None,\n",
       "                      max_leaf_nodes=None, min_impurity_decrease=0.0,\n",
       "                      min_impurity_split=None, min_samples_leaf=1,\n",
       "                      min_samples_split=2, min_weight_fraction_leaf=0.0,\n",
       "                      presort='auto',\n",
       "                      random_state=<mtrand.RandomState object at 0x000002960D231728>,\n",
       "                      splitter='best')],\n",
       "       [DecisionTreeRegressor(criterion='friedman_mse', max_depth=3, max_features=None,\n",
       "                      max_leaf_nodes=None, min_impurity_decrease=0.0,\n",
       "                      min_impurity_split=None, min_samples_leaf=1,\n",
       "                      min_samples_split=2, min_weight_fraction_leaf=0.0,\n",
       "                      presort='auto',\n",
       "                      random_state=<mtrand.RandomState object at 0x000002960D231728>,\n",
       "                      splitter='best')],\n",
       "       [DecisionTreeRegressor(criterion='friedman_mse', max_depth=3, max_features=None,\n",
       "                      max_leaf_nodes=None, min_impurity_decrease=0.0,\n",
       "                      min_impurity_split=None, min_samples_leaf=1,\n",
       "                      min_samples_split=2, min_weight_fraction_leaf=0.0,\n",
       "                      presort='auto',\n",
       "                      random_state=<mtrand.RandomState object at 0x000002960D231728>,\n",
       "                      splitter='best')],\n",
       "       [DecisionTreeRegressor(criterion='friedman_mse', max_depth=3, max_features=None,\n",
       "                      max_leaf_nodes=None, min_impurity_decrease=0.0,\n",
       "                      min_impurity_split=None, min_samples_leaf=1,\n",
       "                      min_samples_split=2, min_weight_fraction_leaf=0.0,\n",
       "                      presort='auto',\n",
       "                      random_state=<mtrand.RandomState object at 0x000002960D231728>,\n",
       "                      splitter='best')],\n",
       "       [DecisionTreeRegressor(criterion='friedman_mse', max_depth=3, max_features=None,\n",
       "                      max_leaf_nodes=None, min_impurity_decrease=0.0,\n",
       "                      min_impurity_split=None, min_samples_leaf=1,\n",
       "                      min_samples_split=2, min_weight_fraction_leaf=0.0,\n",
       "                      presort='auto',\n",
       "                      random_state=<mtrand.RandomState object at 0x000002960D231728>,\n",
       "                      splitter='best')],\n",
       "       [DecisionTreeRegressor(criterion='friedman_mse', max_depth=3, max_features=None,\n",
       "                      max_leaf_nodes=None, min_impurity_decrease=0.0,\n",
       "                      min_impurity_split=None, min_samples_leaf=1,\n",
       "                      min_samples_split=2, min_weight_fraction_leaf=0.0,\n",
       "                      presort='auto',\n",
       "                      random_state=<mtrand.RandomState object at 0x000002960D231728>,\n",
       "                      splitter='best')],\n",
       "       [DecisionTreeRegressor(criterion='friedman_mse', max_depth=3, max_features=None,\n",
       "                      max_leaf_nodes=None, min_impurity_decrease=0.0,\n",
       "                      min_impurity_split=None, min_samples_leaf=1,\n",
       "                      min_samples_split=2, min_weight_fraction_leaf=0.0,\n",
       "                      presort='auto',\n",
       "                      random_state=<mtrand.RandomState object at 0x000002960D231728>,\n",
       "                      splitter='best')],\n",
       "       [DecisionTreeRegressor(criterion='friedman_mse', max_depth=3, max_features=None,\n",
       "                      max_leaf_nodes=None, min_impurity_decrease=0.0,\n",
       "                      min_impurity_split=None, min_samples_leaf=1,\n",
       "                      min_samples_split=2, min_weight_fraction_leaf=0.0,\n",
       "                      presort='auto',\n",
       "                      random_state=<mtrand.RandomState object at 0x000002960D231728>,\n",
       "                      splitter='best')],\n",
       "       [DecisionTreeRegressor(criterion='friedman_mse', max_depth=3, max_features=None,\n",
       "                      max_leaf_nodes=None, min_impurity_decrease=0.0,\n",
       "                      min_impurity_split=None, min_samples_leaf=1,\n",
       "                      min_samples_split=2, min_weight_fraction_leaf=0.0,\n",
       "                      presort='auto',\n",
       "                      random_state=<mtrand.RandomState object at 0x000002960D231728>,\n",
       "                      splitter='best')],\n",
       "       [DecisionTreeRegressor(criterion='friedman_mse', max_depth=3, max_features=None,\n",
       "                      max_leaf_nodes=None, min_impurity_decrease=0.0,\n",
       "                      min_impurity_split=None, min_samples_leaf=1,\n",
       "                      min_samples_split=2, min_weight_fraction_leaf=0.0,\n",
       "                      presort='auto',\n",
       "                      random_state=<mtrand.RandomState object at 0x000002960D231728>,\n",
       "                      splitter='best')],\n",
       "       [DecisionTreeRegressor(criterion='friedman_mse', max_depth=3, max_features=None,\n",
       "                      max_leaf_nodes=None, min_impurity_decrease=0.0,\n",
       "                      min_impurity_split=None, min_samples_leaf=1,\n",
       "                      min_samples_split=2, min_weight_fraction_leaf=0.0,\n",
       "                      presort='auto',\n",
       "                      random_state=<mtrand.RandomState object at 0x000002960D231728>,\n",
       "                      splitter='best')],\n",
       "       [DecisionTreeRegressor(criterion='friedman_mse', max_depth=3, max_features=None,\n",
       "                      max_leaf_nodes=None, min_impurity_decrease=0.0,\n",
       "                      min_impurity_split=None, min_samples_leaf=1,\n",
       "                      min_samples_split=2, min_weight_fraction_leaf=0.0,\n",
       "                      presort='auto',\n",
       "                      random_state=<mtrand.RandomState object at 0x000002960D231728>,\n",
       "                      splitter='best')],\n",
       "       [DecisionTreeRegressor(criterion='friedman_mse', max_depth=3, max_features=None,\n",
       "                      max_leaf_nodes=None, min_impurity_decrease=0.0,\n",
       "                      min_impurity_split=None, min_samples_leaf=1,\n",
       "                      min_samples_split=2, min_weight_fraction_leaf=0.0,\n",
       "                      presort='auto',\n",
       "                      random_state=<mtrand.RandomState object at 0x000002960D231728>,\n",
       "                      splitter='best')],\n",
       "       [DecisionTreeRegressor(criterion='friedman_mse', max_depth=3, max_features=None,\n",
       "                      max_leaf_nodes=None, min_impurity_decrease=0.0,\n",
       "                      min_impurity_split=None, min_samples_leaf=1,\n",
       "                      min_samples_split=2, min_weight_fraction_leaf=0.0,\n",
       "                      presort='auto',\n",
       "                      random_state=<mtrand.RandomState object at 0x000002960D231728>,\n",
       "                      splitter='best')],\n",
       "       [DecisionTreeRegressor(criterion='friedman_mse', max_depth=3, max_features=None,\n",
       "                      max_leaf_nodes=None, min_impurity_decrease=0.0,\n",
       "                      min_impurity_split=None, min_samples_leaf=1,\n",
       "                      min_samples_split=2, min_weight_fraction_leaf=0.0,\n",
       "                      presort='auto',\n",
       "                      random_state=<mtrand.RandomState object at 0x000002960D231728>,\n",
       "                      splitter='best')],\n",
       "       [DecisionTreeRegressor(criterion='friedman_mse', max_depth=3, max_features=None,\n",
       "                      max_leaf_nodes=None, min_impurity_decrease=0.0,\n",
       "                      min_impurity_split=None, min_samples_leaf=1,\n",
       "                      min_samples_split=2, min_weight_fraction_leaf=0.0,\n",
       "                      presort='auto',\n",
       "                      random_state=<mtrand.RandomState object at 0x000002960D231728>,\n",
       "                      splitter='best')],\n",
       "       [DecisionTreeRegressor(criterion='friedman_mse', max_depth=3, max_features=None,\n",
       "                      max_leaf_nodes=None, min_impurity_decrease=0.0,\n",
       "                      min_impurity_split=None, min_samples_leaf=1,\n",
       "                      min_samples_split=2, min_weight_fraction_leaf=0.0,\n",
       "                      presort='auto',\n",
       "                      random_state=<mtrand.RandomState object at 0x000002960D231728>,\n",
       "                      splitter='best')]], dtype=object)"
      ]
     },
     "execution_count": 49,
     "metadata": {},
     "output_type": "execute_result"
    }
   ],
   "source": [
    "gb.estimators_"
   ]
  },
  {
   "cell_type": "markdown",
   "metadata": {
    "colab_type": "text",
    "id": "XR6NDWxJ3_et"
   },
   "source": [
    "<font color=\"blue\"> It displays all trees estimators of the Gradient Boosting estimator. </font>"
   ]
  },
  {
   "cell_type": "markdown",
   "metadata": {
    "colab_type": "text",
    "id": "ti_dNmw8YcXi"
   },
   "source": [
    "We now try to use the 'gb' classifier to generate features that will be relevant inputs for the logistic regression.\n",
    "\n",
    "<font color=\"red\">**Question**:\n",
    "    With the 'gb.apply()' method, generate a transformation 'leafs_train' of the training set 'Xtrain_oh[:, cols_to_keep]' for which the n-th column corresponds to the number of the leaf returned by the estimator n.\n",
    "</font>"
   ]
  },
  {
   "cell_type": "code",
   "execution_count": 50,
   "metadata": {
    "ExecuteTime": {
     "end_time": "2019-12-15T15:29:31.357765Z",
     "start_time": "2019-12-15T15:29:27.778661Z"
    },
    "colab": {},
    "colab_type": "code",
    "id": "cmJhb7tcYcXi"
   },
   "outputs": [
    {
     "data": {
      "text/plain": [
       "array([[[ 3.],\n",
       "        [ 3.],\n",
       "        [ 3.],\n",
       "        ...,\n",
       "        [ 3.],\n",
       "        [ 3.],\n",
       "        [ 3.]],\n",
       "\n",
       "       [[ 3.],\n",
       "        [ 3.],\n",
       "        [ 3.],\n",
       "        ...,\n",
       "        [ 3.],\n",
       "        [ 3.],\n",
       "        [ 3.]],\n",
       "\n",
       "       [[ 3.],\n",
       "        [ 3.],\n",
       "        [ 3.],\n",
       "        ...,\n",
       "        [ 3.],\n",
       "        [ 3.],\n",
       "        [ 3.]],\n",
       "\n",
       "       ...,\n",
       "\n",
       "       [[ 3.],\n",
       "        [ 3.],\n",
       "        [ 3.],\n",
       "        ...,\n",
       "        [ 3.],\n",
       "        [ 3.],\n",
       "        [ 3.]],\n",
       "\n",
       "       [[ 3.],\n",
       "        [ 3.],\n",
       "        [ 3.],\n",
       "        ...,\n",
       "        [ 3.],\n",
       "        [ 3.],\n",
       "        [ 3.]],\n",
       "\n",
       "       [[ 3.],\n",
       "        [13.],\n",
       "        [ 3.],\n",
       "        ...,\n",
       "        [ 3.],\n",
       "        [ 3.],\n",
       "        [ 3.]]])"
      ]
     },
     "execution_count": 50,
     "metadata": {},
     "output_type": "execute_result"
    }
   ],
   "source": [
    "# Test here the gb.apply method on Xtrain[:, cols_to_keep]\n",
    "gb.apply(Xtrain_oh[:, cols_to_keep])"
   ]
  },
  {
   "cell_type": "markdown",
   "metadata": {
    "colab_type": "text",
    "id": "f88rLF6fYcXk"
   },
   "source": [
    "After your applied gb.apply on Xtrain_oh[:, cols_to_keep], remember that we have only one class to predict (click = 0 or 1). So, do not forget to slice your output with [:, :, 0] in order to keep, firstly, all the samples, and secondly all your 50 estimators.\n",
    "\n",
    "Hint: you can have a look at the dimensions of your output with .shape !"
   ]
  },
  {
   "cell_type": "code",
   "execution_count": 51,
   "metadata": {
    "ExecuteTime": {
     "end_time": "2019-12-15T15:29:35.773171Z",
     "start_time": "2019-12-15T15:29:31.359717Z"
    },
    "colab": {},
    "colab_type": "code",
    "id": "jiZ-Q28JYcXk"
   },
   "outputs": [],
   "source": [
    "leafs_train = pd.DataFrame(gb.apply(Xtrain_oh[:, cols_to_keep])[:,:,0]) # Fill here\n",
    "leafs_test = pd.DataFrame(gb.apply(Xtest_oh[:, cols_to_keep])[:,:,0])"
   ]
  },
  {
   "cell_type": "markdown",
   "metadata": {
    "colab_type": "text",
    "id": "qzp8_EGTYcXm"
   },
   "source": [
    "<font color=\"red\">**Question**:\n",
    "    Encode these new features into dummies.\n",
    "</font>"
   ]
  },
  {
   "cell_type": "code",
   "execution_count": 52,
   "metadata": {
    "ExecuteTime": {
     "end_time": "2019-12-15T15:29:47.722462Z",
     "start_time": "2019-12-15T15:29:35.775123Z"
    },
    "colab": {},
    "colab_type": "code",
    "id": "9NJku301YcXn"
   },
   "outputs": [],
   "source": [
    "ohe = OneHotEncoder(handle_unknown='ignore') # Fill here an argument if needed\n",
    "leafs_train_oh = ohe.fit_transform(leafs_train)\n",
    "leafs_test_oh = ohe.transform(leafs_test)"
   ]
  },
  {
   "cell_type": "markdown",
   "metadata": {
    "colab_type": "text",
    "id": "2HLSbinZYcXp"
   },
   "source": [
    "<font color=\"red\">**Question**:\n",
    "    With the \"hstack\" function, create a new matrix of features by concatenating horizontally our new features \"leafs_train_oh\" and \"leafs_test_oh\", and previous features used for logistic regression (e.g. in \"Xtrain_oh[:, cols_to_keep]\").\n",
    "</font>\n",
    "<br><br>\n",
    "**Remark**: we use \"hstack\" from scipy.sparse (and not from numpy) because the output of our OneHotEncoder is a sparse array. You can verify it with the command \"type(Xtrain_oh)\"."
   ]
  },
  {
   "cell_type": "code",
   "execution_count": 53,
   "metadata": {
    "ExecuteTime": {
     "end_time": "2019-12-15T15:29:50.930910Z",
     "start_time": "2019-12-15T15:29:47.724415Z"
    },
    "colab": {},
    "colab_type": "code",
    "id": "wjhhFyZvYcXp"
   },
   "outputs": [],
   "source": [
    "from scipy.sparse import csr_matrix, hstack\n",
    "\n",
    "Xtrain_concat = hstack([ leafs_train_oh , Xtrain_oh[:,cols_to_keep] ]) # Fill here\n",
    "Xtest_concat = hstack([ leafs_test_oh , Xtest_oh[:,cols_to_keep] ])"
   ]
  },
  {
   "cell_type": "markdown",
   "metadata": {
    "colab_type": "text",
    "id": "xU9nmnoAYcXr"
   },
   "source": [
    "<font color=\"red\">**Question**:\n",
    "    Run a logistic regression on the new features and evaluate its performance as before. \n",
    "    <br>\n",
    "    Warning: be patient, fitting should take about 5 minutes on Google Colab.\n",
    "</font>"
   ]
  },
  {
   "cell_type": "code",
   "execution_count": 54,
   "metadata": {
    "ExecuteTime": {
     "end_time": "2019-12-15T15:34:19.262537Z",
     "start_time": "2019-12-15T15:29:50.932861Z"
    },
    "colab": {},
    "colab_type": "code",
    "id": "GENT6fHnYcXs"
   },
   "outputs": [
    {
     "data": {
      "text/plain": [
       "(0.3999485273288263, 0.7417408521229629)"
      ]
     },
     "execution_count": 54,
     "metadata": {},
     "output_type": "execute_result"
    }
   ],
   "source": [
    "lr = LogisticRegression(solver='liblinear')\n",
    "lr.fit(Xtrain_concat, ytrain)\n",
    "soft = lr.predict_proba(Xtest_concat)\n",
    "log_loss(ytest, soft[:,1]), roc_auc_score(ytest, soft[:,1])"
   ]
  },
  {
   "cell_type": "markdown",
   "metadata": {
    "colab_type": "text",
    "id": "0ZtUqINfYcX2"
   },
   "source": [
    "<font color=\"red\">**Question**:\n",
    "    <br> - Import XGBClassifier from xgboost package.\n",
    "    <br> - Initialize it using the same number of estimators and learning rate as before. Set the 'n_jobs' to -1.\n",
    "    <br> - Fit it on the same columns 'cols_to_keep' of Xtrain_oh than for the previous logistic regression.\n",
    "    <br> - Evaluate its performance and compare it to the GradientBoosting classifier of scikit learn. How is the error? Does it take more time to run?\n",
    "</font>"
   ]
  },
  {
   "cell_type": "code",
   "execution_count": 55,
   "metadata": {
    "ExecuteTime": {
     "end_time": "2019-12-15T15:35:05.386590Z",
     "start_time": "2019-12-15T15:34:19.268395Z"
    },
    "colab": {},
    "colab_type": "code",
    "id": "n2SeSnz_YcX3",
    "scrolled": true
   },
   "outputs": [
    {
     "name": "stdout",
     "output_type": "stream",
     "text": [
      "Wall time: 42.5 s\n"
     ]
    },
    {
     "data": {
      "text/plain": [
       "(0.40789666037925987, 0.7244454605414952)"
      ]
     },
     "execution_count": 55,
     "metadata": {},
     "output_type": "execute_result"
    }
   ],
   "source": [
    "from xgboost import XGBClassifier\n",
    "\n",
    "xgb = XGBClassifier(n_estimators=50 , learning_rate=0.8, n_jobs=-1)\n",
    "%time xgb.fit(Xtrain_oh[:,cols_to_keep], ytrain)\n",
    "soft = xgb.predict_proba(Xtest_oh[:,cols_to_keep])\n",
    "log_loss(ytest, soft[:,1]), roc_auc_score(ytest, soft[:,1])"
   ]
  },
  {
   "cell_type": "markdown",
   "metadata": {},
   "source": [
    "<font color=\"blue\"> The error is smaller than for the GradientBoosting classifier (+ new features and LogisticRegressions) and it is faster. </font>"
   ]
  },
  {
   "cell_type": "markdown",
   "metadata": {
    "colab_type": "text",
    "id": "55dxXIaDYcX6"
   },
   "source": [
    "<font color=\"red\">**Question**:\n",
    "    Increase the number of estimators and visualize the impact on performance. You might have to adapt the learning rate. On Google Colab, here are the approximate training times\n",
    "    <br> - nb_estimators=256  and lr=0.8 ~  4 min\n",
    "    <br> - nb_estimators=512  and lr=0.6 ~  8 min\n",
    "    <br> - nb_estimators=1024 and lr=0.5 ~ 16 min\n",
    "</font>"
   ]
  },
  {
   "cell_type": "code",
   "execution_count": 56,
   "metadata": {
    "ExecuteTime": {
     "end_time": "2019-12-15T15:52:05.407579Z",
     "start_time": "2019-12-15T15:35:05.390493Z"
    },
    "colab": {},
    "colab_type": "code",
    "id": "Ggzx0320YcX7"
   },
   "outputs": [
    {
     "name": "stdout",
     "output_type": "stream",
     "text": [
      "Wall time: 2min 27s\n",
      "0.4005939307126671 0.7398873318043857\n",
      "Wall time: 5min 22s\n",
      "0.3989405887436692 0.7430728546666654\n",
      "Wall time: 9min 4s\n",
      "0.39833280929639514 0.7443511768722024\n"
     ]
    }
   ],
   "source": [
    "xgb = XGBClassifier( n_estimators=256 , learning_rate=0.8, n_jobs=-1)\n",
    "%time xgb.fit(Xtrain_oh[:,cols_to_keep], ytrain)\n",
    "soft = xgb.predict_proba(Xtest_oh[:,cols_to_keep])\n",
    "print(log_loss(ytest, soft[:,1]), roc_auc_score(ytest, soft[:,1]))\n",
    "\n",
    "xgb = XGBClassifier( n_estimators=512 , learning_rate=0.6, n_jobs=-1)\n",
    "%time xgb.fit(Xtrain_oh[:,cols_to_keep], ytrain)\n",
    "soft = xgb.predict_proba(Xtest_oh[:,cols_to_keep])\n",
    "print(log_loss(ytest, soft[:,1]), roc_auc_score(ytest, soft[:,1]))\n",
    "\n",
    "xgb = XGBClassifier( n_estimators=1024 , learning_rate=0.5, n_jobs=-1)\n",
    "%time xgb.fit(Xtrain_oh[:,cols_to_keep], ytrain)\n",
    "soft = xgb.predict_proba(Xtest_oh[:,cols_to_keep])\n",
    "print(log_loss(ytest, soft[:,1]), roc_auc_score(ytest, soft[:,1]))"
   ]
  },
  {
   "cell_type": "markdown",
   "metadata": {
    "colab_type": "text",
    "id": "CdGiGxdHYcX-"
   },
   "source": [
    "# Features hashing and random forest"
   ]
  },
  {
   "cell_type": "markdown",
   "metadata": {
    "colab_type": "text",
    "id": "Xl78yaijYcX_"
   },
   "source": [
    "We restart with raw features before dummy encoding: Xtrain, Xtest.\n",
    "\n",
    "<font color=\"red\">**Question**:\n",
    "    Display again the number of modalities per feature in Xtrain. Use '.nunique()'\n",
    "</font>"
   ]
  },
  {
   "cell_type": "code",
   "execution_count": 57,
   "metadata": {
    "ExecuteTime": {
     "end_time": "2019-12-15T15:52:08.598080Z",
     "start_time": "2019-12-15T15:52:05.410506Z"
    },
    "colab": {},
    "colab_type": "code",
    "id": "Pq6zsDXsYcYA"
   },
   "outputs": [
    {
     "data": {
      "text/plain": [
       "hour                    24\n",
       "C1                       7\n",
       "banner_pos               7\n",
       "site_category           22\n",
       "app_id                3054\n",
       "app_domain             196\n",
       "app_category            26\n",
       "device_type              5\n",
       "device_conn_type         4\n",
       "C14                   2225\n",
       "C15                      8\n",
       "C16                      9\n",
       "C17                    420\n",
       "C18                      4\n",
       "C19                     66\n",
       "C20                    163\n",
       "C21                     60\n",
       "weekday                  7\n",
       "user                701585\n",
       "site                  5442\n",
       "dtype: int64"
      ]
     },
     "execution_count": 57,
     "metadata": {},
     "output_type": "execute_result"
    }
   ],
   "source": [
    "Xtrain.nunique()# Fill here"
   ]
  },
  {
   "cell_type": "markdown",
   "metadata": {
    "colab_type": "text",
    "id": "qIcJGDaxYcYC"
   },
   "source": [
    "We want to define a transformation which regroups the least frequent modalities into a label 'isRare'. In order to do so, we decide to define our own Transformer.\n",
    "\n",
    "<font color=\"red\">**Question**:\n",
    "    Understand the different steps of 'fit' and 'transform'.\n",
    "</font>"
   ]
  },
  {
   "cell_type": "code",
   "execution_count": 80,
   "metadata": {
    "ExecuteTime": {
     "end_time": "2019-12-19T16:13:15.398791Z",
     "start_time": "2019-12-19T16:13:15.379841Z"
    },
    "colab": {},
    "colab_type": "code",
    "id": "a7rJE9cSYcYC"
   },
   "outputs": [],
   "source": [
    "from sklearn.base import BaseEstimator, TransformerMixin\n",
    "\n",
    "class MergeRareTransformer(BaseEstimator, TransformerMixin):\n",
    "    \n",
    "    def __init__(self, col_names, threshold):\n",
    "        self.col_names = col_names\n",
    "        self.threshold = threshold\n",
    "\n",
    "    def fit(self, X, y=None):\n",
    "\n",
    "        X = pd.DataFrame(X)\n",
    "        counts_dict_list = []\n",
    "        ################## READ THIS #########################\n",
    "        for i in range(len(self.col_names)):\n",
    "            \n",
    "            serie = X[self.col_names[i]].value_counts()  # Série des counts de chaque modalité\n",
    "            rare_indexes = serie[serie<self.threshold[i]].index  # A quoi correspondent ces indices ? les indices des observations rares\n",
    "            frequent_indexes = serie[serie>=self.threshold[i]].index  # A quoi correspondent ces indices ? les indices des observations fréquentes\n",
    "            dico = {x:'isRare' for x in rare_indexes}\n",
    "            dico.update({x: str(x) for x in frequent_indexes})\n",
    "            counts_dict_list.append(dico)   # Quel est le dictionnaire obtenu ? les observations rares ont un label isRare, les autres ont leur label original\n",
    "            \n",
    "        ######################################################\n",
    "            \n",
    "        self.counts_dict_list_ = counts_dict_list\n",
    "        return self\n",
    "\n",
    "    def transform(self, X):\n",
    "\n",
    "        Xt = pd.DataFrame()\n",
    "        ################## READ THIS #########################\n",
    "        for col, count_dict in zip(self.col_names, self.counts_dict_list_):\n",
    "            Xt[col] = X[col].apply(lambda x:count_dict[x] if x in count_dict else 'isRare')\n",
    "            # A quoi sert le \"else 'isRare'\" dans la transformation de la colonne ?\n",
    "        ######################################################\n",
    "\n",
    "        return Xt\n"
   ]
  },
  {
   "cell_type": "markdown",
   "metadata": {
    "colab_type": "text",
    "id": "IJqAjGMkYcYE"
   },
   "source": [
    "<font color=\"red\">**Question:**\n",
    "    <br> - Fit and transform the training set. To do so, merge all modalities occuring at least 20 times in each column.\n",
    "    <br> - Transform the test set.\n",
    "</font>"
   ]
  },
  {
   "cell_type": "code",
   "execution_count": 81,
   "metadata": {
    "ExecuteTime": {
     "end_time": "2019-12-19T16:13:28.926286Z",
     "start_time": "2019-12-19T16:13:19.212345Z"
    },
    "colab": {},
    "colab_type": "code",
    "id": "cO4wJxgOYcYF"
   },
   "outputs": [],
   "source": [
    "mg = MergeRareTransformer(col_names=Xtrain.columns, threshold=[20]*len(Xtrain.columns))\n",
    "Xtrain_mg = mg.fit_transform(Xtrain) # Fill here with fit_transform\n",
    "Xtest_mg  = mg.transform(Xtest)"
   ]
  },
  {
   "cell_type": "markdown",
   "metadata": {
    "colab_type": "text",
    "id": "M0X1rEVJYcYI"
   },
   "source": [
    "<font color=\"red\">**Question:**\n",
    "   How many elements of the column Xtrain_mg['app_domain'] are now labeled as 'rare'? Use the '.value_counts()' method.\n",
    "</font>"
   ]
  },
  {
   "cell_type": "code",
   "execution_count": 60,
   "metadata": {
    "ExecuteTime": {
     "end_time": "2019-12-15T15:52:20.203518Z",
     "start_time": "2019-12-15T15:52:20.041576Z"
    },
    "colab": {},
    "colab_type": "code",
    "id": "5A3oL0BgYcYI"
   },
   "outputs": [
    {
     "data": {
      "text/plain": [
       "7801e8d9    606390\n",
       "2347f47a    116467\n",
       "ae637522     41928\n",
       "5c5a694b     25289\n",
       "82e27996     16869\n",
       "d9b5648e     15709\n",
       "0e8616ad     14784\n",
       "b9528b13     14284\n",
       "b8d325c3     11953\n",
       "aefc06bd      6644\n",
       "df32afa9      6412\n",
       "33da2e74      5911\n",
       "6f7ca2ba      4990\n",
       "5b9c592b      2448\n",
       "885c7f3f      1468\n",
       "5c620f04      1419\n",
       "45a51db4      1219\n",
       "b5f3b24a      1093\n",
       "813f3323       544\n",
       "0654b444       514\n",
       "isRare         513\n",
       "ad63ec9b       388\n",
       "c6824def       306\n",
       "15ec7f39       275\n",
       "a8b0bf20       266\n",
       "99b4c806       219\n",
       "828da833       185\n",
       "448ca2e3       167\n",
       "f2f777fb       157\n",
       "43cf4f06       149\n",
       "47464e95        99\n",
       "d6feb1a4        95\n",
       "2b627705        89\n",
       "1ea19ec4        72\n",
       "db829551        69\n",
       "6a0a3a9d        59\n",
       "18eb4e75        56\n",
       "0d79ee56        53\n",
       "9ec164d3        51\n",
       "e5d5313f        46\n",
       "b12ff13e        42\n",
       "27ee373d        36\n",
       "b408d42a        30\n",
       "5ac0b939        28\n",
       "bb6bcbae        27\n",
       "1ed56ded        27\n",
       "3feeed1e        26\n",
       "63f57be0        25\n",
       "15c23f8e        25\n",
       "7eec2ab0        24\n",
       "7a9371fa        21\n",
       "afdf1f54        20\n",
       "dcdba109        20\n",
       "Name: app_domain, dtype: int64"
      ]
     },
     "execution_count": 60,
     "metadata": {},
     "output_type": "execute_result"
    }
   ],
   "source": [
    "Xtrain_mg['app_domain'].value_counts() # Fill here"
   ]
  },
  {
   "cell_type": "markdown",
   "metadata": {},
   "source": [
    "<font color=\"blue\"> There are 513 elements labeled as 'isRare'. </font>"
   ]
  },
  {
   "cell_type": "markdown",
   "metadata": {
    "colab_type": "text",
    "id": "4YqrBBiSYcYK"
   },
   "source": [
    "<font color=\"red\">**Question:**\n",
    "   In the new train set, display the number of modalities for each feature.\n",
    "</font>"
   ]
  },
  {
   "cell_type": "code",
   "execution_count": 61,
   "metadata": {
    "ExecuteTime": {
     "end_time": "2019-12-15T15:52:21.846632Z",
     "start_time": "2019-12-15T15:52:20.206455Z"
    },
    "colab": {},
    "colab_type": "code",
    "id": "g_jA_EBDYcYL"
   },
   "outputs": [
    {
     "data": {
      "text/plain": [
       "hour                  24\n",
       "C1                     7\n",
       "banner_pos             7\n",
       "site_category         18\n",
       "app_id               613\n",
       "app_domain            53\n",
       "app_category          19\n",
       "device_type            5\n",
       "device_conn_type       4\n",
       "C14                 1339\n",
       "C15                    8\n",
       "C16                    9\n",
       "C17                  381\n",
       "C18                    4\n",
       "C19                   63\n",
       "C20                  148\n",
       "C21                   60\n",
       "weekday                7\n",
       "user                 901\n",
       "site                 889\n",
       "dtype: int64"
      ]
     },
     "execution_count": 61,
     "metadata": {},
     "output_type": "execute_result"
    }
   ],
   "source": [
    "Xtrain_mg.nunique()# Fill here"
   ]
  },
  {
   "cell_type": "markdown",
   "metadata": {
    "colab_type": "text",
    "id": "0W2O7eoxYcYO"
   },
   "source": [
    "Modalities are arbitrary object, such as '234', 'isRare', etc. We will now transform them into integers with the hashing trick.\n",
    "\n",
    "<font color=\"red\">**Question:**\n",
    "   To better understand how the 'hash' function is working, apply it to a string of your choice.\n",
    "</font>"
   ]
  },
  {
   "cell_type": "code",
   "execution_count": 54,
   "metadata": {
    "ExecuteTime": {
     "end_time": "2019-12-19T12:59:30.105250Z",
     "start_time": "2019-12-19T12:59:30.099268Z"
    },
    "colab": {},
    "colab_type": "code",
    "id": "4Xn6l5okYcYP"
   },
   "outputs": [
    {
     "data": {
      "text/plain": [
       "-6990983340402408668"
      ]
     },
     "execution_count": 54,
     "metadata": {},
     "output_type": "execute_result"
    }
   ],
   "source": [
    "import hashlib\n",
    "hash('Python')"
   ]
  },
  {
   "cell_type": "markdown",
   "metadata": {
    "colab_type": "text",
    "id": "m0xFTKrSYcYT"
   },
   "source": [
    "<font color=\"red\">**Question:**\n",
    "   Create two new datasets 'Xtrain_ha' and 'Xtest_ha' containing the output of the hashing process. Use the '.apply' method to transform iteratively the columns by mapping to each value its remainder in the euclidean division of the hash by 1000000. \n",
    "   Example:\n",
    "</font>\n",
    "</font>\n",
    "<p>\n",
    "<center>\n",
    "2060777048690<font color=\"red\">918393</font>  -->  918393\n",
    "</center>\n",
    "Remark: do not forget that the function 'hash' has to take a string as input."
   ]
  },
  {
   "cell_type": "code",
   "execution_count": 63,
   "metadata": {
    "ExecuteTime": {
     "end_time": "2019-12-15T15:52:42.887830Z",
     "start_time": "2019-12-15T15:52:21.859319Z"
    },
    "colab": {},
    "colab_type": "code",
    "id": "Su-b4TJKYcYT"
   },
   "outputs": [],
   "source": [
    "Xtrain_ha = pd.DataFrame()\n",
    "Xtest_ha  = pd.DataFrame()\n",
    "for col in Xtrain_mg.columns:\n",
    "    Xtrain_ha[col] = Xtrain_mg[col].apply(lambda x : hash(str(x)) % 1000000) # Fill here defining a lambda function\n",
    "    Xtest_ha[col]  = Xtest_mg[col].apply(lambda x : hash(str(x)) % 1000000)"
   ]
  },
  {
   "cell_type": "markdown",
   "metadata": {
    "colab_type": "text",
    "id": "uvVesMxDYcYV"
   },
   "source": [
    "<font color=\"red\">**Question:**\n",
    "   Visualize the content of the DataFrames you have obtained.\n",
    "</font>"
   ]
  },
  {
   "cell_type": "code",
   "execution_count": 64,
   "metadata": {
    "ExecuteTime": {
     "end_time": "2019-12-15T15:52:42.925890Z",
     "start_time": "2019-12-15T15:52:42.890725Z"
    },
    "colab": {},
    "colab_type": "code",
    "id": "lJAHncnZYcYW"
   },
   "outputs": [
    {
     "data": {
      "text/html": [
       "<div>\n",
       "<style scoped>\n",
       "    .dataframe tbody tr th:only-of-type {\n",
       "        vertical-align: middle;\n",
       "    }\n",
       "\n",
       "    .dataframe tbody tr th {\n",
       "        vertical-align: top;\n",
       "    }\n",
       "\n",
       "    .dataframe thead th {\n",
       "        text-align: right;\n",
       "    }\n",
       "</style>\n",
       "<table border=\"1\" class=\"dataframe\">\n",
       "  <thead>\n",
       "    <tr style=\"text-align: right;\">\n",
       "      <th></th>\n",
       "      <th>hour</th>\n",
       "      <th>C1</th>\n",
       "      <th>banner_pos</th>\n",
       "      <th>site_category</th>\n",
       "      <th>app_id</th>\n",
       "      <th>app_domain</th>\n",
       "      <th>app_category</th>\n",
       "      <th>device_type</th>\n",
       "      <th>device_conn_type</th>\n",
       "      <th>C14</th>\n",
       "      <th>C15</th>\n",
       "      <th>C16</th>\n",
       "      <th>C17</th>\n",
       "      <th>C18</th>\n",
       "      <th>C19</th>\n",
       "      <th>C20</th>\n",
       "      <th>C21</th>\n",
       "      <th>weekday</th>\n",
       "      <th>user</th>\n",
       "      <th>site</th>\n",
       "    </tr>\n",
       "  </thead>\n",
       "  <tbody>\n",
       "    <tr>\n",
       "      <td>92438</td>\n",
       "      <td>495490</td>\n",
       "      <td>886536</td>\n",
       "      <td>425377</td>\n",
       "      <td>296665</td>\n",
       "      <td>659262</td>\n",
       "      <td>724821</td>\n",
       "      <td>703468</td>\n",
       "      <td>55443</td>\n",
       "      <td>153260</td>\n",
       "      <td>695606</td>\n",
       "      <td>480142</td>\n",
       "      <td>433485</td>\n",
       "      <td>381219</td>\n",
       "      <td>422796</td>\n",
       "      <td>361883</td>\n",
       "      <td>898198</td>\n",
       "      <td>531487</td>\n",
       "      <td>422796</td>\n",
       "      <td>530172</td>\n",
       "      <td>54646</td>\n",
       "    </tr>\n",
       "    <tr>\n",
       "      <td>60898</td>\n",
       "      <td>991348</td>\n",
       "      <td>905481</td>\n",
       "      <td>422796</td>\n",
       "      <td>296665</td>\n",
       "      <td>768851</td>\n",
       "      <td>483115</td>\n",
       "      <td>473321</td>\n",
       "      <td>425377</td>\n",
       "      <td>380713</td>\n",
       "      <td>695606</td>\n",
       "      <td>480142</td>\n",
       "      <td>433485</td>\n",
       "      <td>381219</td>\n",
       "      <td>422796</td>\n",
       "      <td>361883</td>\n",
       "      <td>898198</td>\n",
       "      <td>531487</td>\n",
       "      <td>425377</td>\n",
       "      <td>530172</td>\n",
       "      <td>54646</td>\n",
       "    </tr>\n",
       "    <tr>\n",
       "      <td>556199</td>\n",
       "      <td>55443</td>\n",
       "      <td>905481</td>\n",
       "      <td>422796</td>\n",
       "      <td>682631</td>\n",
       "      <td>355081</td>\n",
       "      <td>724821</td>\n",
       "      <td>307517</td>\n",
       "      <td>425377</td>\n",
       "      <td>380713</td>\n",
       "      <td>566593</td>\n",
       "      <td>480142</td>\n",
       "      <td>433485</td>\n",
       "      <td>306476</td>\n",
       "      <td>422796</td>\n",
       "      <td>783471</td>\n",
       "      <td>898198</td>\n",
       "      <td>212749</td>\n",
       "      <td>422796</td>\n",
       "      <td>530172</td>\n",
       "      <td>478932</td>\n",
       "    </tr>\n",
       "    <tr>\n",
       "      <td>193129</td>\n",
       "      <td>996369</td>\n",
       "      <td>905481</td>\n",
       "      <td>425377</td>\n",
       "      <td>682631</td>\n",
       "      <td>355081</td>\n",
       "      <td>724821</td>\n",
       "      <td>307517</td>\n",
       "      <td>425377</td>\n",
       "      <td>422796</td>\n",
       "      <td>112886</td>\n",
       "      <td>480142</td>\n",
       "      <td>433485</td>\n",
       "      <td>432915</td>\n",
       "      <td>422796</td>\n",
       "      <td>684406</td>\n",
       "      <td>640640</td>\n",
       "      <td>168806</td>\n",
       "      <td>425377</td>\n",
       "      <td>530172</td>\n",
       "      <td>314831</td>\n",
       "    </tr>\n",
       "    <tr>\n",
       "      <td>231985</td>\n",
       "      <td>764835</td>\n",
       "      <td>905481</td>\n",
       "      <td>422796</td>\n",
       "      <td>494541</td>\n",
       "      <td>355081</td>\n",
       "      <td>724821</td>\n",
       "      <td>307517</td>\n",
       "      <td>425377</td>\n",
       "      <td>422796</td>\n",
       "      <td>162812</td>\n",
       "      <td>480142</td>\n",
       "      <td>433485</td>\n",
       "      <td>381219</td>\n",
       "      <td>422796</td>\n",
       "      <td>361883</td>\n",
       "      <td>871298</td>\n",
       "      <td>531487</td>\n",
       "      <td>727383</td>\n",
       "      <td>530172</td>\n",
       "      <td>679108</td>\n",
       "    </tr>\n",
       "  </tbody>\n",
       "</table>\n",
       "</div>"
      ],
      "text/plain": [
       "          hour      C1  banner_pos  site_category  app_id  app_domain  \\\n",
       "92438   495490  886536      425377         296665  659262      724821   \n",
       "60898   991348  905481      422796         296665  768851      483115   \n",
       "556199   55443  905481      422796         682631  355081      724821   \n",
       "193129  996369  905481      425377         682631  355081      724821   \n",
       "231985  764835  905481      422796         494541  355081      724821   \n",
       "\n",
       "        app_category  device_type  device_conn_type     C14     C15     C16  \\\n",
       "92438         703468        55443            153260  695606  480142  433485   \n",
       "60898         473321       425377            380713  695606  480142  433485   \n",
       "556199        307517       425377            380713  566593  480142  433485   \n",
       "193129        307517       425377            422796  112886  480142  433485   \n",
       "231985        307517       425377            422796  162812  480142  433485   \n",
       "\n",
       "           C17     C18     C19     C20     C21  weekday    user    site  \n",
       "92438   381219  422796  361883  898198  531487   422796  530172   54646  \n",
       "60898   381219  422796  361883  898198  531487   425377  530172   54646  \n",
       "556199  306476  422796  783471  898198  212749   422796  530172  478932  \n",
       "193129  432915  422796  684406  640640  168806   425377  530172  314831  \n",
       "231985  381219  422796  361883  871298  531487   727383  530172  679108  "
      ]
     },
     "execution_count": 64,
     "metadata": {},
     "output_type": "execute_result"
    }
   ],
   "source": [
    "Xtrain_ha.head()"
   ]
  },
  {
   "cell_type": "markdown",
   "metadata": {
    "colab_type": "text",
    "id": "4Xt7l9rvYcYX"
   },
   "source": [
    "<font color=\"red\">**Question:**\n",
    "    <br> - Train a RandomForestClassifier on Xtrain_ha and evaluate its performance on Xtest_ha. Chose 256 estimators, min_samples_leaf=20 and verbose=1 in order to monitor the fitting step. (If you have enough time, try later with 1024 estimators and min_samples_leaf=20).\n",
    "    <br> - How do you fix 'n_jobs'? \n",
    "</font>"
   ]
  },
  {
   "cell_type": "code",
   "execution_count": 65,
   "metadata": {
    "ExecuteTime": {
     "end_time": "2019-12-15T15:58:21.271828Z",
     "start_time": "2019-12-15T15:52:42.927813Z"
    },
    "colab": {},
    "colab_type": "code",
    "id": "1CtFMlwKYcYX"
   },
   "outputs": [
    {
     "name": "stderr",
     "output_type": "stream",
     "text": [
      "[Parallel(n_jobs=-1)]: Using backend ThreadingBackend with 4 concurrent workers.\n",
      "[Parallel(n_jobs=-1)]: Done  42 tasks      | elapsed:   58.7s\n",
      "[Parallel(n_jobs=-1)]: Done 192 tasks      | elapsed:  4.3min\n",
      "[Parallel(n_jobs=-1)]: Done 256 out of 256 | elapsed:  5.6min finished\n"
     ]
    },
    {
     "data": {
      "text/plain": [
       "RandomForestClassifier(bootstrap=True, class_weight=None, criterion='gini',\n",
       "                       max_depth=None, max_features='auto', max_leaf_nodes=None,\n",
       "                       min_impurity_decrease=0.0, min_impurity_split=None,\n",
       "                       min_samples_leaf=20, min_samples_split=2,\n",
       "                       min_weight_fraction_leaf=0.0, n_estimators=256,\n",
       "                       n_jobs=-1, oob_score=False, random_state=None, verbose=1,\n",
       "                       warm_start=False)"
      ]
     },
     "execution_count": 65,
     "metadata": {},
     "output_type": "execute_result"
    }
   ],
   "source": [
    "from sklearn.ensemble import RandomForestClassifier # Fill here\n",
    "rf = RandomForestClassifier(n_estimators=256,min_samples_leaf=20,verbose=1,n_jobs=-1)\n",
    "rf.fit(Xtrain_ha, ytrain )"
   ]
  },
  {
   "cell_type": "code",
   "execution_count": 66,
   "metadata": {
    "ExecuteTime": {
     "end_time": "2019-12-15T15:58:24.558992Z",
     "start_time": "2019-12-15T15:58:21.275731Z"
    },
    "colab": {},
    "colab_type": "code",
    "id": "h170ZelZYcYa"
   },
   "outputs": [
    {
     "name": "stderr",
     "output_type": "stream",
     "text": [
      "[Parallel(n_jobs=4)]: Using backend ThreadingBackend with 4 concurrent workers.\n",
      "[Parallel(n_jobs=4)]: Done  42 tasks      | elapsed:    0.5s\n",
      "[Parallel(n_jobs=4)]: Done 192 tasks      | elapsed:    2.2s\n",
      "[Parallel(n_jobs=4)]: Done 256 out of 256 | elapsed:    3.0s finished\n"
     ]
    },
    {
     "data": {
      "text/plain": [
       "(0.401108210463943, 0.740587901090798)"
      ]
     },
     "execution_count": 66,
     "metadata": {},
     "output_type": "execute_result"
    }
   ],
   "source": [
    "soft = rf.predict_proba(Xtest_ha)\n",
    "log_loss(ytest, soft[:,1]), roc_auc_score(ytest, soft[:,1])"
   ]
  },
  {
   "cell_type": "markdown",
   "metadata": {
    "colab_type": "text",
    "id": "3V1PmiFGYcYb"
   },
   "source": [
    "<font color=\"red\">**Question:**\n",
    "   Compare with xgboost performance on the same hashed dataset, with n_estimators=256, n_jobs=-1, learning_rate=1.0. (If you have enough time try n_estimators=1024, n_jobs=-1, learning_rate=0.5, it will perform better than a Random Forest of 1024 trees).\n",
    "</font>"
   ]
  },
  {
   "cell_type": "code",
   "execution_count": 67,
   "metadata": {
    "ExecuteTime": {
     "end_time": "2019-12-15T16:01:10.133658Z",
     "start_time": "2019-12-15T15:58:24.561920Z"
    },
    "colab": {},
    "colab_type": "code",
    "id": "efxpo945YcYc"
   },
   "outputs": [
    {
     "name": "stdout",
     "output_type": "stream",
     "text": [
      "Wall time: 2min 44s\n",
      "nan 0.7360900501720615\n"
     ]
    },
    {
     "name": "stderr",
     "output_type": "stream",
     "text": [
      "C:\\Users\\julien.LAPTOP-V4T667QN\\Anaconda3\\lib\\site-packages\\sklearn\\metrics\\classification.py:2174: RuntimeWarning: divide by zero encountered in log\n",
      "  loss = -(transformed_labels * np.log(y_pred)).sum(axis=1)\n",
      "C:\\Users\\julien.LAPTOP-V4T667QN\\Anaconda3\\lib\\site-packages\\sklearn\\metrics\\classification.py:2174: RuntimeWarning: invalid value encountered in multiply\n",
      "  loss = -(transformed_labels * np.log(y_pred)).sum(axis=1)\n"
     ]
    }
   ],
   "source": [
    "xgb = XGBClassifier(n_estimators=256, learning_rate=1, n_jobs=-1)\n",
    "%time xgb.fit(Xtrain_ha, ytrain)\n",
    "soft = xgb.predict_proba(Xtest_ha)\n",
    "log_loss(ytest, soft[:,1]), roc_auc_score(ytest, soft[:,1])"
   ]
  },
  {
   "cell_type": "markdown",
   "metadata": {
    "colab_type": "text",
    "id": "sQEvD6v9YcYf"
   },
   "source": [
    "<font color=\"red\">**Question:**\n",
    "    Plot the ROC and the lift curves for the obtained classifier (xgboost on hashed data). What is the lift of the first fifth of the population identified by the test?\n",
    "</font>"
   ]
  },
  {
   "cell_type": "code",
   "execution_count": 68,
   "metadata": {
    "ExecuteTime": {
     "end_time": "2019-12-15T16:01:10.828762Z",
     "start_time": "2019-12-15T16:01:10.136584Z"
    },
    "colab": {},
    "colab_type": "code",
    "id": "BTaxpNu8YcYg"
   },
   "outputs": [
    {
     "data": {
      "image/png": "[encoded data removed]",
      "text/plain": [
       "<Figure size 432x288 with 1 Axes>"
      ]
     },
     "metadata": {
      "needs_background": "light"
     },
     "output_type": "display_data"
    }
   ],
   "source": [
    "false_pos_rate, true_pos_rate, _ = roc_curve(ytest, soft[:,1])\n",
    "plt.plot(false_pos_rate, true_pos_rate)\n",
    "\n",
    "plt.grid()\n",
    "plt.plot([0, 1], [0, 1], 'r--')\n",
    "plt.xlabel('False Positive Rate', fontsize=16)\n",
    "plt.ylabel('True Positive Rate', fontsize=16)\n",
    "plt.title('ROC curve', fontsize=20)\n",
    "plt.show()"
   ]
  },
  {
   "cell_type": "code",
   "execution_count": 69,
   "metadata": {
    "ExecuteTime": {
     "end_time": "2019-12-15T16:01:11.455381Z",
     "start_time": "2019-12-15T16:01:10.857580Z"
    },
    "colab": {},
    "colab_type": "code",
    "id": "t5X212VxYcYf"
   },
   "outputs": [
    {
     "data": {
      "image/png": "[encoded data removed]",
      "text/plain": [
       "<Figure size 432x288 with 1 Axes>"
      ]
     },
     "metadata": {
      "needs_background": "light"
     },
     "output_type": "display_data"
    }
   ],
   "source": [
    "plotlift(ytest, soft[:,1] )\n",
    "# The following line just plots a vertical line for you to answer the second part of the question\n",
    "plt.axvline(x= 0.2 , linestyle='--', color='r') # Fill here\n",
    "plt.text\n",
    "plt.xlabel('Proportion of the dataset', fontsize=16)\n",
    "plt.ylabel('Lift', fontsize=16)\n",
    "plt.title('Lift curve', fontsize=20)\n",
    "plt.show()"
   ]
  },
  {
   "cell_type": "markdown",
   "metadata": {
    "colab_type": "text",
    "id": "drSyzM_M8YJk"
   },
   "source": [
    "<font color=\"blue\"> The lift for the 1st fifth of the population is around 2.1. </font>"
   ]
  },
  {
   "cell_type": "markdown",
   "metadata": {
    "colab_type": "text",
    "id": "bs1_k3-hYcYj"
   },
   "source": [
    "Hashing produces columns of integers arbitrarily ordered. One can wonder if adding more columns hashed in a different fashion would lead to better performance. \n",
    "\n",
    "<font color=\"red\">**Question:**\n",
    "    Add hashed columns by recursively hashing the previous ones: complete the following code. \n",
    "</font>"
   ]
  },
  {
   "cell_type": "code",
   "execution_count": 70,
   "metadata": {
    "ExecuteTime": {
     "end_time": "2019-12-15T16:02:39.249820Z",
     "start_time": "2019-12-15T16:01:11.465667Z"
    },
    "colab": {},
    "colab_type": "code",
    "id": "q2X9YoNvYcYj"
   },
   "outputs": [],
   "source": [
    "Xtrain_haha = pd.DataFrame(Xtrain_ha).copy()\n",
    "Xtest_haha  = pd.DataFrame(Xtest_ha).copy()\n",
    "\n",
    "n_hash = 3\n",
    "cols   = Xtrain_ha.columns\n",
    "for l in range(n_hash):\n",
    "    for col in cols:\n",
    "        Xtrain_haha[col + '-hash'] = Xtrain_haha[col].apply(lambda x : hash(str(x)) % 1000000)\n",
    "        Xtest_haha[col + '-hash']  = Xtest_haha[col].apply(lambda x : hash(str(x)) % 1000000)\n",
    "    cols = [col + '-hash' for col in cols]"
   ]
  },
  {
   "cell_type": "markdown",
   "metadata": {
    "colab_type": "text",
    "id": "OgdtITAfYcYq"
   },
   "source": [
    "<font color=\"red\">**Question:**\n",
    "    Evaluate the performance of a random forest and/or an xgboost clasifier (chose 256 estimators first and learning rate of 1.0 for xgboost) on these enlarged dataset. Is the performance better than when hasing features once?\n",
    "</font>"
   ]
  },
  {
   "cell_type": "code",
   "execution_count": 71,
   "metadata": {
    "ExecuteTime": {
     "end_time": "2019-12-15T16:12:15.822264Z",
     "start_time": "2019-12-15T16:02:39.257630Z"
    },
    "colab": {},
    "colab_type": "code",
    "id": "DOk1idKAYcYr"
   },
   "outputs": [
    {
     "name": "stderr",
     "output_type": "stream",
     "text": [
      "[Parallel(n_jobs=-1)]: Using backend ThreadingBackend with 4 concurrent workers.\n",
      "[Parallel(n_jobs=-1)]: Done  42 tasks      | elapsed:  1.7min\n",
      "[Parallel(n_jobs=-1)]: Done 192 tasks      | elapsed:  7.1min\n",
      "[Parallel(n_jobs=-1)]: Done 256 out of 256 | elapsed:  9.5min finished\n",
      "[Parallel(n_jobs=4)]: Using backend ThreadingBackend with 4 concurrent workers.\n",
      "[Parallel(n_jobs=4)]: Done  42 tasks      | elapsed:    0.6s\n",
      "[Parallel(n_jobs=4)]: Done 192 tasks      | elapsed:    2.9s\n",
      "[Parallel(n_jobs=4)]: Done 256 out of 256 | elapsed:    4.1s finished\n"
     ]
    },
    {
     "data": {
      "text/plain": [
       "(0.3987364115507108, 0.7446770007531023)"
      ]
     },
     "execution_count": 71,
     "metadata": {},
     "output_type": "execute_result"
    }
   ],
   "source": [
    "rf = RandomForestClassifier(n_estimators=256,min_samples_leaf=20,verbose=1,n_jobs=-1)\n",
    "rf.fit(Xtrain_haha, ytrain)\n",
    "soft = rf.predict_proba(Xtest_haha)\n",
    "log_loss(ytest, soft[:,1]), roc_auc_score(ytest, soft[:,1])"
   ]
  },
  {
   "cell_type": "code",
   "execution_count": 72,
   "metadata": {
    "ExecuteTime": {
     "end_time": "2019-12-15T16:20:04.591798Z",
     "start_time": "2019-12-15T16:12:15.826168Z"
    },
    "colab": {},
    "colab_type": "code",
    "id": "QW3nb8YKYcYt"
   },
   "outputs": [
    {
     "name": "stdout",
     "output_type": "stream",
     "text": [
      "Wall time: 7min 47s\n",
      "0.40049972233188286 0.74150736517038\n"
     ]
    }
   ],
   "source": [
    "xgb = XGBClassifier(n_estimators=256, learning_rate=1, n_jobs=-1)\n",
    "%time xgb.fit(Xtrain_haha, ytrain)\n",
    "soft = xgb.predict_proba(Xtest_haha)\n",
    "print(log_loss(ytest, soft[:,1]), roc_auc_score(ytest, soft[:,1]))"
   ]
  },
  {
   "cell_type": "markdown",
   "metadata": {
    "colab_type": "text",
    "id": "xusvruj8NWTp"
   },
   "source": [
    "<font color=\"blue\"> It seems that for RandomForest log_loss is a bit smaller and roc_auc_score quasi-equivalent . And for XGBoost no significative changes appear . </font>"
   ]
  },
  {
   "cell_type": "markdown",
   "metadata": {
    "colab_type": "text",
    "id": "7CxxdsyAYcYu"
   },
   "source": [
    "Good job! :-) "
   ]
  },
  {
   "cell_type": "markdown",
   "metadata": {
    "colab_type": "text",
    "id": "3NTILkwg8fFQ"
   },
   "source": [
    "<font color=\"red\">**Bonus Question:**\n",
    "    If you have enough time (about 2 hours ...), try to fit both random forest and xgboost models with 1024 estimators (and a learning rate of 0.5 for xgboost) on these enlarged datasets.\n",
    "    <br> - Which one performs better?\n",
    "    <br> - Can you see the improvement due to the addition of more hashed features?\n",
    "</font>"
   ]
  },
  {
   "cell_type": "code",
   "execution_count": 73,
   "metadata": {
    "ExecuteTime": {
     "end_time": "2019-12-15T16:20:04.598631Z",
     "start_time": "2019-12-15T16:20:04.594727Z"
    },
    "colab": {},
    "colab_type": "code",
    "id": "MO88fPXO8-9E"
   },
   "outputs": [],
   "source": [
    "# Fill here"
   ]
  },
  {
   "cell_type": "markdown",
   "metadata": {
    "colab_type": "text",
    "collapsed": true,
    "id": "gmT_UJvZIIWT"
   },
   "source": [
    "# Field-aware Factorization Machines\n",
    "<br>\n",
    "<font color=\"red\">\n",
    "Display the names of the columns of the matrix Xtrain_ha\n",
    "</font>"
   ]
  },
  {
   "cell_type": "code",
   "execution_count": 74,
   "metadata": {
    "ExecuteTime": {
     "end_time": "2019-12-15T16:20:04.708449Z",
     "start_time": "2019-12-15T16:20:04.601559Z"
    },
    "colab": {},
    "colab_type": "code",
    "id": "gLVRw6AtIIWU"
   },
   "outputs": [
    {
     "data": {
      "text/plain": [
       "Index(['hour', 'C1', 'banner_pos', 'site_category', 'app_id', 'app_domain',\n",
       "       'app_category', 'device_type', 'device_conn_type', 'C14', 'C15', 'C16',\n",
       "       'C17', 'C18', 'C19', 'C20', 'C21', 'weekday', 'user', 'site'],\n",
       "      dtype='object')"
      ]
     },
     "execution_count": 74,
     "metadata": {},
     "output_type": "execute_result"
    }
   ],
   "source": [
    "Xtrain_ha.columns"
   ]
  },
  {
   "cell_type": "markdown",
   "metadata": {
    "colab_type": "text",
    "id": "jePx6DkuIIWU"
   },
   "source": [
    "<font color=\"red\">\n",
    "Create a list of lists of the columns. The n-th sub-list is composed of the names of the columns of the n-th field.</font>"
   ]
  },
  {
   "cell_type": "code",
   "execution_count": 93,
   "metadata": {
    "ExecuteTime": {
     "end_time": "2019-12-19T16:58:10.517783Z",
     "start_time": "2019-12-19T16:58:10.506286Z"
    },
    "colab": {},
    "colab_type": "code",
    "id": "Xw5rYhwJIIWV"
   },
   "outputs": [],
   "source": [
    "fields = []\n",
    "fields.append( ['hour','weekday'] )\n",
    "fields.append( ['app_id','app_domain','app_category'] )\n",
    "fields.append( ['device_type', 'device_conn_type'] )\n",
    "fields.append( ['site_category', 'site'] )\n",
    "fields.append( ['C1','C14','C15','C16','C17','C18','C19','C20','C21'] )\n",
    "fields.append( ['banner_pos'] )\n",
    "fields.append( ['user'] )"
   ]
  },
  {
   "cell_type": "markdown",
   "metadata": {
    "colab_type": "text",
    "id": "ZUu2FXaSIIWW"
   },
   "source": [
    "<font color=\"red\">\n",
    "With the enumerate function, let generate a dictionary which associates each column name with its field.\n"
   ]
  },
  {
   "cell_type": "code",
   "execution_count": 94,
   "metadata": {
    "ExecuteTime": {
     "end_time": "2019-12-19T16:58:14.830143Z",
     "start_time": "2019-12-19T16:58:14.813188Z"
    },
    "colab": {},
    "colab_type": "code",
    "id": "tWzYMksxIIWX"
   },
   "outputs": [
    {
     "data": {
      "text/plain": [
       "{'hour': 0,\n",
       " 'weekday': 0,\n",
       " 'app_id': 1,\n",
       " 'app_domain': 1,\n",
       " 'app_category': 1,\n",
       " 'device_type': 2,\n",
       " 'device_conn_type': 2,\n",
       " 'site_category': 3,\n",
       " 'site': 3,\n",
       " 'C1': 4,\n",
       " 'C14': 4,\n",
       " 'C15': 4,\n",
       " 'C16': 4,\n",
       " 'C17': 4,\n",
       " 'C18': 4,\n",
       " 'C19': 4,\n",
       " 'C20': 4,\n",
       " 'C21': 4,\n",
       " 'banner_pos': 5,\n",
       " 'user': 6}"
      ]
     },
     "execution_count": 94,
     "metadata": {},
     "output_type": "execute_result"
    }
   ],
   "source": [
    "dicFields = {name_col: i for i,f in enumerate(fields) for name_col in f}\n",
    "dicFields"
   ]
  },
  {
   "cell_type": "markdown",
   "metadata": {
    "colab_type": "text",
    "id": "o2Scxx_CIIWZ"
   },
   "source": [
    "We need to make sure that two different columns have different modalities. For this, we add in front of each modality a characteristic string of the column.\n",
    "\n",
    "<font color=\"red\">Perform this transformation with the apply method</font>\n"
   ]
  },
  {
   "cell_type": "code",
   "execution_count": 77,
   "metadata": {
    "ExecuteTime": {
     "end_time": "2019-12-15T16:20:18.770861Z",
     "start_time": "2019-12-15T16:20:05.076561Z"
    },
    "colab": {},
    "colab_type": "code",
    "id": "Y253v6YBIIWa"
   },
   "outputs": [
    {
     "data": {
      "text/html": [
       "<div>\n",
       "<style scoped>\n",
       "    .dataframe tbody tr th:only-of-type {\n",
       "        vertical-align: middle;\n",
       "    }\n",
       "\n",
       "    .dataframe tbody tr th {\n",
       "        vertical-align: top;\n",
       "    }\n",
       "\n",
       "    .dataframe thead th {\n",
       "        text-align: right;\n",
       "    }\n",
       "</style>\n",
       "<table border=\"1\" class=\"dataframe\">\n",
       "  <thead>\n",
       "    <tr style=\"text-align: right;\">\n",
       "      <th></th>\n",
       "      <th>hour</th>\n",
       "      <th>C1</th>\n",
       "      <th>banner_pos</th>\n",
       "      <th>site_category</th>\n",
       "      <th>app_id</th>\n",
       "      <th>app_domain</th>\n",
       "      <th>app_category</th>\n",
       "      <th>device_type</th>\n",
       "      <th>device_conn_type</th>\n",
       "      <th>C14</th>\n",
       "      <th>C15</th>\n",
       "      <th>C16</th>\n",
       "      <th>C17</th>\n",
       "      <th>C18</th>\n",
       "      <th>C19</th>\n",
       "      <th>C20</th>\n",
       "      <th>C21</th>\n",
       "      <th>weekday</th>\n",
       "      <th>user</th>\n",
       "      <th>site</th>\n",
       "    </tr>\n",
       "  </thead>\n",
       "  <tbody>\n",
       "    <tr>\n",
       "      <td>92438</td>\n",
       "      <td>hour_495490</td>\n",
       "      <td>C1_886536</td>\n",
       "      <td>banner_pos_425377</td>\n",
       "      <td>site_category_296665</td>\n",
       "      <td>app_id_659262</td>\n",
       "      <td>app_domain_724821</td>\n",
       "      <td>app_category_703468</td>\n",
       "      <td>device_type_55443</td>\n",
       "      <td>device_conn_type_153260</td>\n",
       "      <td>C14_695606</td>\n",
       "      <td>C15_480142</td>\n",
       "      <td>C16_433485</td>\n",
       "      <td>C17_381219</td>\n",
       "      <td>C18_422796</td>\n",
       "      <td>C19_361883</td>\n",
       "      <td>C20_898198</td>\n",
       "      <td>C21_531487</td>\n",
       "      <td>weekday_422796</td>\n",
       "      <td>user_530172</td>\n",
       "      <td>site_54646</td>\n",
       "    </tr>\n",
       "    <tr>\n",
       "      <td>60898</td>\n",
       "      <td>hour_991348</td>\n",
       "      <td>C1_905481</td>\n",
       "      <td>banner_pos_422796</td>\n",
       "      <td>site_category_296665</td>\n",
       "      <td>app_id_768851</td>\n",
       "      <td>app_domain_483115</td>\n",
       "      <td>app_category_473321</td>\n",
       "      <td>device_type_425377</td>\n",
       "      <td>device_conn_type_380713</td>\n",
       "      <td>C14_695606</td>\n",
       "      <td>C15_480142</td>\n",
       "      <td>C16_433485</td>\n",
       "      <td>C17_381219</td>\n",
       "      <td>C18_422796</td>\n",
       "      <td>C19_361883</td>\n",
       "      <td>C20_898198</td>\n",
       "      <td>C21_531487</td>\n",
       "      <td>weekday_425377</td>\n",
       "      <td>user_530172</td>\n",
       "      <td>site_54646</td>\n",
       "    </tr>\n",
       "    <tr>\n",
       "      <td>556199</td>\n",
       "      <td>hour_55443</td>\n",
       "      <td>C1_905481</td>\n",
       "      <td>banner_pos_422796</td>\n",
       "      <td>site_category_682631</td>\n",
       "      <td>app_id_355081</td>\n",
       "      <td>app_domain_724821</td>\n",
       "      <td>app_category_307517</td>\n",
       "      <td>device_type_425377</td>\n",
       "      <td>device_conn_type_380713</td>\n",
       "      <td>C14_566593</td>\n",
       "      <td>C15_480142</td>\n",
       "      <td>C16_433485</td>\n",
       "      <td>C17_306476</td>\n",
       "      <td>C18_422796</td>\n",
       "      <td>C19_783471</td>\n",
       "      <td>C20_898198</td>\n",
       "      <td>C21_212749</td>\n",
       "      <td>weekday_422796</td>\n",
       "      <td>user_530172</td>\n",
       "      <td>site_478932</td>\n",
       "    </tr>\n",
       "    <tr>\n",
       "      <td>193129</td>\n",
       "      <td>hour_996369</td>\n",
       "      <td>C1_905481</td>\n",
       "      <td>banner_pos_425377</td>\n",
       "      <td>site_category_682631</td>\n",
       "      <td>app_id_355081</td>\n",
       "      <td>app_domain_724821</td>\n",
       "      <td>app_category_307517</td>\n",
       "      <td>device_type_425377</td>\n",
       "      <td>device_conn_type_422796</td>\n",
       "      <td>C14_112886</td>\n",
       "      <td>C15_480142</td>\n",
       "      <td>C16_433485</td>\n",
       "      <td>C17_432915</td>\n",
       "      <td>C18_422796</td>\n",
       "      <td>C19_684406</td>\n",
       "      <td>C20_640640</td>\n",
       "      <td>C21_168806</td>\n",
       "      <td>weekday_425377</td>\n",
       "      <td>user_530172</td>\n",
       "      <td>site_314831</td>\n",
       "    </tr>\n",
       "    <tr>\n",
       "      <td>231985</td>\n",
       "      <td>hour_764835</td>\n",
       "      <td>C1_905481</td>\n",
       "      <td>banner_pos_422796</td>\n",
       "      <td>site_category_494541</td>\n",
       "      <td>app_id_355081</td>\n",
       "      <td>app_domain_724821</td>\n",
       "      <td>app_category_307517</td>\n",
       "      <td>device_type_425377</td>\n",
       "      <td>device_conn_type_422796</td>\n",
       "      <td>C14_162812</td>\n",
       "      <td>C15_480142</td>\n",
       "      <td>C16_433485</td>\n",
       "      <td>C17_381219</td>\n",
       "      <td>C18_422796</td>\n",
       "      <td>C19_361883</td>\n",
       "      <td>C20_871298</td>\n",
       "      <td>C21_531487</td>\n",
       "      <td>weekday_727383</td>\n",
       "      <td>user_530172</td>\n",
       "      <td>site_679108</td>\n",
       "    </tr>\n",
       "  </tbody>\n",
       "</table>\n",
       "</div>"
      ],
      "text/plain": [
       "               hour         C1         banner_pos         site_category  \\\n",
       "92438   hour_495490  C1_886536  banner_pos_425377  site_category_296665   \n",
       "60898   hour_991348  C1_905481  banner_pos_422796  site_category_296665   \n",
       "556199   hour_55443  C1_905481  banner_pos_422796  site_category_682631   \n",
       "193129  hour_996369  C1_905481  banner_pos_425377  site_category_682631   \n",
       "231985  hour_764835  C1_905481  banner_pos_422796  site_category_494541   \n",
       "\n",
       "               app_id         app_domain         app_category  \\\n",
       "92438   app_id_659262  app_domain_724821  app_category_703468   \n",
       "60898   app_id_768851  app_domain_483115  app_category_473321   \n",
       "556199  app_id_355081  app_domain_724821  app_category_307517   \n",
       "193129  app_id_355081  app_domain_724821  app_category_307517   \n",
       "231985  app_id_355081  app_domain_724821  app_category_307517   \n",
       "\n",
       "               device_type         device_conn_type         C14         C15  \\\n",
       "92438    device_type_55443  device_conn_type_153260  C14_695606  C15_480142   \n",
       "60898   device_type_425377  device_conn_type_380713  C14_695606  C15_480142   \n",
       "556199  device_type_425377  device_conn_type_380713  C14_566593  C15_480142   \n",
       "193129  device_type_425377  device_conn_type_422796  C14_112886  C15_480142   \n",
       "231985  device_type_425377  device_conn_type_422796  C14_162812  C15_480142   \n",
       "\n",
       "               C16         C17         C18         C19         C20  \\\n",
       "92438   C16_433485  C17_381219  C18_422796  C19_361883  C20_898198   \n",
       "60898   C16_433485  C17_381219  C18_422796  C19_361883  C20_898198   \n",
       "556199  C16_433485  C17_306476  C18_422796  C19_783471  C20_898198   \n",
       "193129  C16_433485  C17_432915  C18_422796  C19_684406  C20_640640   \n",
       "231985  C16_433485  C17_381219  C18_422796  C19_361883  C20_871298   \n",
       "\n",
       "               C21         weekday         user         site  \n",
       "92438   C21_531487  weekday_422796  user_530172   site_54646  \n",
       "60898   C21_531487  weekday_425377  user_530172   site_54646  \n",
       "556199  C21_212749  weekday_422796  user_530172  site_478932  \n",
       "193129  C21_168806  weekday_425377  user_530172  site_314831  \n",
       "231985  C21_531487  weekday_727383  user_530172  site_679108  "
      ]
     },
     "execution_count": 77,
     "metadata": {},
     "output_type": "execute_result"
    }
   ],
   "source": [
    "Xtrain_ffm = pd.DataFrame()\n",
    "Xtest_ffm  = pd.DataFrame()\n",
    "for col in Xtrain_ha.columns:\n",
    "    Xtrain_ffm[col] = Xtrain_ha[col].apply( lambda x : str(col) + '_' + str(x)) #int(str(hash(str(col)) % 1000000) + str(x)))\n",
    "    Xtest_ffm[col]  = Xtest_ha[col].apply( lambda x : str(col) + '_' + str(x))\n",
    "Xtrain_ffm.head()"
   ]
  },
  {
   "cell_type": "markdown",
   "metadata": {
    "colab_type": "text",
    "id": "yrhsnGjIIIWb"
   },
   "source": [
    "With np.unique, we create the list of all the modalities appearing in all the columns."
   ]
  },
  {
   "cell_type": "code",
   "execution_count": 78,
   "metadata": {
    "ExecuteTime": {
     "end_time": "2019-12-15T16:20:39.782363Z",
     "start_time": "2019-12-15T16:20:18.773755Z"
    },
    "colab": {},
    "colab_type": "code",
    "id": "7fcTcK4rIIWb"
   },
   "outputs": [],
   "source": [
    "allvals = []\n",
    "allcols_ffm = [col for f in fields for col in f]  # Toutes les colonnes appartenant à l'un des champ\n",
    "for col in allcols_ffm:\n",
    "    allvals.append(np.unique(Xtrain_ffm[col]))\n",
    "allvals = [val for sublist in allvals for val in sublist]"
   ]
  },
  {
   "cell_type": "markdown",
   "metadata": {
    "colab_type": "text",
    "id": "OBLCa95zIIWc"
   },
   "source": [
    "<font color=\"red\">\n",
    "Using enumerate method, create a dictionary that at each value associates its rank in the allvals list.</font>"
   ]
  },
  {
   "cell_type": "code",
   "execution_count": 79,
   "metadata": {
    "ExecuteTime": {
     "end_time": "2019-12-15T16:20:39.815486Z",
     "start_time": "2019-12-15T16:20:39.784254Z"
    },
    "colab": {},
    "colab_type": "code",
    "id": "TlcO1vu0IIWc"
   },
   "outputs": [
    {
     "data": {
      "text/plain": [
       "{'hour_151332': 0,\n",
       " 'hour_153260': 1,\n",
       " 'hour_283377': 2,\n",
       " 'hour_289785': 3,\n",
       " 'hour_292274': 4,\n",
       " 'hour_380713': 5,\n",
       " 'hour_387270': 6,\n",
       " 'hour_392013': 7,\n",
       " 'hour_422796': 8,\n",
       " 'hour_423691': 9,\n",
       " 'hour_425308': 10,\n",
       " 'hour_425377': 11,\n",
       " 'hour_495490': 12,\n",
       " 'hour_55443': 13,\n",
       " 'hour_727383': 14,\n",
       " 'hour_764835': 15,\n",
       " 'hour_771754': 16,\n",
       " 'hour_80302': 17,\n",
       " 'hour_8276': 18,\n",
       " 'hour_940972': 19,\n",
       " 'hour_987446': 20,\n",
       " 'hour_991348': 21,\n",
       " 'hour_994737': 22,\n",
       " 'hour_996369': 23,\n",
       " 'weekday_153260': 24,\n",
       " 'weekday_380713': 25,\n",
       " 'weekday_422796': 26,\n",
       " 'weekday_423691': 27,\n",
       " 'weekday_425377': 28,\n",
       " 'weekday_55443': 29,\n",
       " 'weekday_727383': 30,\n",
       " 'app_id_102710': 31,\n",
       " 'app_id_104415': 32,\n",
       " 'app_id_105413': 33,\n",
       " 'app_id_106939': 34,\n",
       " 'app_id_107647': 35,\n",
       " 'app_id_108404': 36,\n",
       " 'app_id_108553': 37,\n",
       " 'app_id_109600': 38,\n",
       " 'app_id_110990': 39,\n",
       " 'app_id_113711': 40,\n",
       " 'app_id_115174': 41,\n",
       " 'app_id_122499': 42,\n",
       " 'app_id_122599': 43,\n",
       " 'app_id_123388': 44,\n",
       " 'app_id_123966': 45,\n",
       " 'app_id_124312': 46,\n",
       " 'app_id_12639': 47,\n",
       " 'app_id_127399': 48,\n",
       " 'app_id_128110': 49,\n",
       " 'app_id_128750': 50,\n",
       " 'app_id_129408': 51,\n",
       " 'app_id_130393': 52,\n",
       " 'app_id_131187': 53,\n",
       " 'app_id_131426': 54,\n",
       " 'app_id_13178': 55,\n",
       " 'app_id_134952': 56,\n",
       " 'app_id_137721': 57,\n",
       " 'app_id_139800': 58,\n",
       " 'app_id_143062': 59,\n",
       " 'app_id_143482': 60,\n",
       " 'app_id_144542': 61,\n",
       " 'app_id_145509': 62,\n",
       " 'app_id_149508': 63,\n",
       " 'app_id_152402': 64,\n",
       " 'app_id_154112': 65,\n",
       " 'app_id_154766': 66,\n",
       " 'app_id_155321': 67,\n",
       " 'app_id_155528': 68,\n",
       " 'app_id_158571': 69,\n",
       " 'app_id_158993': 70,\n",
       " 'app_id_159416': 71,\n",
       " 'app_id_160459': 72,\n",
       " 'app_id_161674': 73,\n",
       " 'app_id_162388': 74,\n",
       " 'app_id_163970': 75,\n",
       " 'app_id_164598': 76,\n",
       " 'app_id_166208': 77,\n",
       " 'app_id_167048': 78,\n",
       " 'app_id_169061': 79,\n",
       " 'app_id_17021': 80,\n",
       " 'app_id_17022': 81,\n",
       " 'app_id_171175': 82,\n",
       " 'app_id_171581': 83,\n",
       " 'app_id_172074': 84,\n",
       " 'app_id_172223': 85,\n",
       " 'app_id_174047': 86,\n",
       " 'app_id_174590': 87,\n",
       " 'app_id_178945': 88,\n",
       " 'app_id_179603': 89,\n",
       " 'app_id_180852': 90,\n",
       " 'app_id_181422': 91,\n",
       " 'app_id_183808': 92,\n",
       " 'app_id_18605': 93,\n",
       " 'app_id_186800': 94,\n",
       " 'app_id_187880': 95,\n",
       " 'app_id_188857': 96,\n",
       " 'app_id_189147': 97,\n",
       " 'app_id_191086': 98,\n",
       " 'app_id_193624': 99,\n",
       " 'app_id_196292': 100,\n",
       " 'app_id_197528': 101,\n",
       " 'app_id_199818': 102,\n",
       " 'app_id_200249': 103,\n",
       " 'app_id_201964': 104,\n",
       " 'app_id_202653': 105,\n",
       " 'app_id_205697': 106,\n",
       " 'app_id_206217': 107,\n",
       " 'app_id_208472': 108,\n",
       " 'app_id_20907': 109,\n",
       " 'app_id_210826': 110,\n",
       " 'app_id_211775': 111,\n",
       " 'app_id_211951': 112,\n",
       " 'app_id_212147': 113,\n",
       " 'app_id_212915': 114,\n",
       " 'app_id_213008': 115,\n",
       " 'app_id_215507': 116,\n",
       " 'app_id_216180': 117,\n",
       " 'app_id_218360': 118,\n",
       " 'app_id_219833': 119,\n",
       " 'app_id_220776': 120,\n",
       " 'app_id_224822': 121,\n",
       " 'app_id_224846': 122,\n",
       " 'app_id_225704': 123,\n",
       " 'app_id_225895': 124,\n",
       " 'app_id_227073': 125,\n",
       " 'app_id_229816': 126,\n",
       " 'app_id_229998': 127,\n",
       " 'app_id_230217': 128,\n",
       " 'app_id_232570': 129,\n",
       " 'app_id_232975': 130,\n",
       " 'app_id_23704': 131,\n",
       " 'app_id_238243': 132,\n",
       " 'app_id_244705': 133,\n",
       " 'app_id_246710': 134,\n",
       " 'app_id_248758': 135,\n",
       " 'app_id_258494': 136,\n",
       " 'app_id_260568': 137,\n",
       " 'app_id_261561': 138,\n",
       " 'app_id_26215': 139,\n",
       " 'app_id_263919': 140,\n",
       " 'app_id_264643': 141,\n",
       " 'app_id_265433': 142,\n",
       " 'app_id_265829': 143,\n",
       " 'app_id_26877': 144,\n",
       " 'app_id_268776': 145,\n",
       " 'app_id_270213': 146,\n",
       " 'app_id_272457': 147,\n",
       " 'app_id_272680': 148,\n",
       " 'app_id_273114': 149,\n",
       " 'app_id_276024': 150,\n",
       " 'app_id_276312': 151,\n",
       " 'app_id_277598': 152,\n",
       " 'app_id_278199': 153,\n",
       " 'app_id_278901': 154,\n",
       " 'app_id_281259': 155,\n",
       " 'app_id_281279': 156,\n",
       " 'app_id_281771': 157,\n",
       " 'app_id_283432': 158,\n",
       " 'app_id_28413': 159,\n",
       " 'app_id_284162': 160,\n",
       " 'app_id_286983': 161,\n",
       " 'app_id_288862': 162,\n",
       " 'app_id_288937': 163,\n",
       " 'app_id_290686': 164,\n",
       " 'app_id_292810': 165,\n",
       " 'app_id_293593': 166,\n",
       " 'app_id_295054': 167,\n",
       " 'app_id_297139': 168,\n",
       " 'app_id_298139': 169,\n",
       " 'app_id_298748': 170,\n",
       " 'app_id_299323': 171,\n",
       " 'app_id_300425': 172,\n",
       " 'app_id_301114': 173,\n",
       " 'app_id_303436': 174,\n",
       " 'app_id_304738': 175,\n",
       " 'app_id_305238': 176,\n",
       " 'app_id_306276': 177,\n",
       " 'app_id_308205': 178,\n",
       " 'app_id_308861': 179,\n",
       " 'app_id_309221': 180,\n",
       " 'app_id_309627': 181,\n",
       " 'app_id_310405': 182,\n",
       " 'app_id_313726': 183,\n",
       " 'app_id_314222': 184,\n",
       " 'app_id_314968': 185,\n",
       " 'app_id_320292': 186,\n",
       " 'app_id_320315': 187,\n",
       " 'app_id_323903': 188,\n",
       " 'app_id_326343': 189,\n",
       " 'app_id_328969': 190,\n",
       " 'app_id_329168': 191,\n",
       " 'app_id_329221': 192,\n",
       " 'app_id_329656': 193,\n",
       " 'app_id_330726': 194,\n",
       " 'app_id_332776': 195,\n",
       " 'app_id_335253': 196,\n",
       " 'app_id_335613': 197,\n",
       " 'app_id_337786': 198,\n",
       " 'app_id_338461': 199,\n",
       " 'app_id_339008': 200,\n",
       " 'app_id_339316': 201,\n",
       " 'app_id_340217': 202,\n",
       " 'app_id_344133': 203,\n",
       " 'app_id_344363': 204,\n",
       " 'app_id_345400': 205,\n",
       " 'app_id_346027': 206,\n",
       " 'app_id_347898': 207,\n",
       " 'app_id_351211': 208,\n",
       " 'app_id_35196': 209,\n",
       " 'app_id_35342': 210,\n",
       " 'app_id_353812': 211,\n",
       " 'app_id_355081': 212,\n",
       " 'app_id_362408': 213,\n",
       " 'app_id_363610': 214,\n",
       " 'app_id_366446': 215,\n",
       " 'app_id_3680': 216,\n",
       " 'app_id_368594': 217,\n",
       " 'app_id_369958': 218,\n",
       " 'app_id_370363': 219,\n",
       " 'app_id_37040': 220,\n",
       " 'app_id_372507': 221,\n",
       " 'app_id_372888': 222,\n",
       " 'app_id_375050': 223,\n",
       " 'app_id_378897': 224,\n",
       " 'app_id_378916': 225,\n",
       " 'app_id_37922': 226,\n",
       " 'app_id_379562': 227,\n",
       " 'app_id_383840': 228,\n",
       " 'app_id_383989': 229,\n",
       " 'app_id_384394': 230,\n",
       " 'app_id_386257': 231,\n",
       " 'app_id_386352': 232,\n",
       " 'app_id_387755': 233,\n",
       " 'app_id_38794': 234,\n",
       " 'app_id_391152': 235,\n",
       " 'app_id_393322': 236,\n",
       " 'app_id_396924': 237,\n",
       " 'app_id_397351': 238,\n",
       " 'app_id_398014': 239,\n",
       " 'app_id_398421': 240,\n",
       " 'app_id_399810': 241,\n",
       " 'app_id_40075': 242,\n",
       " 'app_id_4016': 243,\n",
       " 'app_id_403999': 244,\n",
       " 'app_id_405533': 245,\n",
       " 'app_id_40554': 246,\n",
       " 'app_id_410674': 247,\n",
       " 'app_id_412085': 248,\n",
       " 'app_id_413782': 249,\n",
       " 'app_id_414303': 250,\n",
       " 'app_id_414936': 251,\n",
       " 'app_id_419173': 252,\n",
       " 'app_id_420383': 253,\n",
       " 'app_id_420674': 254,\n",
       " 'app_id_421726': 255,\n",
       " 'app_id_422579': 256,\n",
       " 'app_id_424615': 257,\n",
       " 'app_id_426861': 258,\n",
       " 'app_id_427556': 259,\n",
       " 'app_id_427897': 260,\n",
       " 'app_id_429219': 261,\n",
       " 'app_id_429699': 262,\n",
       " 'app_id_434159': 263,\n",
       " 'app_id_434476': 264,\n",
       " 'app_id_434737': 265,\n",
       " 'app_id_43998': 266,\n",
       " 'app_id_440591': 267,\n",
       " 'app_id_440635': 268,\n",
       " 'app_id_444693': 269,\n",
       " 'app_id_445158': 270,\n",
       " 'app_id_44583': 271,\n",
       " 'app_id_446019': 272,\n",
       " 'app_id_447784': 273,\n",
       " 'app_id_44928': 274,\n",
       " 'app_id_450896': 275,\n",
       " 'app_id_451703': 276,\n",
       " 'app_id_452067': 277,\n",
       " 'app_id_453114': 278,\n",
       " 'app_id_45348': 279,\n",
       " 'app_id_454035': 280,\n",
       " 'app_id_454430': 281,\n",
       " 'app_id_455651': 282,\n",
       " 'app_id_456742': 283,\n",
       " 'app_id_457136': 284,\n",
       " 'app_id_457945': 285,\n",
       " 'app_id_460258': 286,\n",
       " 'app_id_460882': 287,\n",
       " 'app_id_461898': 288,\n",
       " 'app_id_462385': 289,\n",
       " 'app_id_467006': 290,\n",
       " 'app_id_470526': 291,\n",
       " 'app_id_473156': 292,\n",
       " 'app_id_473760': 293,\n",
       " 'app_id_475132': 294,\n",
       " 'app_id_47705': 295,\n",
       " 'app_id_47814': 296,\n",
       " 'app_id_478537': 297,\n",
       " 'app_id_480540': 298,\n",
       " 'app_id_481589': 299,\n",
       " 'app_id_484231': 300,\n",
       " 'app_id_484295': 301,\n",
       " 'app_id_485980': 302,\n",
       " 'app_id_487472': 303,\n",
       " 'app_id_48757': 304,\n",
       " 'app_id_489289': 305,\n",
       " 'app_id_491573': 306,\n",
       " 'app_id_491864': 307,\n",
       " 'app_id_49223': 308,\n",
       " 'app_id_492598': 309,\n",
       " 'app_id_493502': 310,\n",
       " 'app_id_495983': 311,\n",
       " 'app_id_497201': 312,\n",
       " 'app_id_497210': 313,\n",
       " 'app_id_500160': 314,\n",
       " 'app_id_500531': 315,\n",
       " 'app_id_501274': 316,\n",
       " 'app_id_503272': 317,\n",
       " 'app_id_505289': 318,\n",
       " 'app_id_505326': 319,\n",
       " 'app_id_506560': 320,\n",
       " 'app_id_508229': 321,\n",
       " 'app_id_509163': 322,\n",
       " 'app_id_512971': 323,\n",
       " 'app_id_513751': 324,\n",
       " 'app_id_514783': 325,\n",
       " 'app_id_521828': 326,\n",
       " 'app_id_524254': 327,\n",
       " 'app_id_525827': 328,\n",
       " 'app_id_52928': 329,\n",
       " 'app_id_530172': 330,\n",
       " 'app_id_530650': 331,\n",
       " 'app_id_534789': 332,\n",
       " 'app_id_535226': 333,\n",
       " 'app_id_538388': 334,\n",
       " 'app_id_541477': 335,\n",
       " 'app_id_541796': 336,\n",
       " 'app_id_541964': 337,\n",
       " 'app_id_542115': 338,\n",
       " 'app_id_542890': 339,\n",
       " 'app_id_544334': 340,\n",
       " 'app_id_546265': 341,\n",
       " 'app_id_546380': 342,\n",
       " 'app_id_551795': 343,\n",
       " 'app_id_552274': 344,\n",
       " 'app_id_55594': 345,\n",
       " 'app_id_557247': 346,\n",
       " 'app_id_56439': 347,\n",
       " 'app_id_565722': 348,\n",
       " 'app_id_565973': 349,\n",
       " 'app_id_566587': 350,\n",
       " 'app_id_566753': 351,\n",
       " 'app_id_568520': 352,\n",
       " 'app_id_568688': 353,\n",
       " 'app_id_568824': 354,\n",
       " 'app_id_568895': 355,\n",
       " 'app_id_568930': 356,\n",
       " 'app_id_570221': 357,\n",
       " 'app_id_572489': 358,\n",
       " 'app_id_577615': 359,\n",
       " 'app_id_57847': 360,\n",
       " 'app_id_57919': 361,\n",
       " 'app_id_580527': 362,\n",
       " 'app_id_583889': 363,\n",
       " 'app_id_585418': 364,\n",
       " 'app_id_587457': 365,\n",
       " 'app_id_587784': 366,\n",
       " 'app_id_59021': 367,\n",
       " 'app_id_590759': 368,\n",
       " 'app_id_591538': 369,\n",
       " 'app_id_591541': 370,\n",
       " 'app_id_595837': 371,\n",
       " 'app_id_596045': 372,\n",
       " 'app_id_596709': 373,\n",
       " 'app_id_5976': 374,\n",
       " 'app_id_600620': 375,\n",
       " 'app_id_606249': 376,\n",
       " 'app_id_60650': 377,\n",
       " 'app_id_610398': 378,\n",
       " 'app_id_614291': 379,\n",
       " 'app_id_615091': 380,\n",
       " 'app_id_615341': 381,\n",
       " 'app_id_615468': 382,\n",
       " 'app_id_616026': 383,\n",
       " 'app_id_616649': 384,\n",
       " 'app_id_620864': 385,\n",
       " 'app_id_621459': 386,\n",
       " 'app_id_624876': 387,\n",
       " 'app_id_626134': 388,\n",
       " 'app_id_626343': 389,\n",
       " 'app_id_626803': 390,\n",
       " 'app_id_627266': 391,\n",
       " 'app_id_627569': 392,\n",
       " 'app_id_628948': 393,\n",
       " 'app_id_6290': 394,\n",
       " 'app_id_631324': 395,\n",
       " 'app_id_632812': 396,\n",
       " 'app_id_633191': 397,\n",
       " 'app_id_638357': 398,\n",
       " 'app_id_639042': 399,\n",
       " 'app_id_639147': 400,\n",
       " 'app_id_640256': 401,\n",
       " 'app_id_642180': 402,\n",
       " 'app_id_647128': 403,\n",
       " 'app_id_647308': 404,\n",
       " 'app_id_649656': 405,\n",
       " 'app_id_651112': 406,\n",
       " 'app_id_65183': 407,\n",
       " 'app_id_653322': 408,\n",
       " 'app_id_653542': 409,\n",
       " 'app_id_655105': 410,\n",
       " 'app_id_655899': 411,\n",
       " 'app_id_65675': 412,\n",
       " 'app_id_656752': 413,\n",
       " 'app_id_659262': 414,\n",
       " 'app_id_659582': 415,\n",
       " 'app_id_662335': 416,\n",
       " 'app_id_662703': 417,\n",
       " 'app_id_66401': 418,\n",
       " 'app_id_664220': 419,\n",
       " 'app_id_665676': 420,\n",
       " 'app_id_666079': 421,\n",
       " 'app_id_668215': 422,\n",
       " 'app_id_674833': 423,\n",
       " 'app_id_676579': 424,\n",
       " 'app_id_676588': 425,\n",
       " 'app_id_676951': 426,\n",
       " 'app_id_67721': 427,\n",
       " 'app_id_678710': 428,\n",
       " 'app_id_680107': 429,\n",
       " 'app_id_682264': 430,\n",
       " 'app_id_683384': 431,\n",
       " 'app_id_683695': 432,\n",
       " 'app_id_684306': 433,\n",
       " 'app_id_690563': 434,\n",
       " 'app_id_69389': 435,\n",
       " 'app_id_696826': 436,\n",
       " 'app_id_698122': 437,\n",
       " 'app_id_700066': 438,\n",
       " 'app_id_700233': 439,\n",
       " 'app_id_701245': 440,\n",
       " 'app_id_70183': 441,\n",
       " 'app_id_702974': 442,\n",
       " 'app_id_705058': 443,\n",
       " 'app_id_711109': 444,\n",
       " 'app_id_712029': 445,\n",
       " 'app_id_712299': 446,\n",
       " 'app_id_712572': 447,\n",
       " 'app_id_713963': 448,\n",
       " 'app_id_716403': 449,\n",
       " 'app_id_71713': 450,\n",
       " 'app_id_71829': 451,\n",
       " 'app_id_722945': 452,\n",
       " 'app_id_723864': 453,\n",
       " 'app_id_724820': 454,\n",
       " 'app_id_724993': 455,\n",
       " 'app_id_726974': 456,\n",
       " 'app_id_727989': 457,\n",
       " 'app_id_727999': 458,\n",
       " 'app_id_730176': 459,\n",
       " 'app_id_730204': 460,\n",
       " 'app_id_731591': 461,\n",
       " 'app_id_7342': 462,\n",
       " 'app_id_734657': 463,\n",
       " 'app_id_735514': 464,\n",
       " 'app_id_738927': 465,\n",
       " 'app_id_739728': 466,\n",
       " 'app_id_741662': 467,\n",
       " 'app_id_742047': 468,\n",
       " 'app_id_743288': 469,\n",
       " 'app_id_743971': 470,\n",
       " 'app_id_745409': 471,\n",
       " 'app_id_747010': 472,\n",
       " 'app_id_749752': 473,\n",
       " 'app_id_752022': 474,\n",
       " 'app_id_752145': 475,\n",
       " 'app_id_753957': 476,\n",
       " 'app_id_75587': 477,\n",
       " 'app_id_75659': 478,\n",
       " 'app_id_757083': 479,\n",
       " 'app_id_758663': 480,\n",
       " 'app_id_76119': 481,\n",
       " 'app_id_762567': 482,\n",
       " 'app_id_763803': 483,\n",
       " 'app_id_764224': 484,\n",
       " 'app_id_765794': 485,\n",
       " 'app_id_767851': 486,\n",
       " 'app_id_768851': 487,\n",
       " 'app_id_770169': 488,\n",
       " 'app_id_775390': 489,\n",
       " 'app_id_77560': 490,\n",
       " 'app_id_775668': 491,\n",
       " 'app_id_776089': 492,\n",
       " 'app_id_777164': 493,\n",
       " 'app_id_77805': 494,\n",
       " 'app_id_779793': 495,\n",
       " 'app_id_783131': 496,\n",
       " 'app_id_783700': 497,\n",
       " 'app_id_783876': 498,\n",
       " 'app_id_784404': 499,\n",
       " 'app_id_784757': 500,\n",
       " 'app_id_78523': 501,\n",
       " 'app_id_788321': 502,\n",
       " 'app_id_791348': 503,\n",
       " 'app_id_791619': 504,\n",
       " 'app_id_795189': 505,\n",
       " 'app_id_796514': 506,\n",
       " 'app_id_796806': 507,\n",
       " 'app_id_797960': 508,\n",
       " 'app_id_798053': 509,\n",
       " 'app_id_799101': 510,\n",
       " 'app_id_802403': 511,\n",
       " 'app_id_804200': 512,\n",
       " 'app_id_805871': 513,\n",
       " 'app_id_805913': 514,\n",
       " 'app_id_807309': 515,\n",
       " 'app_id_809542': 516,\n",
       " 'app_id_811794': 517,\n",
       " 'app_id_813172': 518,\n",
       " 'app_id_813868': 519,\n",
       " 'app_id_814770': 520,\n",
       " 'app_id_814852': 521,\n",
       " 'app_id_81506': 522,\n",
       " 'app_id_815498': 523,\n",
       " 'app_id_821847': 524,\n",
       " 'app_id_822262': 525,\n",
       " 'app_id_822951': 526,\n",
       " 'app_id_823213': 527,\n",
       " 'app_id_823580': 528,\n",
       " 'app_id_82426': 529,\n",
       " 'app_id_824347': 530,\n",
       " 'app_id_828580': 531,\n",
       " 'app_id_828664': 532,\n",
       " 'app_id_832013': 533,\n",
       " 'app_id_832047': 534,\n",
       " 'app_id_834294': 535,\n",
       " 'app_id_836907': 536,\n",
       " 'app_id_837953': 537,\n",
       " 'app_id_840295': 538,\n",
       " 'app_id_84139': 539,\n",
       " 'app_id_843037': 540,\n",
       " 'app_id_844607': 541,\n",
       " 'app_id_848549': 542,\n",
       " 'app_id_85011': 543,\n",
       " 'app_id_850558': 544,\n",
       " 'app_id_851929': 545,\n",
       " 'app_id_852699': 546,\n",
       " 'app_id_854851': 547,\n",
       " 'app_id_857009': 548,\n",
       " 'app_id_857477': 549,\n",
       " 'app_id_857806': 550,\n",
       " 'app_id_858597': 551,\n",
       " 'app_id_85937': 552,\n",
       " 'app_id_859767': 553,\n",
       " 'app_id_86258': 554,\n",
       " 'app_id_864122': 555,\n",
       " 'app_id_864918': 556,\n",
       " 'app_id_865315': 557,\n",
       " 'app_id_866176': 558,\n",
       " 'app_id_866933': 559,\n",
       " 'app_id_870277': 560,\n",
       " 'app_id_870575': 561,\n",
       " 'app_id_871027': 562,\n",
       " 'app_id_875101': 563,\n",
       " 'app_id_876283': 564,\n",
       " 'app_id_878908': 565,\n",
       " 'app_id_883175': 566,\n",
       " 'app_id_884302': 567,\n",
       " 'app_id_884874': 568,\n",
       " 'app_id_885345': 569,\n",
       " 'app_id_885979': 570,\n",
       " 'app_id_887308': 571,\n",
       " 'app_id_887357': 572,\n",
       " 'app_id_890593': 573,\n",
       " 'app_id_890865': 574,\n",
       " 'app_id_891900': 575,\n",
       " 'app_id_896781': 576,\n",
       " 'app_id_896789': 577,\n",
       " 'app_id_90021': 578,\n",
       " 'app_id_900779': 579,\n",
       " 'app_id_905374': 580,\n",
       " 'app_id_90556': 581,\n",
       " 'app_id_907068': 582,\n",
       " 'app_id_908537': 583,\n",
       " 'app_id_90863': 584,\n",
       " 'app_id_910555': 585,\n",
       " 'app_id_912012': 586,\n",
       " 'app_id_914579': 587,\n",
       " 'app_id_917196': 588,\n",
       " 'app_id_917474': 589,\n",
       " 'app_id_917665': 590,\n",
       " 'app_id_918914': 591,\n",
       " 'app_id_919566': 592,\n",
       " 'app_id_919671': 593,\n",
       " 'app_id_919857': 594,\n",
       " 'app_id_920098': 595,\n",
       " 'app_id_921943': 596,\n",
       " 'app_id_925006': 597,\n",
       " 'app_id_926797': 598,\n",
       " 'app_id_926960': 599,\n",
       " 'app_id_92799': 600,\n",
       " 'app_id_933547': 601,\n",
       " 'app_id_934793': 602,\n",
       " 'app_id_93634': 603,\n",
       " 'app_id_937411': 604,\n",
       " 'app_id_939235': 605,\n",
       " 'app_id_939770': 606,\n",
       " 'app_id_945221': 607,\n",
       " 'app_id_947080': 608,\n",
       " 'app_id_948294': 609,\n",
       " 'app_id_949215': 610,\n",
       " 'app_id_951370': 611,\n",
       " 'app_id_951446': 612,\n",
       " 'app_id_9524': 613,\n",
       " 'app_id_952855': 614,\n",
       " 'app_id_953322': 615,\n",
       " 'app_id_954446': 616,\n",
       " 'app_id_956857': 617,\n",
       " 'app_id_960964': 618,\n",
       " 'app_id_962144': 619,\n",
       " 'app_id_962406': 620,\n",
       " 'app_id_962728': 621,\n",
       " 'app_id_96599': 622,\n",
       " 'app_id_96612': 623,\n",
       " 'app_id_966441': 624,\n",
       " 'app_id_966946': 625,\n",
       " 'app_id_967944': 626,\n",
       " 'app_id_968701': 627,\n",
       " 'app_id_969620': 628,\n",
       " 'app_id_973172': 629,\n",
       " 'app_id_974055': 630,\n",
       " 'app_id_97455': 631,\n",
       " 'app_id_974609': 632,\n",
       " 'app_id_98171': 633,\n",
       " 'app_id_981829': 634,\n",
       " 'app_id_981966': 635,\n",
       " 'app_id_985555': 636,\n",
       " 'app_id_987787': 637,\n",
       " 'app_id_989861': 638,\n",
       " 'app_id_993490': 639,\n",
       " 'app_id_994137': 640,\n",
       " 'app_id_995070': 641,\n",
       " 'app_id_997587': 642,\n",
       " 'app_id_998072': 643,\n",
       " 'app_domain_103916': 644,\n",
       " 'app_domain_142273': 645,\n",
       " 'app_domain_161133': 646,\n",
       " 'app_domain_190970': 647,\n",
       " 'app_domain_193515': 648,\n",
       " 'app_domain_216': 649,\n",
       " 'app_domain_233067': 650,\n",
       " 'app_domain_289015': 651,\n",
       " 'app_domain_2891': 652,\n",
       " 'app_domain_340508': 653,\n",
       " 'app_domain_367970': 654,\n",
       " 'app_domain_376051': 655,\n",
       " 'app_domain_384763': 656,\n",
       " 'app_domain_389628': 657,\n",
       " 'app_domain_398711': 658,\n",
       " 'app_domain_438768': 659,\n",
       " 'app_domain_441850': 660,\n",
       " 'app_domain_4440': 661,\n",
       " 'app_domain_448006': 662,\n",
       " 'app_domain_45007': 663,\n",
       " 'app_domain_461366': 664,\n",
       " 'app_domain_479362': 665,\n",
       " 'app_domain_483115': 666,\n",
       " 'app_domain_499057': 667,\n",
       " 'app_domain_530172': 668,\n",
       " 'app_domain_548462': 669,\n",
       " 'app_domain_56593': 670,\n",
       " 'app_domain_580199': 671,\n",
       " 'app_domain_616259': 672,\n",
       " 'app_domain_619482': 673,\n",
       " 'app_domain_630049': 674,\n",
       " 'app_domain_630123': 675,\n",
       " 'app_domain_646753': 676,\n",
       " 'app_domain_653990': 677,\n",
       " 'app_domain_693165': 678,\n",
       " 'app_domain_724821': 679,\n",
       " 'app_domain_730964': 680,\n",
       " 'app_domain_758939': 681,\n",
       " 'app_domain_76166': 682,\n",
       " 'app_domain_822415': 683,\n",
       " 'app_domain_826510': 684,\n",
       " 'app_domain_836666': 685,\n",
       " 'app_domain_83795': 686,\n",
       " 'app_domain_869162': 687,\n",
       " 'app_domain_881461': 688,\n",
       " 'app_domain_88649': 689,\n",
       " 'app_domain_901678': 690,\n",
       " 'app_domain_916458': 691,\n",
       " 'app_domain_939866': 692,\n",
       " 'app_domain_942154': 693,\n",
       " 'app_domain_946178': 694,\n",
       " 'app_domain_953769': 695,\n",
       " 'app_domain_967489': 696,\n",
       " 'app_category_139596': 697,\n",
       " 'app_category_159644': 698,\n",
       " 'app_category_197006': 699,\n",
       " 'app_category_235762': 700,\n",
       " 'app_category_307517': 701,\n",
       " 'app_category_377236': 702,\n",
       " 'app_category_39397': 703,\n",
       " 'app_category_399822': 704,\n",
       " 'app_category_44411': 705,\n",
       " 'app_category_473321': 706,\n",
       " 'app_category_512936': 707,\n",
       " 'app_category_530172': 708,\n",
       " 'app_category_538679': 709,\n",
       " 'app_category_703468': 710,\n",
       " 'app_category_894226': 711,\n",
       " 'app_category_895950': 712,\n",
       " 'app_category_939579': 713,\n",
       " 'app_category_968970': 714,\n",
       " 'app_category_990170': 715,\n",
       " 'device_type_422796': 716,\n",
       " 'device_type_423691': 717,\n",
       " 'device_type_425377': 718,\n",
       " 'device_type_530172': 719,\n",
       " 'device_type_55443': 720,\n",
       " 'device_conn_type_153260': 721,\n",
       " 'device_conn_type_380713': 722,\n",
       " 'device_conn_type_422796': 723,\n",
       " 'device_conn_type_423691': 724,\n",
       " 'site_category_194526': 725,\n",
       " 'site_category_223884': 726,\n",
       " 'site_category_296665': 727,\n",
       " 'site_category_329892': 728,\n",
       " 'site_category_344537': 729,\n",
       " 'site_category_409136': 730,\n",
       " 'site_category_411628': 731,\n",
       " 'site_category_494541': 732,\n",
       " 'site_category_499346': 733,\n",
       " 'site_category_501769': 734,\n",
       " 'site_category_530172': 735,\n",
       " 'site_category_646210': 736,\n",
       " 'site_category_68034': 737,\n",
       " 'site_category_682631': 738,\n",
       " 'site_category_804780': 739,\n",
       " 'site_category_945045': 740,\n",
       " 'site_category_973185': 741,\n",
       " 'site_category_994246': 742,\n",
       " 'site_102494': 743,\n",
       " 'site_104577': 744,\n",
       " 'site_107549': 745,\n",
       " 'site_108590': 746,\n",
       " 'site_108977': 747,\n",
       " 'site_110933': 748,\n",
       " 'site_111706': 749,\n",
       " 'site_111810': 750,\n",
       " 'site_113129': 751,\n",
       " 'site_115406': 752,\n",
       " 'site_117643': 753,\n",
       " 'site_11864': 754,\n",
       " 'site_118992': 755,\n",
       " 'site_119161': 756,\n",
       " 'site_119966': 757,\n",
       " 'site_120017': 758,\n",
       " 'site_12096': 759,\n",
       " 'site_121118': 760,\n",
       " 'site_122256': 761,\n",
       " 'site_122515': 762,\n",
       " 'site_122995': 763,\n",
       " 'site_124780': 764,\n",
       " 'site_127972': 765,\n",
       " 'site_128182': 766,\n",
       " 'site_129001': 767,\n",
       " 'site_129221': 768,\n",
       " 'site_129965': 769,\n",
       " 'site_130747': 770,\n",
       " 'site_131093': 771,\n",
       " 'site_133440': 772,\n",
       " 'site_133457': 773,\n",
       " 'site_133987': 774,\n",
       " 'site_134390': 775,\n",
       " 'site_134665': 776,\n",
       " 'site_135595': 777,\n",
       " 'site_137236': 778,\n",
       " 'site_137754': 779,\n",
       " 'site_137889': 780,\n",
       " 'site_139116': 781,\n",
       " 'site_139560': 782,\n",
       " 'site_140524': 783,\n",
       " 'site_140995': 784,\n",
       " 'site_141516': 785,\n",
       " 'site_142335': 786,\n",
       " 'site_142957': 787,\n",
       " 'site_144314': 788,\n",
       " 'site_145225': 789,\n",
       " 'site_145304': 790,\n",
       " 'site_149477': 791,\n",
       " 'site_151720': 792,\n",
       " 'site_152162': 793,\n",
       " 'site_1527': 794,\n",
       " 'site_155507': 795,\n",
       " 'site_156584': 796,\n",
       " 'site_156699': 797,\n",
       " 'site_157007': 798,\n",
       " 'site_157570': 799,\n",
       " 'site_158035': 800,\n",
       " 'site_158476': 801,\n",
       " 'site_159134': 802,\n",
       " 'site_160244': 803,\n",
       " 'site_160560': 804,\n",
       " 'site_162529': 805,\n",
       " 'site_163773': 806,\n",
       " 'site_164179': 807,\n",
       " 'site_164462': 808,\n",
       " 'site_164790': 809,\n",
       " 'site_165720': 810,\n",
       " 'site_165882': 811,\n",
       " 'site_166052': 812,\n",
       " 'site_16628': 813,\n",
       " 'site_16640': 814,\n",
       " 'site_168323': 815,\n",
       " 'site_169720': 816,\n",
       " 'site_170391': 817,\n",
       " 'site_170982': 818,\n",
       " 'site_171007': 819,\n",
       " 'site_171903': 820,\n",
       " 'site_172051': 821,\n",
       " 'site_172175': 822,\n",
       " 'site_172902': 823,\n",
       " 'site_174265': 824,\n",
       " 'site_175372': 825,\n",
       " 'site_176585': 826,\n",
       " 'site_177621': 827,\n",
       " 'site_177644': 828,\n",
       " 'site_179260': 829,\n",
       " 'site_17965': 830,\n",
       " 'site_180722': 831,\n",
       " 'site_182641': 832,\n",
       " 'site_183427': 833,\n",
       " 'site_184085': 834,\n",
       " 'site_184654': 835,\n",
       " 'site_187436': 836,\n",
       " 'site_189419': 837,\n",
       " 'site_189583': 838,\n",
       " 'site_189997': 839,\n",
       " 'site_190922': 840,\n",
       " 'site_190956': 841,\n",
       " 'site_192596': 842,\n",
       " 'site_192708': 843,\n",
       " 'site_192874': 844,\n",
       " 'site_195991': 845,\n",
       " 'site_196020': 846,\n",
       " 'site_197020': 847,\n",
       " 'site_198447': 848,\n",
       " 'site_199387': 849,\n",
       " 'site_200337': 850,\n",
       " 'site_200801': 851,\n",
       " 'site_20144': 852,\n",
       " 'site_202380': 853,\n",
       " 'site_204530': 854,\n",
       " 'site_204843': 855,\n",
       " 'site_206823': 856,\n",
       " 'site_20686': 857,\n",
       " 'site_208710': 858,\n",
       " 'site_209169': 859,\n",
       " 'site_20930': 860,\n",
       " 'site_209783': 861,\n",
       " 'site_210029': 862,\n",
       " 'site_2112': 863,\n",
       " 'site_211429': 864,\n",
       " 'site_212462': 865,\n",
       " 'site_213416': 866,\n",
       " 'site_214008': 867,\n",
       " 'site_214270': 868,\n",
       " 'site_214444': 869,\n",
       " 'site_215': 870,\n",
       " 'site_21561': 871,\n",
       " 'site_216174': 872,\n",
       " 'site_216470': 873,\n",
       " 'site_220767': 874,\n",
       " 'site_221276': 875,\n",
       " 'site_221672': 876,\n",
       " 'site_222216': 877,\n",
       " 'site_224556': 878,\n",
       " 'site_226173': 879,\n",
       " 'site_226894': 880,\n",
       " 'site_227771': 881,\n",
       " 'site_228268': 882,\n",
       " 'site_229039': 883,\n",
       " 'site_231407': 884,\n",
       " 'site_23240': 885,\n",
       " 'site_233695': 886,\n",
       " 'site_233918': 887,\n",
       " 'site_235026': 888,\n",
       " 'site_235672': 889,\n",
       " 'site_236482': 890,\n",
       " 'site_2381': 891,\n",
       " 'site_238969': 892,\n",
       " 'site_241083': 893,\n",
       " 'site_24292': 894,\n",
       " 'site_243217': 895,\n",
       " 'site_2449': 896,\n",
       " 'site_245042': 897,\n",
       " 'site_24507': 898,\n",
       " 'site_245452': 899,\n",
       " 'site_24555': 900,\n",
       " 'site_245854': 901,\n",
       " 'site_248045': 902,\n",
       " 'site_248743': 903,\n",
       " 'site_250758': 904,\n",
       " 'site_252131': 905,\n",
       " 'site_253058': 906,\n",
       " 'site_256373': 907,\n",
       " 'site_256472': 908,\n",
       " 'site_259488': 909,\n",
       " 'site_266279': 910,\n",
       " 'site_267223': 911,\n",
       " 'site_269237': 912,\n",
       " 'site_269373': 913,\n",
       " 'site_271434': 914,\n",
       " 'site_273890': 915,\n",
       " 'site_274021': 916,\n",
       " 'site_276127': 917,\n",
       " 'site_276394': 918,\n",
       " 'site_278342': 919,\n",
       " 'site_279813': 920,\n",
       " 'site_280054': 921,\n",
       " 'site_281294': 922,\n",
       " 'site_28250': 923,\n",
       " 'site_282693': 924,\n",
       " 'site_283210': 925,\n",
       " 'site_283451': 926,\n",
       " 'site_286503': 927,\n",
       " 'site_295042': 928,\n",
       " 'site_29505': 929,\n",
       " 'site_295163': 930,\n",
       " 'site_295833': 931,\n",
       " 'site_296224': 932,\n",
       " 'site_298916': 933,\n",
       " 'site_299657': 934,\n",
       " 'site_301146': 935,\n",
       " 'site_30326': 936,\n",
       " 'site_303578': 937,\n",
       " 'site_305149': 938,\n",
       " 'site_305200': 939,\n",
       " 'site_305228': 940,\n",
       " 'site_306225': 941,\n",
       " 'site_308916': 942,\n",
       " 'site_310506': 943,\n",
       " 'site_310979': 944,\n",
       " 'site_311048': 945,\n",
       " 'site_311102': 946,\n",
       " 'site_311543': 947,\n",
       " 'site_311601': 948,\n",
       " 'site_31244': 949,\n",
       " 'site_31256': 950,\n",
       " 'site_313232': 951,\n",
       " 'site_314615': 952,\n",
       " 'site_314831': 953,\n",
       " 'site_315543': 954,\n",
       " 'site_317971': 955,\n",
       " 'site_320512': 956,\n",
       " 'site_320519': 957,\n",
       " 'site_320673': 958,\n",
       " 'site_322700': 959,\n",
       " 'site_324906': 960,\n",
       " 'site_326698': 961,\n",
       " 'site_327282': 962,\n",
       " 'site_327698': 963,\n",
       " 'site_328108': 964,\n",
       " 'site_329413': 965,\n",
       " 'site_329649': 966,\n",
       " 'site_333174': 967,\n",
       " 'site_33516': 968,\n",
       " 'site_336483': 969,\n",
       " 'site_33655': 970,\n",
       " 'site_336919': 971,\n",
       " 'site_337494': 972,\n",
       " 'site_337860': 973,\n",
       " 'site_338523': 974,\n",
       " 'site_338699': 975,\n",
       " 'site_339073': 976,\n",
       " 'site_339182': 977,\n",
       " 'site_339672': 978,\n",
       " 'site_341158': 979,\n",
       " 'site_341275': 980,\n",
       " 'site_34316': 981,\n",
       " 'site_347478': 982,\n",
       " 'site_347996': 983,\n",
       " 'site_3496': 984,\n",
       " 'site_35236': 985,\n",
       " 'site_352581': 986,\n",
       " 'site_35333': 987,\n",
       " 'site_353658': 988,\n",
       " 'site_354015': 989,\n",
       " 'site_354289': 990,\n",
       " 'site_354815': 991,\n",
       " 'site_357540': 992,\n",
       " 'site_360495': 993,\n",
       " 'site_361756': 994,\n",
       " 'site_362803': 995,\n",
       " 'site_363215': 996,\n",
       " 'site_364650': 997,\n",
       " 'site_36509': 998,\n",
       " 'site_365919': 999,\n",
       " ...}"
      ]
     },
     "execution_count": 79,
     "metadata": {},
     "output_type": "execute_result"
    }
   ],
   "source": [
    "dicFeat = {val:i for i,val in enumerate(allvals) }\n",
    "dicFeat"
   ]
  },
  {
   "cell_type": "markdown",
   "metadata": {
    "colab_type": "text",
    "id": "qS4cP1SgIIWd"
   },
   "source": [
    "We build dataframe from dicFeat as follows:\n",
    "in each \"col\" column, the value \"x\" is replaced by the string \"f: v: 1\", where f is the field associated with the column and v is the index of the modality x.\n",
    "<font color=\"red\">\n",
    "Study the following code</font>"
   ]
  },
  {
   "cell_type": "code",
   "execution_count": 80,
   "metadata": {
    "ExecuteTime": {
     "end_time": "2019-12-15T16:20:54.901731Z",
     "start_time": "2019-12-15T16:20:39.818415Z"
    },
    "colab": {},
    "colab_type": "code",
    "id": "FLXawWuYIIWd"
   },
   "outputs": [
    {
     "data": {
      "text/html": [
       "<div>\n",
       "<style scoped>\n",
       "    .dataframe tbody tr th:only-of-type {\n",
       "        vertical-align: middle;\n",
       "    }\n",
       "\n",
       "    .dataframe tbody tr th {\n",
       "        vertical-align: top;\n",
       "    }\n",
       "\n",
       "    .dataframe thead th {\n",
       "        text-align: right;\n",
       "    }\n",
       "</style>\n",
       "<table border=\"1\" class=\"dataframe\">\n",
       "  <thead>\n",
       "    <tr style=\"text-align: right;\">\n",
       "      <th></th>\n",
       "      <th>hour</th>\n",
       "      <th>C1</th>\n",
       "      <th>banner_pos</th>\n",
       "      <th>site_category</th>\n",
       "      <th>app_id</th>\n",
       "      <th>app_domain</th>\n",
       "      <th>app_category</th>\n",
       "      <th>device_type</th>\n",
       "      <th>device_conn_type</th>\n",
       "      <th>C14</th>\n",
       "      <th>C15</th>\n",
       "      <th>C16</th>\n",
       "      <th>C17</th>\n",
       "      <th>C18</th>\n",
       "      <th>C19</th>\n",
       "      <th>C20</th>\n",
       "      <th>C21</th>\n",
       "      <th>weekday</th>\n",
       "      <th>user</th>\n",
       "      <th>site</th>\n",
       "    </tr>\n",
       "  </thead>\n",
       "  <tbody>\n",
       "    <tr>\n",
       "      <td>92438</td>\n",
       "      <td>0:12:1</td>\n",
       "      <td>4:1636:1</td>\n",
       "      <td>5:3655:1</td>\n",
       "      <td>3:727:1</td>\n",
       "      <td>1:414:1</td>\n",
       "      <td>1:679:1</td>\n",
       "      <td>1:710:1</td>\n",
       "      <td>2:720:1</td>\n",
       "      <td>2:721:1</td>\n",
       "      <td>4:2558:1</td>\n",
       "      <td>4:2980:1</td>\n",
       "      <td>4:2987:1</td>\n",
       "      <td>4:3110:1</td>\n",
       "      <td>4:3377:1</td>\n",
       "      <td>4:3397:1</td>\n",
       "      <td>4:3574:1</td>\n",
       "      <td>4:3625:1</td>\n",
       "      <td>0:26:1</td>\n",
       "      <td>6:4074:1</td>\n",
       "      <td>3:1170:1</td>\n",
       "    </tr>\n",
       "    <tr>\n",
       "      <td>60898</td>\n",
       "      <td>0:21:1</td>\n",
       "      <td>4:1637:1</td>\n",
       "      <td>5:3652:1</td>\n",
       "      <td>3:727:1</td>\n",
       "      <td>1:487:1</td>\n",
       "      <td>1:666:1</td>\n",
       "      <td>1:706:1</td>\n",
       "      <td>2:718:1</td>\n",
       "      <td>2:722:1</td>\n",
       "      <td>4:2558:1</td>\n",
       "      <td>4:2980:1</td>\n",
       "      <td>4:2987:1</td>\n",
       "      <td>4:3110:1</td>\n",
       "      <td>4:3377:1</td>\n",
       "      <td>4:3397:1</td>\n",
       "      <td>4:3574:1</td>\n",
       "      <td>4:3625:1</td>\n",
       "      <td>0:28:1</td>\n",
       "      <td>6:4074:1</td>\n",
       "      <td>3:1170:1</td>\n",
       "    </tr>\n",
       "    <tr>\n",
       "      <td>556199</td>\n",
       "      <td>0:13:1</td>\n",
       "      <td>4:1637:1</td>\n",
       "      <td>5:3652:1</td>\n",
       "      <td>3:738:1</td>\n",
       "      <td>1:212:1</td>\n",
       "      <td>1:679:1</td>\n",
       "      <td>1:701:1</td>\n",
       "      <td>2:718:1</td>\n",
       "      <td>2:722:1</td>\n",
       "      <td>4:2351:1</td>\n",
       "      <td>4:2980:1</td>\n",
       "      <td>4:2987:1</td>\n",
       "      <td>4:3081:1</td>\n",
       "      <td>4:3377:1</td>\n",
       "      <td>4:3430:1</td>\n",
       "      <td>4:3574:1</td>\n",
       "      <td>4:3597:1</td>\n",
       "      <td>0:26:1</td>\n",
       "      <td>6:4074:1</td>\n",
       "      <td>3:1116:1</td>\n",
       "    </tr>\n",
       "    <tr>\n",
       "      <td>193129</td>\n",
       "      <td>0:23:1</td>\n",
       "      <td>4:1637:1</td>\n",
       "      <td>5:3655:1</td>\n",
       "      <td>3:738:1</td>\n",
       "      <td>1:212:1</td>\n",
       "      <td>1:679:1</td>\n",
       "      <td>1:701:1</td>\n",
       "      <td>2:718:1</td>\n",
       "      <td>2:723:1</td>\n",
       "      <td>4:1653:1</td>\n",
       "      <td>4:2980:1</td>\n",
       "      <td>4:2987:1</td>\n",
       "      <td>4:3128:1</td>\n",
       "      <td>4:3377:1</td>\n",
       "      <td>4:3422:1</td>\n",
       "      <td>4:3536:1</td>\n",
       "      <td>4:3594:1</td>\n",
       "      <td>0:28:1</td>\n",
       "      <td>6:4074:1</td>\n",
       "      <td>3:953:1</td>\n",
       "    </tr>\n",
       "    <tr>\n",
       "      <td>231985</td>\n",
       "      <td>0:15:1</td>\n",
       "      <td>4:1637:1</td>\n",
       "      <td>5:3652:1</td>\n",
       "      <td>3:732:1</td>\n",
       "      <td>1:212:1</td>\n",
       "      <td>1:679:1</td>\n",
       "      <td>1:701:1</td>\n",
       "      <td>2:718:1</td>\n",
       "      <td>2:723:1</td>\n",
       "      <td>4:1732:1</td>\n",
       "      <td>4:2980:1</td>\n",
       "      <td>4:2987:1</td>\n",
       "      <td>4:3110:1</td>\n",
       "      <td>4:3377:1</td>\n",
       "      <td>4:3397:1</td>\n",
       "      <td>4:3571:1</td>\n",
       "      <td>4:3625:1</td>\n",
       "      <td>0:30:1</td>\n",
       "      <td>6:4074:1</td>\n",
       "      <td>3:1305:1</td>\n",
       "    </tr>\n",
       "  </tbody>\n",
       "</table>\n",
       "</div>"
      ],
      "text/plain": [
       "          hour        C1 banner_pos site_category   app_id app_domain  \\\n",
       "92438   0:12:1  4:1636:1   5:3655:1       3:727:1  1:414:1    1:679:1   \n",
       "60898   0:21:1  4:1637:1   5:3652:1       3:727:1  1:487:1    1:666:1   \n",
       "556199  0:13:1  4:1637:1   5:3652:1       3:738:1  1:212:1    1:679:1   \n",
       "193129  0:23:1  4:1637:1   5:3655:1       3:738:1  1:212:1    1:679:1   \n",
       "231985  0:15:1  4:1637:1   5:3652:1       3:732:1  1:212:1    1:679:1   \n",
       "\n",
       "       app_category device_type device_conn_type       C14       C15  \\\n",
       "92438       1:710:1     2:720:1          2:721:1  4:2558:1  4:2980:1   \n",
       "60898       1:706:1     2:718:1          2:722:1  4:2558:1  4:2980:1   \n",
       "556199      1:701:1     2:718:1          2:722:1  4:2351:1  4:2980:1   \n",
       "193129      1:701:1     2:718:1          2:723:1  4:1653:1  4:2980:1   \n",
       "231985      1:701:1     2:718:1          2:723:1  4:1732:1  4:2980:1   \n",
       "\n",
       "             C16       C17       C18       C19       C20       C21 weekday  \\\n",
       "92438   4:2987:1  4:3110:1  4:3377:1  4:3397:1  4:3574:1  4:3625:1  0:26:1   \n",
       "60898   4:2987:1  4:3110:1  4:3377:1  4:3397:1  4:3574:1  4:3625:1  0:28:1   \n",
       "556199  4:2987:1  4:3081:1  4:3377:1  4:3430:1  4:3574:1  4:3597:1  0:26:1   \n",
       "193129  4:2987:1  4:3128:1  4:3377:1  4:3422:1  4:3536:1  4:3594:1  0:28:1   \n",
       "231985  4:2987:1  4:3110:1  4:3377:1  4:3397:1  4:3571:1  4:3625:1  0:30:1   \n",
       "\n",
       "            user      site  \n",
       "92438   6:4074:1  3:1170:1  \n",
       "60898   6:4074:1  3:1170:1  \n",
       "556199  6:4074:1  3:1116:1  \n",
       "193129  6:4074:1   3:953:1  \n",
       "231985  6:4074:1  3:1305:1  "
      ]
     },
     "execution_count": 80,
     "metadata": {},
     "output_type": "execute_result"
    }
   ],
   "source": [
    "for col in allcols_ffm:\n",
    "    f = dicFields[col]\n",
    "    Xtrain_ffm[col] = Xtrain_ffm[col].apply(lambda x:\"{}:{}:1\".format(f,dicFeat[x]) if x in dicFeat else \"\")\n",
    "    Xtest_ffm[col]  = Xtest_ffm[col].apply(lambda x:\"{}:{}:1\".format(f,dicFeat[x]) if x in dicFeat else \"\")\n",
    "Xtrain_ffm.head()"
   ]
  },
  {
   "cell_type": "markdown",
   "metadata": {
    "colab_type": "text",
    "id": "O8jnU8x8IIWe"
   },
   "source": [
    "<font color=\"red\">For the two resulting dataframes, concatenate on the left the corresponding ytrain (or ytest) click column</font>"
   ]
  },
  {
   "cell_type": "code",
   "execution_count": 81,
   "metadata": {
    "ExecuteTime": {
     "end_time": "2019-12-15T16:20:56.303776Z",
     "start_time": "2019-12-15T16:20:54.904629Z"
    },
    "colab": {},
    "colab_type": "code",
    "id": "6vVXBrtVIIWe"
   },
   "outputs": [
    {
     "data": {
      "text/html": [
       "<div>\n",
       "<style scoped>\n",
       "    .dataframe tbody tr th:only-of-type {\n",
       "        vertical-align: middle;\n",
       "    }\n",
       "\n",
       "    .dataframe tbody tr th {\n",
       "        vertical-align: top;\n",
       "    }\n",
       "\n",
       "    .dataframe thead th {\n",
       "        text-align: right;\n",
       "    }\n",
       "</style>\n",
       "<table border=\"1\" class=\"dataframe\">\n",
       "  <thead>\n",
       "    <tr style=\"text-align: right;\">\n",
       "      <th></th>\n",
       "      <th>click</th>\n",
       "      <th>hour</th>\n",
       "      <th>C1</th>\n",
       "      <th>banner_pos</th>\n",
       "      <th>site_category</th>\n",
       "      <th>app_id</th>\n",
       "      <th>app_domain</th>\n",
       "      <th>app_category</th>\n",
       "      <th>device_type</th>\n",
       "      <th>device_conn_type</th>\n",
       "      <th>...</th>\n",
       "      <th>C15</th>\n",
       "      <th>C16</th>\n",
       "      <th>C17</th>\n",
       "      <th>C18</th>\n",
       "      <th>C19</th>\n",
       "      <th>C20</th>\n",
       "      <th>C21</th>\n",
       "      <th>weekday</th>\n",
       "      <th>user</th>\n",
       "      <th>site</th>\n",
       "    </tr>\n",
       "  </thead>\n",
       "  <tbody>\n",
       "    <tr>\n",
       "      <td>92438</td>\n",
       "      <td>1</td>\n",
       "      <td>0:12:1</td>\n",
       "      <td>4:1636:1</td>\n",
       "      <td>5:3655:1</td>\n",
       "      <td>3:727:1</td>\n",
       "      <td>1:414:1</td>\n",
       "      <td>1:679:1</td>\n",
       "      <td>1:710:1</td>\n",
       "      <td>2:720:1</td>\n",
       "      <td>2:721:1</td>\n",
       "      <td>...</td>\n",
       "      <td>4:2980:1</td>\n",
       "      <td>4:2987:1</td>\n",
       "      <td>4:3110:1</td>\n",
       "      <td>4:3377:1</td>\n",
       "      <td>4:3397:1</td>\n",
       "      <td>4:3574:1</td>\n",
       "      <td>4:3625:1</td>\n",
       "      <td>0:26:1</td>\n",
       "      <td>6:4074:1</td>\n",
       "      <td>3:1170:1</td>\n",
       "    </tr>\n",
       "    <tr>\n",
       "      <td>60898</td>\n",
       "      <td>0</td>\n",
       "      <td>0:21:1</td>\n",
       "      <td>4:1637:1</td>\n",
       "      <td>5:3652:1</td>\n",
       "      <td>3:727:1</td>\n",
       "      <td>1:487:1</td>\n",
       "      <td>1:666:1</td>\n",
       "      <td>1:706:1</td>\n",
       "      <td>2:718:1</td>\n",
       "      <td>2:722:1</td>\n",
       "      <td>...</td>\n",
       "      <td>4:2980:1</td>\n",
       "      <td>4:2987:1</td>\n",
       "      <td>4:3110:1</td>\n",
       "      <td>4:3377:1</td>\n",
       "      <td>4:3397:1</td>\n",
       "      <td>4:3574:1</td>\n",
       "      <td>4:3625:1</td>\n",
       "      <td>0:28:1</td>\n",
       "      <td>6:4074:1</td>\n",
       "      <td>3:1170:1</td>\n",
       "    </tr>\n",
       "    <tr>\n",
       "      <td>556199</td>\n",
       "      <td>0</td>\n",
       "      <td>0:13:1</td>\n",
       "      <td>4:1637:1</td>\n",
       "      <td>5:3652:1</td>\n",
       "      <td>3:738:1</td>\n",
       "      <td>1:212:1</td>\n",
       "      <td>1:679:1</td>\n",
       "      <td>1:701:1</td>\n",
       "      <td>2:718:1</td>\n",
       "      <td>2:722:1</td>\n",
       "      <td>...</td>\n",
       "      <td>4:2980:1</td>\n",
       "      <td>4:2987:1</td>\n",
       "      <td>4:3081:1</td>\n",
       "      <td>4:3377:1</td>\n",
       "      <td>4:3430:1</td>\n",
       "      <td>4:3574:1</td>\n",
       "      <td>4:3597:1</td>\n",
       "      <td>0:26:1</td>\n",
       "      <td>6:4074:1</td>\n",
       "      <td>3:1116:1</td>\n",
       "    </tr>\n",
       "    <tr>\n",
       "      <td>193129</td>\n",
       "      <td>0</td>\n",
       "      <td>0:23:1</td>\n",
       "      <td>4:1637:1</td>\n",
       "      <td>5:3655:1</td>\n",
       "      <td>3:738:1</td>\n",
       "      <td>1:212:1</td>\n",
       "      <td>1:679:1</td>\n",
       "      <td>1:701:1</td>\n",
       "      <td>2:718:1</td>\n",
       "      <td>2:723:1</td>\n",
       "      <td>...</td>\n",
       "      <td>4:2980:1</td>\n",
       "      <td>4:2987:1</td>\n",
       "      <td>4:3128:1</td>\n",
       "      <td>4:3377:1</td>\n",
       "      <td>4:3422:1</td>\n",
       "      <td>4:3536:1</td>\n",
       "      <td>4:3594:1</td>\n",
       "      <td>0:28:1</td>\n",
       "      <td>6:4074:1</td>\n",
       "      <td>3:953:1</td>\n",
       "    </tr>\n",
       "    <tr>\n",
       "      <td>231985</td>\n",
       "      <td>0</td>\n",
       "      <td>0:15:1</td>\n",
       "      <td>4:1637:1</td>\n",
       "      <td>5:3652:1</td>\n",
       "      <td>3:732:1</td>\n",
       "      <td>1:212:1</td>\n",
       "      <td>1:679:1</td>\n",
       "      <td>1:701:1</td>\n",
       "      <td>2:718:1</td>\n",
       "      <td>2:723:1</td>\n",
       "      <td>...</td>\n",
       "      <td>4:2980:1</td>\n",
       "      <td>4:2987:1</td>\n",
       "      <td>4:3110:1</td>\n",
       "      <td>4:3377:1</td>\n",
       "      <td>4:3397:1</td>\n",
       "      <td>4:3571:1</td>\n",
       "      <td>4:3625:1</td>\n",
       "      <td>0:30:1</td>\n",
       "      <td>6:4074:1</td>\n",
       "      <td>3:1305:1</td>\n",
       "    </tr>\n",
       "  </tbody>\n",
       "</table>\n",
       "<p>5 rows × 21 columns</p>\n",
       "</div>"
      ],
      "text/plain": [
       "       click    hour        C1 banner_pos site_category   app_id app_domain  \\\n",
       "92438      1  0:12:1  4:1636:1   5:3655:1       3:727:1  1:414:1    1:679:1   \n",
       "60898      0  0:21:1  4:1637:1   5:3652:1       3:727:1  1:487:1    1:666:1   \n",
       "556199     0  0:13:1  4:1637:1   5:3652:1       3:738:1  1:212:1    1:679:1   \n",
       "193129     0  0:23:1  4:1637:1   5:3655:1       3:738:1  1:212:1    1:679:1   \n",
       "231985     0  0:15:1  4:1637:1   5:3652:1       3:732:1  1:212:1    1:679:1   \n",
       "\n",
       "       app_category device_type device_conn_type  ...       C15       C16  \\\n",
       "92438       1:710:1     2:720:1          2:721:1  ...  4:2980:1  4:2987:1   \n",
       "60898       1:706:1     2:718:1          2:722:1  ...  4:2980:1  4:2987:1   \n",
       "556199      1:701:1     2:718:1          2:722:1  ...  4:2980:1  4:2987:1   \n",
       "193129      1:701:1     2:718:1          2:723:1  ...  4:2980:1  4:2987:1   \n",
       "231985      1:701:1     2:718:1          2:723:1  ...  4:2980:1  4:2987:1   \n",
       "\n",
       "             C17       C18       C19       C20       C21 weekday      user  \\\n",
       "92438   4:3110:1  4:3377:1  4:3397:1  4:3574:1  4:3625:1  0:26:1  6:4074:1   \n",
       "60898   4:3110:1  4:3377:1  4:3397:1  4:3574:1  4:3625:1  0:28:1  6:4074:1   \n",
       "556199  4:3081:1  4:3377:1  4:3430:1  4:3574:1  4:3597:1  0:26:1  6:4074:1   \n",
       "193129  4:3128:1  4:3377:1  4:3422:1  4:3536:1  4:3594:1  0:28:1  6:4074:1   \n",
       "231985  4:3110:1  4:3377:1  4:3397:1  4:3571:1  4:3625:1  0:30:1  6:4074:1   \n",
       "\n",
       "            site  \n",
       "92438   3:1170:1  \n",
       "60898   3:1170:1  \n",
       "556199  3:1116:1  \n",
       "193129   3:953:1  \n",
       "231985  3:1305:1  \n",
       "\n",
       "[5 rows x 21 columns]"
      ]
     },
     "execution_count": 81,
     "metadata": {},
     "output_type": "execute_result"
    }
   ],
   "source": [
    "yXtrain_ffm = pd.concat( (ytrain.apply(str), Xtrain_ffm) , axis=1)\n",
    "yXtest_ffm  = pd.concat( (ytest.apply(str), Xtest_ffm) , axis=1)\n",
    "yXtrain_ffm.head()"
   ]
  },
  {
   "cell_type": "markdown",
   "metadata": {
    "colab_type": "text",
    "id": "2yKP8AdSIIWf"
   },
   "source": [
    "<font color=\"red\">What does the following cell produce?</font>"
   ]
  },
  {
   "cell_type": "code",
   "execution_count": 111,
   "metadata": {
    "ExecuteTime": {
     "end_time": "2019-12-15T16:40:00.093249Z",
     "start_time": "2019-12-15T16:39:51.423417Z"
    },
    "colab": {},
    "colab_type": "code",
    "id": "vlCgqefuIIWg"
   },
   "outputs": [],
   "source": [
    "train_w = yXtrain_ffm.apply(lambda row:' '.join(row.values),axis=1).values\n",
    "test_w  = yXtest_ffm.apply(lambda row:' '.join(row.values),axis=1).values"
   ]
  },
  {
   "cell_type": "markdown",
   "metadata": {
    "ExecuteTime": {
     "end_time": "2019-12-04T18:04:12.583369Z",
     "start_time": "2019-12-04T18:04:12.569595Z"
    },
    "colab": {},
    "colab_type": "code",
    "id": "vlCgqefuIIWg"
   },
   "source": [
    "<font color=\"blue\"> It merges columns, we have now an array of 900000 long strings. </font>"
   ]
  },
  {
   "cell_type": "markdown",
   "metadata": {
    "colab_type": "text",
    "id": "7VI0cKgcIIWm"
   },
   "source": [
    "<font color=\"red\">Write the above dataframe in a text file</font>"
   ]
  },
  {
   "cell_type": "code",
   "execution_count": 112,
   "metadata": {
    "ExecuteTime": {
     "end_time": "2019-12-15T16:40:16.495943Z",
     "start_time": "2019-12-15T16:40:11.189934Z"
    },
    "colab": {},
    "colab_type": "code",
    "id": "fdJFgYQuIIWo"
   },
   "outputs": [],
   "source": [
    "thefile = open('data_tp/train.txt','w')\n",
    "for item in train_w:\n",
    "    thefile.write(\"%s\\n\" % item)\n",
    "thefile.close()\n",
    "\n",
    "# Faire de même pour le test set\n",
    "thefile = open('data_tp/test.txt','w')\n",
    "for item in test_w:\n",
    "    thefile.write(\"%s\\n\" % item)\n",
    "thefile.close()"
   ]
  },
  {
   "cell_type": "markdown",
   "metadata": {
    "colab_type": "text",
    "id": "Z3-j2EGuIIWo"
   },
   "source": [
    "To learn the FFM model, we use the LibFFM library https://www.csie.ntu.edu.tw/~cjlin/libffm/\n",
    "In the notebooks / directory there are two executables: ffm-train and ffm-predict.\n",
    "In jupyter notebook, the exclamation point! allows to launch a bash command.\n",
    "The use is as follows:\n",
    "\n",
    "-   `ffm-train'\n",
    "\n",
    "    usage: ffm-train [options] training_set_file [model_file]\n",
    "\n",
    "    options:  \n",
    "    -l <lambda>: set regularization parameter (default 0.00002)  \n",
    "    -k <factor>: set number of latent factors (default 4)  \n",
    "    -t <iteration>: set number of iterations (default 15)  \n",
    "    -r <eta>: set learning rate (default 0.2)  \n",
    "    -s <nr_threads>: set number of threads (default 1)  \n",
    "    -p <path>: set path to the validation set  \n",
    "    --quiet: quiet model (no output)  \n",
    "    --no-norm: disable instance-wise normalization  \n",
    "    --auto-stop: stop at the iteration that achieves the best validation loss (must be used with -p)  \n",
    "<br>\n",
    "<font color=\"red\">Learn the model. We can :\n",
    "- use an regularizer of 0.00001\n",
    "- use a learning rate of 0.05\n",
    "- use of the order of 15 latent factors\n",
    "- carry out the order of 30 iterations\n",
    "- with the -p option, change the test file to validation parameters\n",
    "- activate the --autostop mode\n",
    "</font> "
   ]
  },
  {
   "cell_type": "code",
   "execution_count": 113,
   "metadata": {
    "ExecuteTime": {
     "end_time": "2019-12-15T16:41:59.706537Z",
     "start_time": "2019-12-15T16:40:28.024719Z"
    },
    "colab": {},
    "colab_type": "code",
    "id": "zgFB_Wz7IIWp"
   },
   "outputs": [
    {
     "name": "stdout",
     "output_type": "stream",
     "text": [
      "First check if the text file has already been converted to binary format (0.5 seconds)\n",
      "Binary file found. Skip converting text to binary\n",
      "First check if the text file has already been converted to binary format (0.1 seconds)\n",
      "Binary file found. Skip converting text to binary\n",
      "iter   tr_logloss   va_logloss      tr_time\n",
      "   1      0.41045      0.40370          5.5\n",
      "   2      0.40276      0.40095         10.9\n",
      "   3      0.40066      0.39930         17.0\n",
      "   4      0.39946      0.39836         22.4\n",
      "   5      0.39858      0.39797         27.8\n",
      "   6      0.39791      0.39757         33.2\n",
      "   7      0.39733      0.39745         38.5\n",
      "   8      0.39685      0.39697         43.8\n",
      "   9      0.39641      0.39679         49.5\n",
      "  10      0.39599      0.39671         55.5\n",
      "  11      0.39563      0.39654         60.9\n",
      "  12      0.39531      0.39634         66.2\n",
      "  13      0.39499      0.39634         71.7\n",
      "  14      0.39468      0.39624         77.0\n",
      "  15      0.39437      0.39603         82.3\n",
      "  16      0.39410      0.39609\n",
      "Auto-stop. Use model at 15th iteration.\n"
     ]
    }
   ],
   "source": [
    "!\"libffm\\windows\\ffm-train\" -l 0.00001 -r 0.05 -k 15 -t 30 --auto-stop -p \"data_tp\\test.txt\" \"data_tp\\train.txt\" \"data_tp\\model.txt\""
   ]
  },
  {
   "cell_type": "markdown",
   "metadata": {
    "colab_type": "text",
    "id": "ksgNKsj8IIWs"
   },
   "source": [
    "The use of ffm-predict is: ffm-predict filename-test file-name-model file-in-which-write-the-prediction \n",
    "<font color=\"red\">Perform the prediction</font>"
   ]
  },
  {
   "cell_type": "code",
   "execution_count": 114,
   "metadata": {
    "ExecuteTime": {
     "end_time": "2019-12-15T16:42:12.181863Z",
     "start_time": "2019-12-15T16:42:10.986369Z"
    },
    "colab": {},
    "colab_type": "code",
    "id": "8J6KBW8OIIWs"
   },
   "outputs": [
    {
     "name": "stdout",
     "output_type": "stream",
     "text": [
      "logloss = 0.39603\n"
     ]
    }
   ],
   "source": [
    "!\"libffm\\windows\\ffm-predict\" \"data_tp\\test.txt\" \"data_tp\\model.txt\" \"data_tp\\predict.txt\""
   ]
  },
  {
   "cell_type": "code",
   "execution_count": 120,
   "metadata": {
    "ExecuteTime": {
     "end_time": "2019-12-15T16:45:15.023435Z",
     "start_time": "2019-12-15T16:45:14.996475Z"
    }
   },
   "outputs": [
    {
     "data": {
      "text/plain": [
       "array([[0.323998 ],\n",
       "       [0.44048  ],\n",
       "       [0.0826991],\n",
       "       ...,\n",
       "       [0.230468 ],\n",
       "       [0.198159 ],\n",
       "       [0.0916288]])"
      ]
     },
     "execution_count": 120,
     "metadata": {},
     "output_type": "execute_result"
    }
   ],
   "source": [
    "y_predict = pd.read_csv('data_tp\\predict.txt', header=None).values\n",
    "y_predict"
   ]
  },
  {
   "cell_type": "markdown",
   "metadata": {
    "colab_type": "text",
    "id": "pp02SsNnIIWt"
   },
   "source": [
    "<font color=\"red\">Compute the log_loss and area under the roc curve (ROC AUC).</font>"
   ]
  },
  {
   "cell_type": "code",
   "execution_count": 121,
   "metadata": {
    "ExecuteTime": {
     "end_time": "2019-12-15T16:45:26.452838Z",
     "start_time": "2019-12-15T16:45:26.386017Z"
    },
    "colab": {},
    "colab_type": "code",
    "id": "nFFrqJyZIIWu"
   },
   "outputs": [
    {
     "data": {
      "text/plain": [
       "(0.39602615449727846, 0.7496328876534711)"
      ]
     },
     "execution_count": 121,
     "metadata": {},
     "output_type": "execute_result"
    }
   ],
   "source": [
    "log_loss(ytest, y_predict), roc_auc_score(ytest, y_predict)"
   ]
  },
  {
   "cell_type": "markdown",
   "metadata": {
    "colab_type": "text",
    "collapsed": true,
    "id": "vqR8fOOBOqxx"
   },
   "source": [
    "# Blending"
   ]
  },
  {
   "cell_type": "markdown",
   "metadata": {
    "colab_type": "text",
    "id": "7-3iP_FwOqxw"
   },
   "source": [
    "<font color=\"red\">\n",
    "Split Xtrain in two: Xtrain_meth and Xtrain_blend.</font>"
   ]
  },
  {
   "cell_type": "code",
   "execution_count": 76,
   "metadata": {
    "ExecuteTime": {
     "end_time": "2019-12-19T16:07:26.515236Z",
     "start_time": "2019-12-19T16:07:25.669968Z"
    },
    "colab": {},
    "colab_type": "code",
    "id": "VOz5fHUgOqxr"
   },
   "outputs": [],
   "source": [
    "Xtrain_meth, Xtrain_blend, ytrain_meth, ytrain_blend = train_test_split(Xtrain, ytrain, test_size=0.2)"
   ]
  },
  {
   "cell_type": "code",
   "execution_count": 78,
   "metadata": {
    "ExecuteTime": {
     "end_time": "2019-12-19T16:08:12.120149Z",
     "start_time": "2019-12-19T16:08:04.621167Z"
    }
   },
   "outputs": [],
   "source": []
  },
  {
   "cell_type": "markdown",
   "metadata": {
    "colab_type": "text",
    "collapsed": true,
    "id": "taRGY6UDOqxq"
   },
   "source": [
    "<font color=\"red\">\n",
    "Train a logistic regression on XTrain_meth. Then compute its score on Xtrain_blend and save the score in a vector.</font>"
   ]
  },
  {
   "cell_type": "code",
   "execution_count": 122,
   "metadata": {
    "ExecuteTime": {
     "end_time": "2019-12-19T18:51:04.452432Z",
     "start_time": "2019-12-19T18:49:57.689951Z"
    },
    "colab": {},
    "colab_type": "code",
    "id": "iLZ9eMbEOqxo"
   },
   "outputs": [
    {
     "data": {
      "text/plain": [
       "(0.40457823103564394, 0.7326136811731869)"
      ]
     },
     "execution_count": 122,
     "metadata": {},
     "output_type": "execute_result"
    }
   ],
   "source": [
    "# PRE-PROCESSING\n",
    "Xtrain_meth_oh  = ohe.fit_transform(Xtrain_meth)\n",
    "Xtrain_blend_oh = ohe.transform(Xtrain_blend)\n",
    "Xtest_blend_oh  = ohe.transform(Xtest)\n",
    "n_ones = np.array(Xtrain_meth_oh.sum(axis=0))\n",
    "useful = np.array(n_ones>100)[0]\n",
    "cols_to_keep = [i for i,b in enumerate(useful) if b]\n",
    "\n",
    "# FIT MODEL\n",
    "lr = LogisticRegression(solver='liblinear')\n",
    "lr.fit(Xtrain_meth_oh[:,cols_to_keep], ytrain_meth)\n",
    "score_lr_train = lr.predict_proba(Xtrain_blend_oh[:,cols_to_keep])[:,1]\n",
    "score_lr_test  = lr.predict_proba(Xtest_blend_oh[:,cols_to_keep])[:,1]\n",
    "\n",
    "log_loss(ytrain_blend, score_lr_train), roc_auc_score(ytrain_blend, score_lr_train)"
   ]
  },
  {
   "cell_type": "markdown",
   "metadata": {
    "colab_type": "text",
    "id": "dENR18QvOqxn"
   },
   "source": [
    "<font color=\"red\">\n",
    "Do the same thing with XGBoost (save the score).</font>"
   ]
  },
  {
   "cell_type": "code",
   "execution_count": 123,
   "metadata": {
    "ExecuteTime": {
     "end_time": "2019-12-19T18:52:03.612946Z",
     "start_time": "2019-12-19T18:51:09.453230Z"
    },
    "colab": {},
    "colab_type": "code",
    "id": "8H4Z6I86Oqxl"
   },
   "outputs": [
    {
     "data": {
      "text/plain": [
       "(0.41133290553098395, 0.7183222111342767)"
      ]
     },
     "execution_count": 123,
     "metadata": {},
     "output_type": "execute_result"
    }
   ],
   "source": [
    "# PRE-PROCESSING\n",
    "Xtrain_meth_mg  = mg.fit_transform(Xtrain_meth) # Fill here with fit_transform\n",
    "Xtrain_blend_mg = mg.transform(Xtrain_blend)\n",
    "Xtest_blend_mg  = mg.transform(Xtest)\n",
    "Xtrain_meth_ha  = pd.DataFrame()\n",
    "Xtrain_blend_ha = pd.DataFrame()\n",
    "Xtest_blend_ha  = pd.DataFrame()\n",
    "for col in Xtrain_meth_mg.columns:\n",
    "    Xtrain_meth_ha[col]  = Xtrain_meth_mg[col].apply(lambda x : hash(str(x)) % 1000000) # Fill here defining a lambda function\n",
    "    Xtrain_blend_ha[col] = Xtrain_blend_mg[col].apply(lambda x : hash(str(x)) % 1000000)\n",
    "    Xtest_blend_ha[col]  = Xtest_blend_mg[col].apply(lambda x : hash(str(x)) % 1000000)\n",
    "\n",
    "# FIT MODEL\n",
    "xgb = XGBClassifier(n_estimators=50, learning_rate=1, n_jobs=-1)\n",
    "xgb.fit(Xtrain_meth_ha, ytrain_meth)\n",
    "score_xgb_train = xgb.predict_proba(Xtrain_blend_ha)[:,1]\n",
    "score_xgb_test  = xgb.predict_proba(Xtest_blend_ha)[:,1]\n",
    "\n",
    "log_loss(ytrain_blend, score_xgb_train), roc_auc_score(ytrain_blend, score_xgb_train)"
   ]
  },
  {
   "cell_type": "markdown",
   "metadata": {
    "colab_type": "text",
    "id": "b8voXiEwOqxk"
   },
   "source": [
    "<font color=\"red\">\n",
    "Do the same with a RandomForest (save the score).</font>"
   ]
  },
  {
   "cell_type": "code",
   "execution_count": 124,
   "metadata": {
    "ExecuteTime": {
     "end_time": "2019-12-19T18:56:12.597269Z",
     "start_time": "2019-12-19T18:52:09.008221Z"
    },
    "colab": {},
    "colab_type": "code",
    "id": "At6NVRKZOqxi"
   },
   "outputs": [
    {
     "name": "stderr",
     "output_type": "stream",
     "text": [
      "[Parallel(n_jobs=-1)]: Using backend ThreadingBackend with 4 concurrent workers.\n",
      "[Parallel(n_jobs=-1)]: Done  42 tasks      | elapsed:   40.4s\n",
      "[Parallel(n_jobs=-1)]: Done 192 tasks      | elapsed:  2.9min\n",
      "[Parallel(n_jobs=-1)]: Done 256 out of 256 | elapsed:  3.9min finished\n",
      "[Parallel(n_jobs=4)]: Using backend ThreadingBackend with 4 concurrent workers.\n",
      "[Parallel(n_jobs=4)]: Done  42 tasks      | elapsed:    1.2s\n",
      "[Parallel(n_jobs=4)]: Done 192 tasks      | elapsed:    4.5s\n",
      "[Parallel(n_jobs=4)]: Done 256 out of 256 | elapsed:    5.9s finished\n",
      "[Parallel(n_jobs=4)]: Using backend ThreadingBackend with 4 concurrent workers.\n",
      "[Parallel(n_jobs=4)]: Done  42 tasks      | elapsed:    0.5s\n",
      "[Parallel(n_jobs=4)]: Done 192 tasks      | elapsed:    2.2s\n",
      "[Parallel(n_jobs=4)]: Done 256 out of 256 | elapsed:    2.9s finished\n"
     ]
    },
    {
     "data": {
      "text/plain": [
       "(0.4044858178121832, 0.7344406839463467)"
      ]
     },
     "execution_count": 124,
     "metadata": {},
     "output_type": "execute_result"
    }
   ],
   "source": [
    "rf = RandomForestClassifier(n_estimators=256,min_samples_leaf=20,verbose=1,n_jobs=-1)\n",
    "rf.fit(Xtrain_meth_ha, ytrain_meth)\n",
    "score_rf_train = rf.predict_proba(Xtrain_blend_ha)[:,1]\n",
    "score_rf_test = rf.predict_proba(Xtest_blend_ha)[:,1]\n",
    "\n",
    "log_loss(ytrain_blend, score_rf_train), roc_auc_score(ytrain_blend, score_rf_train)"
   ]
  },
  {
   "cell_type": "markdown",
   "metadata": {
    "colab_type": "text",
    "id": "iJcPtHjLOqxh"
   },
   "source": [
    "<font color=\"red\">\n",
    "Now with an extraTrees.</font>"
   ]
  },
  {
   "cell_type": "code",
   "execution_count": 125,
   "metadata": {
    "ExecuteTime": {
     "end_time": "2019-12-19T18:58:35.852549Z",
     "start_time": "2019-12-19T18:56:17.740576Z"
    },
    "colab": {},
    "colab_type": "code",
    "id": "3GVkx2YjOqxf"
   },
   "outputs": [
    {
     "data": {
      "text/plain": [
       "(0.40913314926636934, 0.7257579833860874)"
      ]
     },
     "execution_count": 125,
     "metadata": {},
     "output_type": "execute_result"
    }
   ],
   "source": [
    "from sklearn.ensemble import ExtraTreesClassifier\n",
    "tr = ExtraTreesClassifier(n_estimators=100,min_samples_leaf=20)\n",
    "tr.fit(Xtrain_meth_ha, ytrain_meth)\n",
    "score_tr_train = tr.predict_proba(Xtrain_blend_ha)[:,1]\n",
    "score_tr_test  = tr.predict_proba(Xtest_blend_ha)[:,1]\n",
    "\n",
    "log_loss(ytrain_blend, score_tr_train), roc_auc_score(ytrain_blend, score_tr_train)"
   ]
  },
  {
   "cell_type": "markdown",
   "metadata": {
    "colab_type": "text",
    "id": "wUy2BfQSOqxe"
   },
   "source": [
    "<font color=\"red\">\n",
    "And again with FFM.</font>"
   ]
  },
  {
   "cell_type": "code",
   "execution_count": 126,
   "metadata": {
    "ExecuteTime": {
     "end_time": "2019-12-19T19:00:55.871080Z",
     "start_time": "2019-12-19T18:58:41.714085Z"
    },
    "colab": {},
    "colab_type": "code",
    "id": "PmSahlQCOqxb"
   },
   "outputs": [
    {
     "name": "stdout",
     "output_type": "stream",
     "text": [
      "First check if the text file has already been converted to binary format (0.6 seconds)\n",
      "Binary file found. Skip converting text to binary\n",
      "First check if the text file has already been converted to binary format (0.1 seconds)\n",
      "Binary file found. Skip converting text to binary\n",
      "iter   tr_logloss   va_logloss      tr_time\n",
      "   1      0.41137      0.40672          5.7\n",
      "   2      0.40321      0.40376         11.3\n",
      "   3      0.40104      0.40265         16.7\n",
      "   4      0.39973      0.40237         22.4\n",
      "   5      0.39877      0.40138         27.8\n",
      "   6      0.39807      0.40099         33.3\n",
      "   7      0.39745      0.40071         38.6\n",
      "   8      0.39694      0.40083\n",
      "Auto-stop. Use model at 7th iteration.\n",
      "logloss = 0.40071\n",
      "logloss = 0.39799\n"
     ]
    },
    {
     "data": {
      "text/plain": [
       "(0.40071432615382624, 0.7417454789623831)"
      ]
     },
     "execution_count": 126,
     "metadata": {},
     "output_type": "execute_result"
    }
   ],
   "source": [
    "# PRE-PROCESSING\n",
    "Xtrain_meth_ffm  = pd.DataFrame()\n",
    "Xtrain_blend_ffm = pd.DataFrame()\n",
    "Xtest_blend_ffm  = pd.DataFrame()\n",
    "for col in Xtrain_meth_ha.columns:\n",
    "    Xtrain_meth_ffm[col]  = Xtrain_meth_ha[col].apply( lambda x : str(col) + '_' + str(x))\n",
    "    Xtrain_blend_ffm[col] = Xtrain_blend_ha[col].apply( lambda x : str(col) + '_' + str(x))\n",
    "    Xtest_blend_ffm[col]  = Xtest_blend_ha[col].apply( lambda x : str(col) + '_' + str(x))\n",
    "allvals = []\n",
    "allcols_ffm = [col for f in fields for col in f]  # Toutes les colonnes appartenant à l'un des champ\n",
    "for col in allcols_ffm:\n",
    "    allvals.append(np.unique(Xtrain_meth_ffm[col]))\n",
    "allvals = [val for sublist in allvals for val in sublist]\n",
    "dicFeat = {val:i for i,val in enumerate(allvals) }\n",
    "for col in allcols_ffm:\n",
    "    f = dicFields[col]\n",
    "    Xtrain_meth_ffm[col]  = Xtrain_meth_ffm[col].apply(lambda x:\"{}:{}:1\".format(f,dicFeat[x]) if x in dicFeat else \"\")\n",
    "    Xtrain_blend_ffm[col] = Xtrain_blend_ffm[col].apply(lambda x:\"{}:{}:1\".format(f,dicFeat[x]) if x in dicFeat else \"\")\n",
    "    Xtest_blend_ffm[col]  = Xtest_blend_ffm[col].apply(lambda x:\"{}:{}:1\".format(f,dicFeat[x]) if x in dicFeat else \"\")\n",
    "\n",
    "yXtrain_ffm  = pd.concat( (ytrain_meth.apply(str), Xtrain_meth_ffm) , axis=1)\n",
    "yXtest_ffm   = pd.concat( (ytrain_blend.apply(str), Xtrain_blend_ffm) , axis=1)\n",
    "yXtest_ffm_2 = pd.concat( (ytest.apply(str), Xtest_blend_ffm) , axis=1)     \n",
    "\n",
    "train_blend  = yXtrain_ffm.apply(lambda row:' '.join(row.values),axis=1).values\n",
    "test_blend   = yXtest_ffm.apply(lambda row:' '.join(row.values),axis=1).values \n",
    "test_blend_2 = yXtest_ffm_2.apply(lambda row:' '.join(row.values),axis=1).values       \n",
    "\n",
    "thefile = open('data_tp/train_blend.txt','w')\n",
    "for item in train_blend:\n",
    "    thefile.write(\"%s\\n\" % item)\n",
    "thefile.close()\n",
    "thefile = open('data_tp/test_blend.txt','w')\n",
    "for item in test_blend:\n",
    "    thefile.write(\"%s\\n\" % item)\n",
    "thefile.close()\n",
    "thefile = open('data_tp/test_blend_2.txt','w')\n",
    "for item in test_blend_2:\n",
    "    thefile.write(\"%s\\n\" % item)\n",
    "thefile.close()\n",
    "# FIT MODEL\n",
    "!\"libffm\\windows\\ffm-train\" -l 0.00001 -r 0.05 -k 15 -t 30 --auto-stop -p \"data_tp\\test_blend.txt\" \"data_tp\\train_blend.txt\" \"data_tp\\model_blend.txt\"\n",
    "!\"libffm\\windows\\ffm-predict\" \"data_tp\\test_blend.txt\" \"data_tp\\model_blend.txt\" \"data_tp\\predict_blend.txt\"\n",
    "!\"libffm\\windows\\ffm-predict\" \"data_tp\\test_blend_2.txt\" \"data_tp\\model_blend.txt\" \"data_tp\\predict_test.txt\"\n",
    "score_ffm_train = pd.read_csv('data_tp\\predict_blend.txt', header=None).values.ravel()\n",
    "score_ffm_test = pd.read_csv('data_tp\\predict_test.txt', header=None).values.ravel()\n",
    "\n",
    "log_loss(ytrain_blend, score_ffm_train), roc_auc_score(ytrain_blend, score_ffm_train)"
   ]
  },
  {
   "cell_type": "markdown",
   "metadata": {
    "colab_type": "text",
    "id": "Jk56lAPTOqxZ"
   },
   "source": [
    "<font color=\"red\">\n",
    "Concatenate all scores on Xtrain_blend to form a Zblend design matrix.</font>"
   ]
  },
  {
   "cell_type": "code",
   "execution_count": 127,
   "metadata": {
    "ExecuteTime": {
     "end_time": "2019-12-19T19:01:01.613122Z",
     "start_time": "2019-12-19T19:01:01.574226Z"
    },
    "colab": {},
    "colab_type": "code",
    "id": "y4Fz0wSLOqxT"
   },
   "outputs": [],
   "source": [
    "Zblend_train = np.concatenate((score_lr_train.reshape(-1,1), score_xgb_train.reshape(-1,1), score_rf_train.reshape(-1,1), score_tr_train.reshape(-1,1), score_ffm_train.reshape(-1,1)),axis=1)\n",
    "Zblend_test  = np.concatenate((score_lr_test.reshape(-1,1), score_xgb_test.reshape(-1,1), score_rf_test.reshape(-1,1), score_tr_test.reshape(-1,1), score_ffm_test.reshape(-1,1)),axis=1)"
   ]
  },
  {
   "cell_type": "markdown",
   "metadata": {
    "colab_type": "text",
    "id": "px1CkkL7OqxR"
   },
   "source": [
    "<font color=\"red\">\n",
    "Train a logistic regression on (Zblend,ytrain_blend).</font>"
   ]
  },
  {
   "cell_type": "code",
   "execution_count": 128,
   "metadata": {
    "ExecuteTime": {
     "end_time": "2019-12-19T19:01:07.598048Z",
     "start_time": "2019-12-19T19:01:07.112348Z"
    },
    "colab": {},
    "colab_type": "code",
    "id": "awqpZTPhOqxN"
   },
   "outputs": [
    {
     "data": {
      "text/plain": [
       "LogisticRegression(C=1.0, class_weight=None, dual=False, fit_intercept=True,\n",
       "                   intercept_scaling=1, l1_ratio=None, max_iter=100,\n",
       "                   multi_class='warn', n_jobs=None, penalty='l2',\n",
       "                   random_state=None, solver='liblinear', tol=0.0001, verbose=0,\n",
       "                   warm_start=False)"
      ]
     },
     "execution_count": 128,
     "metadata": {},
     "output_type": "execute_result"
    }
   ],
   "source": [
    "# FIT MODEL\n",
    "lr = LogisticRegression(solver='liblinear')\n",
    "lr.fit(Zblend_train,ytrain_blend)"
   ]
  },
  {
   "cell_type": "markdown",
   "metadata": {
    "colab_type": "text",
    "id": "nzWT4vH-OqxJ"
   },
   "source": [
    "<font color=\"red\">\n",
    "Evaluate the performance of this model on the test dataset.</font>"
   ]
  },
  {
   "cell_type": "code",
   "execution_count": 129,
   "metadata": {
    "ExecuteTime": {
     "end_time": "2019-12-19T19:01:13.386828Z",
     "start_time": "2019-12-19T19:01:13.280116Z"
    },
    "colab": {},
    "colab_type": "code",
    "id": "zq_IriMnOqw6"
   },
   "outputs": [
    {
     "data": {
      "text/plain": [
       "(0.4026378743227604, 0.7474785596474428)"
      ]
     },
     "execution_count": 129,
     "metadata": {},
     "output_type": "execute_result"
    }
   ],
   "source": [
    "score_blend = lr.predict_proba(Zblend_test)[:,1]\n",
    "log_loss(ytest, score_blend), roc_auc_score(ytest, score_blend)"
   ]
  },
  {
   "cell_type": "markdown",
   "metadata": {
    "ExecuteTime": {
     "end_time": "2019-12-19T18:42:48.441763Z",
     "start_time": "2019-12-19T18:42:48.435766Z"
    }
   },
   "source": [
    "<font color=\"blue\"> This blending doesn't seem to improve the classification. </font>"
   ]
  }
 ],
 "metadata": {
  "colab": {
   "collapsed_sections": [
    "1xrsFhCiYcT5",
    "Aw0uqHqTYcVd",
    "cF3oNg2BYcWo",
    "lahZdWm6YcXT"
   ],
   "name": "TP1-avazu-blank.ipynb",
   "provenance": []
  },
  "kernelspec": {
   "display_name": "Python 3",
   "language": "python",
   "name": "python3"
  },
  "language_info": {
   "codemirror_mode": {
    "name": "ipython",
    "version": 3
   },
   "file_extension": ".py",
   "mimetype": "text/x-python",
   "name": "python",
   "nbconvert_exporter": "python",
   "pygments_lexer": "ipython3",
   "version": "3.7.4"
  },
  "toc": {
   "base_numbering": 1,
   "nav_menu": {},
   "number_sections": true,
   "sideBar": true,
   "skip_h1_title": false,
   "title_cell": "Table of Contents",
   "title_sidebar": "Contents",
   "toc_cell": false,
   "toc_position": {
    "height": "calc(100% - 180px)",
    "left": "10px",
    "top": "150px",
    "width": "225.542px"
   },
   "toc_section_display": true,
   "toc_window_display": true
  },
  "varInspector": {
   "cols": {
    "lenName": 16,
    "lenType": 16,
    "lenVar": 40
   },
   "kernels_config": {
    "python": {
     "delete_cmd_postfix": "",
     "delete_cmd_prefix": "del ",
     "library": "var_list.py",
     "varRefreshCmd": "print(var_dic_list())"
    },
    "r": {
     "delete_cmd_postfix": ") ",
     "delete_cmd_prefix": "rm(",
     "library": "var_list.r",
     "varRefreshCmd": "cat(var_dic_list()) "
    }
   },
   "position": {
    "height": "607.222px",
    "left": "1336.67px",
    "right": "20px",
    "top": "120px",
    "width": "350px"
   },
   "types_to_exclude": [
    "module",
    "function",
    "builtin_function_or_method",
    "instance",
    "_Feature"
   ],
   "window_display": false
  }
 },
 "nbformat": 4,
 "nbformat_minor": 1
}
